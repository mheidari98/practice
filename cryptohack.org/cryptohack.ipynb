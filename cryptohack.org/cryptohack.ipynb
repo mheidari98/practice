{
 "cells": [
  {
   "cell_type": "markdown",
   "id": "d0dc1ced",
   "metadata": {},
   "source": [
    "# cryptohack challenges  \n",
    "> https://cryptohack.org/courses/  \n",
    "> https://cryptohack.org/challenges/"
   ]
  },
  {
   "cell_type": "markdown",
   "id": "bdf93870",
   "metadata": {},
   "source": [
    "## Introduction \n",
    "> https://cryptohack.org/challenges/introduction/"
   ]
  },
  {
   "cell_type": "markdown",
   "id": "42de4881",
   "metadata": {},
   "source": [
    "#### Finding Flags"
   ]
  },
  {
   "cell_type": "markdown",
   "id": "73516dd1",
   "metadata": {},
   "source": [
    "```crypto{y0ur_f1rst_fl4g}```"
   ]
  },
  {
   "cell_type": "markdown",
   "id": "27ad09bb",
   "metadata": {},
   "source": [
    "#### Great Snakes"
   ]
  },
  {
   "cell_type": "code",
   "execution_count": 1,
   "id": "bfa1c0c4",
   "metadata": {},
   "outputs": [
    {
     "name": "stdout",
     "output_type": "stream",
     "text": [
      "Here is your flag:\n",
      "crypto{z3n_0f_pyth0n}\n"
     ]
    }
   ],
   "source": [
    "import sys\n",
    "# import this\n",
    "\n",
    "if sys.version_info.major == 2:\n",
    "    print(\"You are running Python 2, which is no longer supported. Please update to Python 3.\")\n",
    "\n",
    "ords = [81, 64, 75, 66, 70, 93, 73, 72, 1, 92, 109, 2, 84, 109, 66, 75, 70, 90, 2, 92, 79]\n",
    "\n",
    "print(\"Here is your flag:\")\n",
    "print(\"\".join(chr(o ^ 0x32) for o in ords))   # crypto{z3n_0f_pyth0n}"
   ]
  },
  {
   "cell_type": "markdown",
   "id": "d723b8f9",
   "metadata": {},
   "source": [
    "#### Network Attacks"
   ]
  },
  {
   "cell_type": "code",
   "execution_count": 2,
   "id": "52c6460c",
   "metadata": {},
   "outputs": [
    {
     "name": "stdout",
     "output_type": "stream",
     "text": [
      "b\"Welcome to netcat's flag shop!\\n\"\n",
      "b'What would you like to buy?\\n'\n",
      "b\"I only speak JSON, I hope that's ok.\\n\"\n",
      "b'\\n'\n",
      "{'flag': 'crypto{sh0pp1ng_f0r_fl4g5}'}\n"
     ]
    }
   ],
   "source": [
    "import telnetlib\n",
    "import json\n",
    "\n",
    "HOST = \"socket.cryptohack.org\"\n",
    "PORT = 11112\n",
    "\n",
    "tn = telnetlib.Telnet(HOST, PORT)\n",
    "\n",
    "\n",
    "def readline():\n",
    "    return tn.read_until(b\"\\n\")\n",
    "\n",
    "def json_recv():\n",
    "    line = readline()\n",
    "    return json.loads(line.decode())\n",
    "\n",
    "def json_send(hsh):\n",
    "    request = json.dumps(hsh).encode()\n",
    "    tn.write(request)\n",
    "\n",
    "\n",
    "print(readline())\n",
    "print(readline())\n",
    "print(readline())\n",
    "print(readline())\n",
    "\n",
    "\n",
    "request = {\n",
    "    \"buy\": \"flag\"\n",
    "}\n",
    "json_send(request)\n",
    "\n",
    "response = json_recv()\n",
    "\n",
    "print(response)   # crypto{sh0pp1ng_f0r_fl4g5}"
   ]
  },
  {
   "cell_type": "code",
   "execution_count": null,
   "id": "d44bf544",
   "metadata": {},
   "outputs": [],
   "source": []
  },
  {
   "cell_type": "markdown",
   "id": "c3544e17",
   "metadata": {},
   "source": [
    "## General\n",
    "> https://cryptohack.org/challenges/general/"
   ]
  },
  {
   "cell_type": "markdown",
   "id": "fbe72691",
   "metadata": {},
   "source": [
    "### Encoding"
   ]
  },
  {
   "cell_type": "markdown",
   "id": "11629b0a",
   "metadata": {},
   "source": [
    "#### ASCII"
   ]
  },
  {
   "cell_type": "code",
   "execution_count": 3,
   "id": "6359d880",
   "metadata": {},
   "outputs": [
    {
     "data": {
      "text/plain": [
       "'crypto{ASCII_pr1nt4bl3}'"
      ]
     },
     "execution_count": 3,
     "metadata": {},
     "output_type": "execute_result"
    }
   ],
   "source": [
    "arr = [99, 114, 121, 112, 116, 111, 123, 65, 83, 67, 73, 73, 95, 112, 114, 49, 110, 116, 52, 98, 108, 51, 125]\n",
    "res = ''.join([chr(i) for i in arr])\n",
    "res   # crypto{ASCII_pr1nt4bl3}"
   ]
  },
  {
   "cell_type": "code",
   "execution_count": 4,
   "id": "c8f164ba",
   "metadata": {},
   "outputs": [
    {
     "data": {
      "text/plain": [
       "True"
      ]
     },
     "execution_count": 4,
     "metadata": {},
     "output_type": "execute_result"
    }
   ],
   "source": [
    "arr == [ord(i) for i in res]"
   ]
  },
  {
   "cell_type": "markdown",
   "id": "45181b65",
   "metadata": {},
   "source": [
    "#### Hex"
   ]
  },
  {
   "cell_type": "code",
   "execution_count": 5,
   "id": "ba852bb7",
   "metadata": {},
   "outputs": [
    {
     "data": {
      "text/plain": [
       "b'crypto{You_will_be_working_with_hex_strings_a_lot}'"
      ]
     },
     "execution_count": 5,
     "metadata": {},
     "output_type": "execute_result"
    }
   ],
   "source": [
    "hexStr = '63727970746f7b596f755f77696c6c5f62655f776f726b696e675f776974685f6865785f737472696e67735f615f6c6f747d'\n",
    "\n",
    "res = bytes.fromhex(hexStr)\n",
    "res   # crypto{You_will_be_working_with_hex_strings_a_lot}"
   ]
  },
  {
   "cell_type": "code",
   "execution_count": 6,
   "id": "b5454b9c",
   "metadata": {},
   "outputs": [
    {
     "data": {
      "text/plain": [
       "True"
      ]
     },
     "execution_count": 6,
     "metadata": {},
     "output_type": "execute_result"
    }
   ],
   "source": [
    "hexStr == res.hex()"
   ]
  },
  {
   "cell_type": "markdown",
   "id": "1896ad53",
   "metadata": {},
   "source": [
    "#### Base64"
   ]
  },
  {
   "cell_type": "code",
   "execution_count": 7,
   "id": "268e259f",
   "metadata": {},
   "outputs": [
    {
     "data": {
      "text/plain": [
       "b'crypto/Base+64+Encoding+is+Web+Safe/'"
      ]
     },
     "execution_count": 7,
     "metadata": {},
     "output_type": "execute_result"
    }
   ],
   "source": [
    "import base64\n",
    "\n",
    "hexStr = '72bca9b68fc16ac7beeb8f849dca1d8a783e8acf9679bf9269f7bf'\n",
    "\n",
    "res = base64.b64encode( bytes.fromhex(hexStr) )\n",
    "res   # crypto/Base+64+Encoding+is+Web+Safe/"
   ]
  },
  {
   "cell_type": "code",
   "execution_count": 8,
   "id": "0a52a953",
   "metadata": {},
   "outputs": [
    {
     "data": {
      "text/plain": [
       "True"
      ]
     },
     "execution_count": 8,
     "metadata": {},
     "output_type": "execute_result"
    }
   ],
   "source": [
    "hexStr == base64.b64decode(res).hex()"
   ]
  },
  {
   "cell_type": "markdown",
   "id": "e4059e1b",
   "metadata": {},
   "source": [
    "#### Bytes and Big Integers"
   ]
  },
  {
   "cell_type": "code",
   "execution_count": 12,
   "id": "04704783",
   "metadata": {},
   "outputs": [
    {
     "data": {
      "text/plain": [
       "b'crypto{3nc0d1n6_4ll_7h3_w4y_d0wn}'"
      ]
     },
     "execution_count": 12,
     "metadata": {},
     "output_type": "execute_result"
    }
   ],
   "source": [
    "from Crypto.Util.number import *\n",
    "\n",
    "intValue = 11515195063862318899931685488813747395775516287289682636499965282714637259206269\n",
    "\n",
    "res = long_to_bytes(intValue)\n",
    "res   # crypto{3nc0d1n6_4ll_7h3_w4y_d0wn}"
   ]
  },
  {
   "cell_type": "code",
   "execution_count": 4,
   "id": "4df5e393",
   "metadata": {},
   "outputs": [
    {
     "data": {
      "text/plain": [
       "True"
      ]
     },
     "execution_count": 4,
     "metadata": {},
     "output_type": "execute_result"
    }
   ],
   "source": [
    "intValue == bytes_to_long(res)"
   ]
  },
  {
   "cell_type": "markdown",
   "id": "ac37e3b1",
   "metadata": {},
   "source": [
    "#### Encoding Challenge"
   ]
  },
  {
   "cell_type": "code",
   "execution_count": 11,
   "id": "77743773",
   "metadata": {},
   "outputs": [
    {
     "name": "stdout",
     "output_type": "stream",
     "text": [
      "[x] Opening connection to socket.cryptohack.org on port 13377\n",
      "[x] Opening connection to socket.cryptohack.org on port 13377: Trying 134.122.111.232\n",
      "[+] Opening connection to socket.cryptohack.org on port 13377: Done\n",
      "[DEBUG] Received 0x50 bytes:\n",
      "    b'{\"type\": \"bigint\", \"encoded\": \"0x62616e5f636f7079696e675f706879736963616c6c79\"}\\n'\n",
      "[!] {'type': 'bigint', 'encoded': '0x62616e5f636f7079696e675f706879736963616c6c79'}\n",
      "[+] {'decoded': 'ban_copying_physically'}\n",
      "[DEBUG] Sent 0x26 bytes:\n",
      "    b'{\"decoded\": \"ban_copying_physically\"}\\n'\n",
      "[DEBUG] Received 0x59 bytes:\n",
      "    b'{\"type\": \"hex\", \"encoded\": \"70726f6772616d6d65725f6672696461795f70726f706f736974696f6e\"}\\n'\n",
      "[!] {'type': 'hex', 'encoded': '70726f6772616d6d65725f6672696461795f70726f706f736974696f6e'}\n",
      "[+] {'decoded': 'programmer_friday_proposition'}\n",
      "[DEBUG] Sent 0x2d bytes:\n",
      "    b'{\"decoded\": \"programmer_friday_proposition\"}\\n'\n",
      "[DEBUG] Received 0x70 bytes:\n",
      "    b'{\"type\": \"utf-8\", \"encoded\": [102, 108, 111, 114, 105, 115, 116, 115, 95, 115, 97, 111, 95, 107, 97, 114, 108]}\\n'\n",
      "[!] {'type': 'utf-8', 'encoded': [102, 108, 111, 114, 105, 115, 116, 115, 95, 115, 97, 111, 95, 107, 97, 114, 108]}\n",
      "[+] {'decoded': 'florists_sao_karl'}\n",
      "[DEBUG] Sent 0x21 bytes:\n",
      "    b'{\"decoded\": \"florists_sao_karl\"}\\n'\n",
      "[DEBUG] Received 0x5c bytes:\n",
      "    b'{\"type\": \"utf-8\", \"encoded\": [112, 97, 114, 116, 108, 121, 95, 100, 98, 95, 122, 101, 110]}\\n'\n",
      "[!] {'type': 'utf-8', 'encoded': [112, 97, 114, 116, 108, 121, 95, 100, 98, 95, 122, 101, 110]}\n",
      "[+] {'decoded': 'partly_db_zen'}\n",
      "[DEBUG] Sent 0x1d bytes:\n",
      "    b'{\"decoded\": \"partly_db_zen\"}\\n'\n",
      "[DEBUG] Received 0x76 bytes:\n",
      "    b'{\"type\": \"utf-8\", \"encoded\": [117, 119, 95, 115, 112, 111, 110, 115, 111, 114, 115, 95, 101, 116, 104, 105, 99, 115]}\\n'\n",
      "[!] {'type': 'utf-8', 'encoded': [117, 119, 95, 115, 112, 111, 110, 115, 111, 114, 115, 95, 101, 116, 104, 105, 99, 115]}\n",
      "[+] {'decoded': 'uw_sponsors_ethics'}\n",
      "[DEBUG] Sent 0x22 bytes:\n",
      "    b'{\"decoded\": \"uw_sponsors_ethics\"}\\n'\n",
      "[DEBUG] Received 0x97 bytes:\n",
      "    b'{\"type\": \"utf-8\", \"encoded\": [99, 117, 108, 116, 117, 114, 97, 108, 95, 98, 101, 108, 111, 119, 95, 100, 101, 118, 101, 108, 111, 112, 101, 114, 115]}\\n'\n",
      "[!] {'type': 'utf-8', 'encoded': [99, 117, 108, 116, 117, 114, 97, 108, 95, 98, 101, 108, 111, 119, 95, 100, 101, 118, 101, 108, 111, 112, 101, 114, 115]}\n",
      "[+] {'decoded': 'cultural_below_developers'}\n",
      "[DEBUG] Sent 0x29 bytes:\n",
      "    b'{\"decoded\": \"cultural_below_developers\"}\\n'\n",
      "[DEBUG] Received 0x51 bytes:\n",
      "    b'{\"type\": \"hex\", \"encoded\": \"7461696c5f64657465637465645f6a6f75726e616c69737473\"}\\n'\n",
      "[!] {'type': 'hex', 'encoded': '7461696c5f64657465637465645f6a6f75726e616c69737473'}\n",
      "[+] {'decoded': 'tail_detected_journalists'}\n",
      "[DEBUG] Sent 0x29 bytes:\n",
      "    b'{\"decoded\": \"tail_detected_journalists\"}\\n'\n",
      "[DEBUG] Received 0x50 bytes:\n",
      "    b'{\"type\": \"bigint\", \"encoded\": \"0x706f74746572795f6c656564735f6174686c65746573\"}\\n'\n",
      "[!] {'type': 'bigint', 'encoded': '0x706f74746572795f6c656564735f6174686c65746573'}\n",
      "[+] {'decoded': 'pottery_leeds_athletes'}\n",
      "[DEBUG] Sent 0x26 bytes:\n",
      "    b'{\"decoded\": \"pottery_leeds_athletes\"}\\n'\n",
      "[DEBUG] Received 0x32 bytes:\n",
      "    b'{\"type\": \"rot13\", \"encoded\": \"aa_qnivq_vfgnaohy\"}\\n'\n",
      "[!] {'type': 'rot13', 'encoded': 'aa_qnivq_vfgnaohy'}\n",
      "[+] {'decoded': 'nn_david_istanbul'}\n",
      "[DEBUG] Sent 0x21 bytes:\n",
      "    b'{\"decoded\": \"nn_david_istanbul\"}\\n'\n",
      "[DEBUG] Received 0x3d bytes:\n",
      "    b'{\"type\": \"hex\", \"encoded\": \"6272697461696e5f7368655f647565\"}\\n'\n",
      "[!] {'type': 'hex', 'encoded': '6272697461696e5f7368655f647565'}\n",
      "[+] {'decoded': 'britain_she_due'}\n",
      "[DEBUG] Sent 0x1f bytes:\n",
      "    b'{\"decoded\": \"britain_she_due\"}\\n'\n",
      "[DEBUG] Received 0x33 bytes:\n",
      "    b'{\"type\": \"rot13\", \"encoded\": \"uh_ergnva_npprffrq\"}\\n'\n",
      "[!] {'type': 'rot13', 'encoded': 'uh_ergnva_npprffrq'}\n",
      "[+] {'decoded': 'hu_retain_accessed'}\n",
      "[DEBUG] Sent 0x22 bytes:\n",
      "    b'{\"decoded\": \"hu_retain_accessed\"}\\n'\n",
      "[DEBUG] Received 0x42 bytes:\n",
      "    b'{\"type\": \"base64\", \"encoded\": \"YW50aWJvZHlfY29sbGVjdGlvbnNfc2F0\"}\\n'\n",
      "[!] {'type': 'base64', 'encoded': 'YW50aWJvZHlfY29sbGVjdGlvbnNfc2F0'}\n",
      "[+] {'decoded': 'antibody_collections_sat'}\n",
      "[DEBUG] Sent 0x28 bytes:\n",
      "    b'{\"decoded\": \"antibody_collections_sat\"}\\n'\n",
      "[DEBUG] Received 0x52 bytes:\n",
      "    b'{\"type\": \"bigint\", \"encoded\": \"0x6d6f6c6563756c61725f686f6d65746f776e5f63656c6c\"}\\n'\n",
      "[!] {'type': 'bigint', 'encoded': '0x6d6f6c6563756c61725f686f6d65746f776e5f63656c6c'}\n",
      "[+] {'decoded': 'molecular_hometown_cell'}\n",
      "[DEBUG] Sent 0x27 bytes:\n",
      "    b'{\"decoded\": \"molecular_hometown_cell\"}\\n'\n",
      "[DEBUG] Received 0xba bytes:\n",
      "    b'{\"type\": \"utf-8\", \"encoded\": [97, 100, 118, 101, 114, 116, 105, 115, 101, 114, 115, 95, 98, 97, 114, 114, 105, 101, 114, 115, 95, 115, 117, 112, 112, 108, 101, 109, 101, 110, 116, 115]}\\n'\n",
      "[!] {'type': 'utf-8', 'encoded': [97, 100, 118, 101, 114, 116, 105, 115, 101, 114, 115, 95, 98, 97, 114, 114, 105, 101, 114, 115, 95, 115, 117, 112, 112, 108, 101, 109, 101, 110, 116, 115]}\n",
      "[+] {'decoded': 'advertisers_barriers_supplements'}\n",
      "[DEBUG] Sent 0x30 bytes:\n",
      "    b'{\"decoded\": \"advertisers_barriers_supplements\"}\\n'\n",
      "[DEBUG] Received 0x3e bytes:\n",
      "    b'{\"type\": \"base64\", \"encoded\": \"dGVhcnNfd29yZF9qdWRpY2lhbA==\"}\\n'\n",
      "[!] {'type': 'base64', 'encoded': 'dGVhcnNfd29yZF9qdWRpY2lhbA=='}\n",
      "[+] {'decoded': 'tears_word_judicial'}\n",
      "[DEBUG] Sent 0x23 bytes:\n",
      "    b'{\"decoded\": \"tears_word_judicial\"}\\n'\n",
      "[DEBUG] Received 0x45 bytes:\n",
      "    b'{\"type\": \"hex\", \"encoded\": \"636861725f626f726465725f6d65646c696e65\"}\\n'\n",
      "[!] {'type': 'hex', 'encoded': '636861725f626f726465725f6d65646c696e65'}\n",
      "[+] {'decoded': 'char_border_medline'}\n",
      "[DEBUG] Sent 0x23 bytes:\n",
      "    b'{\"decoded\": \"char_border_medline\"}\\n'\n",
      "[DEBUG] Received 0x49 bytes:\n",
      "    b'{\"type\": \"hex\", \"encoded\": \"6672657175656e636965735f636c6561725f66756e\"}\\n'\n",
      "[!] {'type': 'hex', 'encoded': '6672657175656e636965735f636c6561725f66756e'}\n",
      "[+] {'decoded': 'frequencies_clear_fun'}\n",
      "[DEBUG] Sent 0x25 bytes:\n",
      "    b'{\"decoded\": \"frequencies_clear_fun\"}\\n'\n",
      "[DEBUG] Received 0x42 bytes:\n",
      "    b'{\"type\": \"base64\", \"encoded\": \"aWRlbnRpZnlpbmdfYmtfY29tZm9ydA==\"}\\n'\n",
      "[!] {'type': 'base64', 'encoded': 'aWRlbnRpZnlpbmdfYmtfY29tZm9ydA=='}\n",
      "[+] {'decoded': 'identifying_bk_comfort'}\n",
      "[DEBUG] Sent 0x26 bytes:\n",
      "    b'{\"decoded\": \"identifying_bk_comfort\"}\\n'\n",
      "[DEBUG] Received 0x35 bytes:\n",
      "    b'{\"type\": \"rot13\", \"encoded\": \"fgrira_guebhtu_jvgpu\"}\\n'\n",
      "[!] {'type': 'rot13', 'encoded': 'fgrira_guebhtu_jvgpu'}\n",
      "[+] {'decoded': 'steven_through_witch'}\n",
      "[DEBUG] Sent 0x24 bytes:\n",
      "    b'{\"decoded\": \"steven_through_witch\"}\\n'\n",
      "[DEBUG] Received 0x48 bytes:\n",
      "    b'{\"type\": \"bigint\", \"encoded\": \"0x626f7574697175655f6e76696469615f6567\"}\\n'\n",
      "[!] {'type': 'bigint', 'encoded': '0x626f7574697175655f6e76696469615f6567'}\n",
      "[+] {'decoded': 'boutique_nvidia_eg'}\n",
      "[DEBUG] Sent 0x22 bytes:\n",
      "    b'{\"decoded\": \"boutique_nvidia_eg\"}\\n'\n",
      "[DEBUG] Received 0x7e bytes:\n",
      "    b'{\"type\": \"utf-8\", \"encoded\": [98, 114, 111, 99, 104, 117, 114, 101, 115, 95, 105, 110, 107, 95, 111, 102, 102, 105, 99, 101]}\\n'\n",
      "[!] {'type': 'utf-8', 'encoded': [98, 114, 111, 99, 104, 117, 114, 101, 115, 95, 105, 110, 107, 95, 111, 102, 102, 105, 99, 101]}\n",
      "[+] {'decoded': 'brochures_ink_office'}\n",
      "[DEBUG] Sent 0x24 bytes:\n",
      "    b'{\"decoded\": \"brochures_ink_office\"}\\n'\n",
      "[DEBUG] Received 0x50 bytes:\n",
      "    b'{\"type\": \"bigint\", \"encoded\": \"0x73756666696369656e745f7074735f617474656d7074\"}\\n'\n",
      "[!] {'type': 'bigint', 'encoded': '0x73756666696369656e745f7074735f617474656d7074'}\n",
      "[+] {'decoded': 'sufficient_pts_attempt'}\n",
      "[DEBUG] Sent 0x26 bytes:\n",
      "    b'{\"decoded\": \"sufficient_pts_attempt\"}\\n'\n",
      "[DEBUG] Received 0x48 bytes:\n",
      "    b'{\"type\": \"bigint\", \"encoded\": \"0x70726f6475637469766974795f61615f6d75\"}\\n'\n",
      "[!] {'type': 'bigint', 'encoded': '0x70726f6475637469766974795f61615f6d75'}\n",
      "[+] {'decoded': 'productivity_aa_mu'}\n",
      "[DEBUG] Sent 0x22 bytes:\n",
      "    b'{\"decoded\": \"productivity_aa_mu\"}\\n'\n",
      "[DEBUG] Received 0x4e bytes:\n",
      "    b'{\"type\": \"bigint\", \"encoded\": \"0x646f63735f6575726f70655f646576656c6f706572\"}\\n'\n",
      "[!] {'type': 'bigint', 'encoded': '0x646f63735f6575726f70655f646576656c6f706572'}\n",
      "[+] {'decoded': 'docs_europe_developer'}\n",
      "[DEBUG] Sent 0x25 bytes:\n",
      "    b'{\"decoded\": \"docs_europe_developer\"}\\n'\n",
      "[DEBUG] Received 0x4e bytes:\n",
      "    b'{\"type\": \"bigint\", \"encoded\": \"0x6e6176795f6d616e75616c5f736372697074696e67\"}\\n'\n",
      "[!] {'type': 'bigint', 'encoded': '0x6e6176795f6d616e75616c5f736372697074696e67'}\n",
      "[+] {'decoded': 'navy_manual_scripting'}\n",
      "[DEBUG] Sent 0x25 bytes:\n"
     ]
    },
    {
     "name": "stdout",
     "output_type": "stream",
     "text": [
      "    b'{\"decoded\": \"navy_manual_scripting\"}\\n'\n",
      "[DEBUG] Received 0x3e bytes:\n",
      "    b'{\"type\": \"base64\", \"encoded\": \"c3RpY2tlcnNfb3duc19idXJkZW4=\"}\\n'\n",
      "[!] {'type': 'base64', 'encoded': 'c3RpY2tlcnNfb3duc19idXJkZW4='}\n",
      "[+] {'decoded': 'stickers_owns_burden'}\n",
      "[DEBUG] Sent 0x24 bytes:\n",
      "    b'{\"decoded\": \"stickers_owns_burden\"}\\n'\n",
      "[DEBUG] Received 0x36 bytes:\n",
      "    b'{\"type\": \"rot13\", \"encoded\": \"cvnab_jneavatf_flqarl\"}\\n'\n",
      "[!] {'type': 'rot13', 'encoded': 'cvnab_jneavatf_flqarl'}\n",
      "[+] {'decoded': 'piano_warnings_sydney'}\n",
      "[DEBUG] Sent 0x25 bytes:\n",
      "    b'{\"decoded\": \"piano_warnings_sydney\"}\\n'\n",
      "[DEBUG] Received 0x76 bytes:\n",
      "    b'{\"type\": \"utf-8\", \"encoded\": [100, 100, 95, 104, 105, 108, 116, 111, 110, 95, 100, 101, 117, 116, 115, 99, 104, 101]}\\n'\n",
      "[!] {'type': 'utf-8', 'encoded': [100, 100, 95, 104, 105, 108, 116, 111, 110, 95, 100, 101, 117, 116, 115, 99, 104, 101]}\n",
      "[+] {'decoded': 'dd_hilton_deutsche'}\n",
      "[DEBUG] Sent 0x22 bytes:\n",
      "    b'{\"decoded\": \"dd_hilton_deutsche\"}\\n'\n",
      "[DEBUG] Received 0x5e bytes:\n",
      "    b'{\"type\": \"bigint\", \"encoded\": \"0x646966666572656e746c795f70726f6a6563746f725f6d656173757265\"}\\n'\n",
      "[!] {'type': 'bigint', 'encoded': '0x646966666572656e746c795f70726f6a6563746f725f6d656173757265'}\n",
      "[+] {'decoded': 'differently_projector_measure'}\n",
      "[DEBUG] Sent 0x2d bytes:\n",
      "    b'{\"decoded\": \"differently_projector_measure\"}\\n'\n",
      "[DEBUG] Received 0x3f bytes:\n",
      "    b'{\"type\": \"rot13\", \"encoded\": \"punyyratvat_fhssvpvrag_yrtnyyl\"}\\n'\n",
      "[!] {'type': 'rot13', 'encoded': 'punyyratvat_fhssvpvrag_yrtnyyl'}\n",
      "[+] {'decoded': 'challenging_sufficient_legally'}\n",
      "[DEBUG] Sent 0x2e bytes:\n",
      "    b'{\"decoded\": \"challenging_sufficient_legally\"}\\n'\n",
      "[DEBUG] Received 0x3a bytes:\n",
      "    b'{\"type\": \"rot13\", \"encoded\": \"nqncgbe_tenivgl_pbagvahrq\"}\\n'\n",
      "[!] {'type': 'rot13', 'encoded': 'nqncgbe_tenivgl_pbagvahrq'}\n",
      "[+] {'decoded': 'adaptor_gravity_continued'}\n",
      "[DEBUG] Sent 0x29 bytes:\n",
      "    b'{\"decoded\": \"adaptor_gravity_continued\"}\\n'\n",
      "[DEBUG] Received 0x43 bytes:\n",
      "    b'{\"type\": \"hex\", \"encoded\": \"6573706e5f6d6f6c6563756c61725f76616c\"}\\n'\n",
      "[!] {'type': 'hex', 'encoded': '6573706e5f6d6f6c6563756c61725f76616c'}\n",
      "[+] {'decoded': 'espn_molecular_val'}\n",
      "[DEBUG] Sent 0x22 bytes:\n",
      "    b'{\"decoded\": \"espn_molecular_val\"}\\n'\n",
      "[DEBUG] Received 0x42 bytes:\n",
      "    b'{\"type\": \"bigint\", \"encoded\": \"0x677579735f6c6162656c735f6f6c64\"}\\n'\n",
      "[!] {'type': 'bigint', 'encoded': '0x677579735f6c6162656c735f6f6c64'}\n",
      "[+] {'decoded': 'guys_labels_old'}\n",
      "[DEBUG] Sent 0x1f bytes:\n",
      "    b'{\"decoded\": \"guys_labels_old\"}\\n'\n",
      "[DEBUG] Received 0x49 bytes:\n",
      "    b'{\"type\": \"hex\", \"encoded\": \"63616e7661735f7368656c6c5f6465736b746f7073\"}\\n'\n",
      "[!] {'type': 'hex', 'encoded': '63616e7661735f7368656c6c5f6465736b746f7073'}\n",
      "[+] {'decoded': 'canvas_shell_desktops'}\n",
      "[DEBUG] Sent 0x25 bytes:\n",
      "    b'{\"decoded\": \"canvas_shell_desktops\"}\\n'\n",
      "[DEBUG] Received 0x5c bytes:\n",
      "    b'{\"type\": \"bigint\", \"encoded\": \"0x61776172656e6573735f696e74656772617465645f6f626a65637473\"}\\n'\n",
      "[!] {'type': 'bigint', 'encoded': '0x61776172656e6573735f696e74656772617465645f6f626a65637473'}\n",
      "[+] {'decoded': 'awareness_integrated_objects'}\n",
      "[DEBUG] Sent 0x2c bytes:\n",
      "    b'{\"decoded\": \"awareness_integrated_objects\"}\\n'\n",
      "[DEBUG] Received 0x3e bytes:\n",
      "    b'{\"type\": \"base64\", \"encoded\": \"bWlsdG9uX3VuaXRzX3NlY3VyZWx5\"}\\n'\n",
      "[!] {'type': 'base64', 'encoded': 'bWlsdG9uX3VuaXRzX3NlY3VyZWx5'}\n",
      "[+] {'decoded': 'milton_units_securely'}\n",
      "[DEBUG] Sent 0x25 bytes:\n",
      "    b'{\"decoded\": \"milton_units_securely\"}\\n'\n",
      "[DEBUG] Received 0x71 bytes:\n",
      "    b'{\"type\": \"utf-8\", \"encoded\": [97, 110, 115, 119, 101, 114, 95, 108, 117, 107, 101, 95, 111, 114, 100, 101, 114]}\\n'\n",
      "[!] {'type': 'utf-8', 'encoded': [97, 110, 115, 119, 101, 114, 95, 108, 117, 107, 101, 95, 111, 114, 100, 101, 114]}\n",
      "[+] {'decoded': 'answer_luke_order'}\n",
      "[DEBUG] Sent 0x21 bytes:\n",
      "    b'{\"decoded\": \"answer_luke_order\"}\\n'\n",
      "[DEBUG] Received 0x5e bytes:\n",
      "    b'{\"type\": \"bigint\", \"encoded\": \"0x646574726f69745f7265766f6c7574696f6e6172795f73656372657473\"}\\n'\n",
      "[!] {'type': 'bigint', 'encoded': '0x646574726f69745f7265766f6c7574696f6e6172795f73656372657473'}\n",
      "[+] {'decoded': 'detroit_revolutionary_secrets'}\n",
      "[DEBUG] Sent 0x2d bytes:\n",
      "    b'{\"decoded\": \"detroit_revolutionary_secrets\"}\\n'\n",
      "[DEBUG] Received 0x42 bytes:\n",
      "    b'{\"type\": \"base64\", \"encoded\": \"ZmFpbGVkX3JlY29nbml6ZV9tb250aHM=\"}\\n'\n",
      "[!] {'type': 'base64', 'encoded': 'ZmFpbGVkX3JlY29nbml6ZV9tb250aHM='}\n",
      "[+] {'decoded': 'failed_recognize_months'}\n",
      "[DEBUG] Sent 0x27 bytes:\n",
      "    b'{\"decoded\": \"failed_recognize_months\"}\\n'\n",
      "[DEBUG] Received 0x35 bytes:\n",
      "    b'{\"type\": \"hex\", \"encoded\": \"62705f76696577735f6365\"}\\n'\n",
      "[!] {'type': 'hex', 'encoded': '62705f76696577735f6365'}\n",
      "[+] {'decoded': 'bp_views_ce'}\n",
      "[DEBUG] Sent 0x1b bytes:\n",
      "    b'{\"decoded\": \"bp_views_ce\"}\\n'\n",
      "[DEBUG] Received 0x96 bytes:\n",
      "    b'{\"type\": \"utf-8\", \"encoded\": [105, 110, 116, 114, 111, 95, 97, 99, 104, 105, 101, 118, 101, 109, 101, 110, 116, 115, 95, 114, 117, 98, 98, 101, 114]}\\n'\n",
      "[!] {'type': 'utf-8', 'encoded': [105, 110, 116, 114, 111, 95, 97, 99, 104, 105, 101, 118, 101, 109, 101, 110, 116, 115, 95, 114, 117, 98, 98, 101, 114]}\n",
      "[+] {'decoded': 'intro_achievements_rubber'}\n",
      "[DEBUG] Sent 0x29 bytes:\n",
      "    b'{\"decoded\": \"intro_achievements_rubber\"}\\n'\n",
      "[DEBUG] Received 0x46 bytes:\n",
      "    b'{\"type\": \"bigint\", \"encoded\": \"0x6261646c795f646f6e5f77726170706564\"}\\n'\n",
      "[!] {'type': 'bigint', 'encoded': '0x6261646c795f646f6e5f77726170706564'}\n",
      "[+] {'decoded': 'badly_don_wrapped'}\n",
      "[DEBUG] Sent 0x21 bytes:\n",
      "    b'{\"decoded\": \"badly_don_wrapped\"}\\n'\n",
      "[DEBUG] Received 0x9d bytes:\n",
      "    b'{\"type\": \"utf-8\", \"encoded\": [109, 105, 108, 108, 105, 111, 110, 115, 95, 100, 114, 101, 115, 115, 105, 110, 103, 95, 99, 104, 97, 110, 103, 105, 110, 103]}\\n'\n",
      "[!] {'type': 'utf-8', 'encoded': [109, 105, 108, 108, 105, 111, 110, 115, 95, 100, 114, 101, 115, 115, 105, 110, 103, 95, 99, 104, 97, 110, 103, 105, 110, 103]}\n",
      "[+] {'decoded': 'millions_dressing_changing'}\n",
      "[DEBUG] Sent 0x2a bytes:\n",
      "    b'{\"decoded\": \"millions_dressing_changing\"}\\n'\n",
      "[DEBUG] Received 0x44 bytes:\n",
      "    b'{\"type\": \"bigint\", \"encoded\": \"0x6361726c6f5f77616c7465725f646173\"}\\n'\n",
      "[!] {'type': 'bigint', 'encoded': '0x6361726c6f5f77616c7465725f646173'}\n",
      "[+] {'decoded': 'carlo_walter_das'}\n",
      "[DEBUG] Sent 0x20 bytes:\n",
      "    b'{\"decoded\": \"carlo_walter_das\"}\\n'\n",
      "[DEBUG] Received 0x49 bytes:\n",
      "    b'{\"type\": \"hex\", \"encoded\": \"6f6d5f61636164656d69635f706f736974696f6e73\"}\\n'\n",
      "[!] {'type': 'hex', 'encoded': '6f6d5f61636164656d69635f706f736974696f6e73'}\n",
      "[+] {'decoded': 'om_academic_positions'}\n",
      "[DEBUG] Sent 0x25 bytes:\n",
      "    b'{\"decoded\": \"om_academic_positions\"}\\n'\n",
      "[DEBUG] Received 0x9e bytes:\n",
      "    b'{\"type\": \"utf-8\", \"encoded\": [115, 101, 108, 108, 101, 114, 95, 115, 117, 114, 112, 114, 105, 115, 105, 110, 103, 95, 97, 105, 114, 108, 105, 110, 101, 115]}\\n'\n",
      "[!] {'type': 'utf-8', 'encoded': [115, 101, 108, 108, 101, 114, 95, 115, 117, 114, 112, 114, 105, 115, 105, 110, 103, 95, 97, 105, 114, 108, 105, 110, 101, 115]}\n",
      "[+] {'decoded': 'seller_surprising_airlines'}\n",
      "[DEBUG] Sent 0x2a bytes:\n",
      "    b'{\"decoded\": \"seller_surprising_airlines\"}\\n'\n",
      "[DEBUG] Received 0x38 bytes:\n",
      "    b'{\"type\": \"rot13\", \"encoded\": \"vadhver_ybtvpny_beynaqb\"}\\n'\n",
      "[!] {'type': 'rot13', 'encoded': 'vadhver_ybtvpny_beynaqb'}\n",
      "[+] {'decoded': 'inquire_logical_orlando'}\n",
      "[DEBUG] Sent 0x27 bytes:\n",
      "    b'{\"decoded\": \"inquire_logical_orlando\"}\\n'\n",
      "[DEBUG] Received 0x3e bytes:\n",
      "    b'{\"type\": \"rot13\", \"encoded\": \"svatre_erunovyvgngvba_gubzfba\"}\\n'\n",
      "[!] {'type': 'rot13', 'encoded': 'svatre_erunovyvgngvba_gubzfba'}\n",
      "[+] {'decoded': 'finger_rehabilitation_thomson'}\n",
      "[DEBUG] Sent 0x2d bytes:\n",
      "    b'{\"decoded\": \"finger_rehabilitation_thomson\"}\\n'\n",
      "[DEBUG] Received 0x58 bytes:\n",
      "    b'{\"type\": \"bigint\", \"encoded\": \"0x73686f7765725f706572666f726d616e6365735f6c6174766961\"}\\n'\n",
      "[!] {'type': 'bigint', 'encoded': '0x73686f7765725f706572666f726d616e6365735f6c6174766961'}\n",
      "[+] {'decoded': 'shower_performances_latvia'}\n",
      "[DEBUG] Sent 0x2a bytes:\n",
      "    b'{\"decoded\": \"shower_performances_latvia\"}\\n'\n",
      "[DEBUG] Received 0x59 bytes:\n",
      "    b'{\"type\": \"hex\", \"encoded\": \"636976696c5f706f72746c616e645f636f72726573706f6e64656e6365\"}\\n'\n",
      "[!] {'type': 'hex', 'encoded': '636976696c5f706f72746c616e645f636f72726573706f6e64656e6365'}\n",
      "[+] {'decoded': 'civil_portland_correspondence'}\n",
      "[DEBUG] Sent 0x2d bytes:\n",
      "    b'{\"decoded\": \"civil_portland_correspondence\"}\\n'\n",
      "[DEBUG] Received 0x3e bytes:\n"
     ]
    },
    {
     "name": "stdout",
     "output_type": "stream",
     "text": [
      "    b'{\"type\": \"base64\", \"encoded\": \"c2xlZXBpbmdfdGhpbmtzX2hvdA==\"}\\n'\n",
      "[!] {'type': 'base64', 'encoded': 'c2xlZXBpbmdfdGhpbmtzX2hvdA=='}\n",
      "[+] {'decoded': 'sleeping_thinks_hot'}\n",
      "[DEBUG] Sent 0x23 bytes:\n",
      "    b'{\"decoded\": \"sleeping_thinks_hot\"}\\n'\n",
      "[DEBUG] Received 0x3a bytes:\n",
      "    b'{\"type\": \"base64\", \"encoded\": \"Z2Vhcl9mb3N0ZXJfc3VwZXJi\"}\\n'\n",
      "[!] {'type': 'base64', 'encoded': 'Z2Vhcl9mb3N0ZXJfc3VwZXJi'}\n",
      "[+] {'decoded': 'gear_foster_superb'}\n",
      "[DEBUG] Sent 0x22 bytes:\n",
      "    b'{\"decoded\": \"gear_foster_superb\"}\\n'\n",
      "[DEBUG] Received 0x53 bytes:\n",
      "    b'{\"type\": \"hex\", \"encoded\": \"73706972697475616c6974795f677265676f72795f6163746f72\"}\\n'\n",
      "[!] {'type': 'hex', 'encoded': '73706972697475616c6974795f677265676f72795f6163746f72'}\n",
      "[+] {'decoded': 'spirituality_gregory_actor'}\n",
      "[DEBUG] Sent 0x2a bytes:\n",
      "    b'{\"decoded\": \"spirituality_gregory_actor\"}\\n'\n",
      "[DEBUG] Received 0x48 bytes:\n",
      "    b'{\"type\": \"bigint\", \"encoded\": \"0x726f6f74735f7374726f6e6765725f616e79\"}\\n'\n",
      "[!] {'type': 'bigint', 'encoded': '0x726f6f74735f7374726f6e6765725f616e79'}\n",
      "[+] {'decoded': 'roots_stronger_any'}\n",
      "[DEBUG] Sent 0x22 bytes:\n",
      "    b'{\"decoded\": \"roots_stronger_any\"}\\n'\n",
      "[DEBUG] Received 0x91 bytes:\n",
      "    b'{\"type\": \"utf-8\", \"encoded\": [109, 101, 95, 112, 114, 101, 100, 105, 99, 116, 101, 100, 95, 98, 97, 99, 107, 103, 114, 111, 117, 110, 100, 115]}\\n'\n",
      "[!] {'type': 'utf-8', 'encoded': [109, 101, 95, 112, 114, 101, 100, 105, 99, 116, 101, 100, 95, 98, 97, 99, 107, 103, 114, 111, 117, 110, 100, 115]}\n",
      "[+] {'decoded': 'me_predicted_backgrounds'}\n",
      "[DEBUG] Sent 0x28 bytes:\n",
      "    b'{\"decoded\": \"me_predicted_backgrounds\"}\\n'\n",
      "[DEBUG] Received 0x4a bytes:\n",
      "    b'{\"type\": \"base64\", \"encoded\": \"YmVsaWV2ZXNfaGFyYm91cl9zdWJzY3JpYmVycw==\"}\\n'\n",
      "[!] {'type': 'base64', 'encoded': 'YmVsaWV2ZXNfaGFyYm91cl9zdWJzY3JpYmVycw=='}\n",
      "[+] {'decoded': 'believes_harbour_subscribers'}\n",
      "[DEBUG] Sent 0x2c bytes:\n",
      "    b'{\"decoded\": \"believes_harbour_subscribers\"}\\n'\n",
      "[DEBUG] Received 0x32 bytes:\n",
      "    b'{\"type\": \"rot13\", \"encoded\": \"ryyvf_cebg_nsenvq\"}\\n'\n",
      "[!] {'type': 'rot13', 'encoded': 'ryyvf_cebg_nsenvq'}\n",
      "[+] {'decoded': 'ellis_prot_afraid'}\n",
      "[DEBUG] Sent 0x21 bytes:\n",
      "    b'{\"decoded\": \"ellis_prot_afraid\"}\\n'\n",
      "[DEBUG] Received 0x37 bytes:\n",
      "    b'{\"type\": \"rot13\", \"encoded\": \"onovrf_guernq_ebovafba\"}\\n'\n",
      "[!] {'type': 'rot13', 'encoded': 'onovrf_guernq_ebovafba'}\n",
      "[+] {'decoded': 'babies_thread_robinson'}\n",
      "[DEBUG] Sent 0x26 bytes:\n",
      "    b'{\"decoded\": \"babies_thread_robinson\"}\\n'\n",
      "[DEBUG] Received 0x3e bytes:\n",
      "    b'{\"type\": \"base64\", \"encoded\": \"ZmFpcnlfbnVtZXJpY2FsX3NldmVu\"}\\n'\n",
      "[!] {'type': 'base64', 'encoded': 'ZmFpcnlfbnVtZXJpY2FsX3NldmVu'}\n",
      "[+] {'decoded': 'fairy_numerical_seven'}\n",
      "[DEBUG] Sent 0x25 bytes:\n",
      "    b'{\"decoded\": \"fairy_numerical_seven\"}\\n'\n",
      "[DEBUG] Received 0x9d bytes:\n",
      "    b'{\"type\": \"utf-8\", \"encoded\": [114, 101, 103, 105, 115, 116, 101, 114, 95, 114, 101, 110, 101, 119, 97, 98, 108, 101, 95, 102, 111, 117, 110, 100, 101, 114]}\\n'\n",
      "[!] {'type': 'utf-8', 'encoded': [114, 101, 103, 105, 115, 116, 101, 114, 95, 114, 101, 110, 101, 119, 97, 98, 108, 101, 95, 102, 111, 117, 110, 100, 101, 114]}\n",
      "[+] {'decoded': 'register_renewable_founder'}\n",
      "[DEBUG] Sent 0x2a bytes:\n",
      "    b'{\"decoded\": \"register_renewable_founder\"}\\n'\n",
      "[DEBUG] Received 0x99 bytes:\n",
      "    b'{\"type\": \"utf-8\", \"encoded\": [119, 114, 105, 116, 101, 115, 95, 104, 101, 114, 115, 101, 108, 102, 95, 114, 101, 109, 101, 109, 98, 101, 114, 101, 100]}\\n'\n",
      "[!] {'type': 'utf-8', 'encoded': [119, 114, 105, 116, 101, 115, 95, 104, 101, 114, 115, 101, 108, 102, 95, 114, 101, 109, 101, 109, 98, 101, 114, 101, 100]}\n",
      "[+] {'decoded': 'writes_herself_remembered'}\n",
      "[DEBUG] Sent 0x29 bytes:\n",
      "    b'{\"decoded\": \"writes_herself_remembered\"}\\n'\n",
      "[DEBUG] Received 0x46 bytes:\n",
      "    b'{\"type\": \"base64\", \"encoded\": \"c3VibWlzc2lvbl9pbmNsdWRlc19iZWluZ3M=\"}\\n'\n",
      "[!] {'type': 'base64', 'encoded': 'c3VibWlzc2lvbl9pbmNsdWRlc19iZWluZ3M='}\n",
      "[+] {'decoded': 'submission_includes_beings'}\n",
      "[DEBUG] Sent 0x2a bytes:\n",
      "    b'{\"decoded\": \"submission_includes_beings\"}\\n'\n",
      "[DEBUG] Received 0x40 bytes:\n",
      "    b'{\"type\": \"bigint\", \"encoded\": \"0x6875676f5f646f6f725f726f7773\"}\\n'\n",
      "[!] {'type': 'bigint', 'encoded': '0x6875676f5f646f6f725f726f7773'}\n",
      "[+] {'decoded': 'hugo_door_rows'}\n",
      "[DEBUG] Sent 0x1e bytes:\n",
      "    b'{\"decoded\": \"hugo_door_rows\"}\\n'\n",
      "[DEBUG] Received 0x4e bytes:\n",
      "    b'{\"type\": \"bigint\", \"encoded\": \"0x73697874685f736c6f775f6f726967696e616c6c79\"}\\n'\n",
      "[!] {'type': 'bigint', 'encoded': '0x73697874685f736c6f775f6f726967696e616c6c79'}\n",
      "[+] {'decoded': 'sixth_slow_originally'}\n",
      "[DEBUG] Sent 0x25 bytes:\n",
      "    b'{\"decoded\": \"sixth_slow_originally\"}\\n'\n",
      "[DEBUG] Received 0x3e bytes:\n",
      "    b'{\"type\": \"base64\", \"encoded\": \"dmV0ZXJhbnNfdG91cl9jaGFpbg==\"}\\n'\n",
      "[!] {'type': 'base64', 'encoded': 'dmV0ZXJhbnNfdG91cl9jaGFpbg=='}\n",
      "[+] {'decoded': 'veterans_tour_chain'}\n",
      "[DEBUG] Sent 0x23 bytes:\n",
      "    b'{\"decoded\": \"veterans_tour_chain\"}\\n'\n",
      "[DEBUG] Received 0x52 bytes:\n",
      "    b'{\"type\": \"bigint\", \"encoded\": \"0x67617264656e5f646973636c6f737572655f7472656573\"}\\n'\n",
      "[!] {'type': 'bigint', 'encoded': '0x67617264656e5f646973636c6f737572655f7472656573'}\n",
      "[+] {'decoded': 'garden_disclosure_trees'}\n",
      "[DEBUG] Sent 0x27 bytes:\n",
      "    b'{\"decoded\": \"garden_disclosure_trees\"}\\n'\n",
      "[DEBUG] Received 0x46 bytes:\n",
      "    b'{\"type\": \"base64\", \"encoded\": \"Y2FtY29yZGVyX3JlamVjdF9hcmdlbnRpbmE=\"}\\n'\n",
      "[!] {'type': 'base64', 'encoded': 'Y2FtY29yZGVyX3JlamVjdF9hcmdlbnRpbmE='}\n",
      "[+] {'decoded': 'camcorder_reject_argentina'}\n",
      "[DEBUG] Sent 0x2a bytes:\n",
      "    b'{\"decoded\": \"camcorder_reject_argentina\"}\\n'\n",
      "[DEBUG] Received 0x43 bytes:\n",
      "    b'{\"type\": \"hex\", \"encoded\": \"746964655f6368617274735f746f70696373\"}\\n'\n",
      "[!] {'type': 'hex', 'encoded': '746964655f6368617274735f746f70696373'}\n",
      "[+] {'decoded': 'tide_charts_topics'}\n",
      "[DEBUG] Sent 0x22 bytes:\n",
      "    b'{\"decoded\": \"tide_charts_topics\"}\\n'\n",
      "[DEBUG] Received 0x42 bytes:\n",
      "    b'{\"type\": \"base64\", \"encoded\": \"ZmluZ2Vyc19jYXBhYmxlX2xpY2Vuc2U=\"}\\n'\n",
      "[!] {'type': 'base64', 'encoded': 'ZmluZ2Vyc19jYXBhYmxlX2xpY2Vuc2U='}\n",
      "[+] {'decoded': 'fingers_capable_license'}\n",
      "[DEBUG] Sent 0x27 bytes:\n",
      "    b'{\"decoded\": \"fingers_capable_license\"}\\n'\n",
      "[DEBUG] Received 0x53 bytes:\n",
      "    b'{\"type\": \"hex\", \"encoded\": \"63735f657373656e7469616c735f696e7374616c6c6174696f6e\"}\\n'\n",
      "[!] {'type': 'hex', 'encoded': '63735f657373656e7469616c735f696e7374616c6c6174696f6e'}\n",
      "[+] {'decoded': 'cs_essentials_installation'}\n",
      "[DEBUG] Sent 0x2a bytes:\n",
      "    b'{\"decoded\": \"cs_essentials_installation\"}\\n'\n",
      "[DEBUG] Received 0x36 bytes:\n",
      "    b'{\"type\": \"base64\", \"encoded\": \"c3F1YWRfdGh1X2xvdmVk\"}\\n'\n",
      "[!] {'type': 'base64', 'encoded': 'c3F1YWRfdGh1X2xvdmVk'}\n",
      "[+] {'decoded': 'squad_thu_loved'}\n",
      "[DEBUG] Sent 0x1f bytes:\n",
      "    b'{\"decoded\": \"squad_thu_loved\"}\\n'\n",
      "[DEBUG] Received 0x9d bytes:\n",
      "    b'{\"type\": \"utf-8\", \"encoded\": [107, 105, 116, 115, 95, 114, 101, 112, 114, 101, 115, 101, 110, 116, 101, 100, 95, 98, 111, 117, 108, 101, 118, 97, 114, 100]}\\n'\n",
      "[!] {'type': 'utf-8', 'encoded': [107, 105, 116, 115, 95, 114, 101, 112, 114, 101, 115, 101, 110, 116, 101, 100, 95, 98, 111, 117, 108, 101, 118, 97, 114, 100]}\n",
      "[+] {'decoded': 'kits_represented_boulevard'}\n",
      "[DEBUG] Sent 0x2a bytes:\n",
      "    b'{\"decoded\": \"kits_represented_boulevard\"}\\n'\n",
      "[DEBUG] Received 0x3a bytes:\n",
      "    b'{\"type\": \"base64\", \"encoded\": \"ZGlyZWN0aXZlX3VpX29yZGVy\"}\\n'\n",
      "[!] {'type': 'base64', 'encoded': 'ZGlyZWN0aXZlX3VpX29yZGVy'}\n",
      "[+] {'decoded': 'directive_ui_order'}\n",
      "[DEBUG] Sent 0x22 bytes:\n",
      "    b'{\"decoded\": \"directive_ui_order\"}\\n'\n",
      "[DEBUG] Received 0x4a bytes:\n",
      "    b'{\"type\": \"bigint\", \"encoded\": \"0x63726561746f725f736577696e675f616c6578\"}\\n'\n",
      "[!] {'type': 'bigint', 'encoded': '0x63726561746f725f736577696e675f616c6578'}\n",
      "[+] {'decoded': 'creator_sewing_alex'}\n",
      "[DEBUG] Sent 0x23 bytes:\n",
      "    b'{\"decoded\": \"creator_sewing_alex\"}\\n'\n",
      "[DEBUG] Received 0x7a bytes:\n",
      "    b'{\"type\": \"utf-8\", \"encoded\": [105, 110, 116, 101, 114, 102, 101, 114, 101, 110, 99, 101, 95, 108, 108, 99, 95, 104, 100]}\\n'\n",
      "[!] {'type': 'utf-8', 'encoded': [105, 110, 116, 101, 114, 102, 101, 114, 101, 110, 99, 101, 95, 108, 108, 99, 95, 104, 100]}\n",
      "[+] {'decoded': 'interference_llc_hd'}\n",
      "[DEBUG] Sent 0x23 bytes:\n",
      "    b'{\"decoded\": \"interference_llc_hd\"}\\n'\n",
      "[DEBUG] Received 0xc0 bytes:\n",
      "    b'{\"type\": \"utf-8\", \"encoded\": [105, 110, 118, 111, 105, 99, 101, 95, 107, 110, 111, 119, 108, 101, 100, 103, 101, 115, 116, 111, 114, 109, 95, 105, 110, 115, 112, 101, 99, 116, 105, 111, 110]}\\n'\n"
     ]
    },
    {
     "name": "stdout",
     "output_type": "stream",
     "text": [
      "[!] {'type': 'utf-8', 'encoded': [105, 110, 118, 111, 105, 99, 101, 95, 107, 110, 111, 119, 108, 101, 100, 103, 101, 115, 116, 111, 114, 109, 95, 105, 110, 115, 112, 101, 99, 116, 105, 111, 110]}\n",
      "[+] {'decoded': 'invoice_knowledgestorm_inspection'}\n",
      "[DEBUG] Sent 0x31 bytes:\n",
      "    b'{\"decoded\": \"invoice_knowledgestorm_inspection\"}\\n'\n",
      "[DEBUG] Received 0x43 bytes:\n",
      "    b'{\"type\": \"hex\", \"encoded\": \"66756a695f6c6f6767696e675f6275696c74\"}\\n'\n",
      "[!] {'type': 'hex', 'encoded': '66756a695f6c6f6767696e675f6275696c74'}\n",
      "[+] {'decoded': 'fuji_logging_built'}\n",
      "[DEBUG] Sent 0x22 bytes:\n",
      "    b'{\"decoded\": \"fuji_logging_built\"}\\n'\n",
      "[DEBUG] Received 0x45 bytes:\n",
      "    b'{\"type\": \"hex\", \"encoded\": \"746f70735f6d6f756e7461696e735f6576696c\"}\\n'\n",
      "[!] {'type': 'hex', 'encoded': '746f70735f6d6f756e7461696e735f6576696c'}\n",
      "[+] {'decoded': 'tops_mountains_evil'}\n",
      "[DEBUG] Sent 0x23 bytes:\n",
      "    b'{\"decoded\": \"tops_mountains_evil\"}\\n'\n",
      "[DEBUG] Received 0x35 bytes:\n",
      "    b'{\"type\": \"rot13\", \"encoded\": \"fuvar_vgharf_vadhvel\"}\\n'\n",
      "[!] {'type': 'rot13', 'encoded': 'fuvar_vgharf_vadhvel'}\n",
      "[+] {'decoded': 'shine_itunes_inquiry'}\n",
      "[DEBUG] Sent 0x24 bytes:\n",
      "    b'{\"decoded\": \"shine_itunes_inquiry\"}\\n'\n",
      "[DEBUG] Received 0x3e bytes:\n",
      "    b'{\"type\": \"rot13\", \"encoded\": \"urycshy_cresbezrq_vagebqhpvat\"}\\n'\n",
      "[!] {'type': 'rot13', 'encoded': 'urycshy_cresbezrq_vagebqhpvat'}\n",
      "[+] {'decoded': 'helpful_performed_introducing'}\n",
      "[DEBUG] Sent 0x2d bytes:\n",
      "    b'{\"decoded\": \"helpful_performed_introducing\"}\\n'\n",
      "[DEBUG] Received 0x4a bytes:\n",
      "    b'{\"type\": \"base64\", \"encoded\": \"ZWxlY3Ryb25pY19iZXZlcmx5X2V2YWx1YXRlZA==\"}\\n'\n",
      "[!] {'type': 'base64', 'encoded': 'ZWxlY3Ryb25pY19iZXZlcmx5X2V2YWx1YXRlZA=='}\n",
      "[+] {'decoded': 'electronic_beverly_evaluated'}\n",
      "[DEBUG] Sent 0x2c bytes:\n",
      "    b'{\"decoded\": \"electronic_beverly_evaluated\"}\\n'\n",
      "[DEBUG] Received 0x42 bytes:\n",
      "    b'{\"type\": \"base64\", \"encoded\": \"YWx0ZXJfY29uZHVjdGluZ19zdGVhbA==\"}\\n'\n",
      "[!] {'type': 'base64', 'encoded': 'YWx0ZXJfY29uZHVjdGluZ19zdGVhbA=='}\n",
      "[+] {'decoded': 'alter_conducting_steal'}\n",
      "[DEBUG] Sent 0x26 bytes:\n",
      "    b'{\"decoded\": \"alter_conducting_steal\"}\\n'\n",
      "[DEBUG] Received 0x46 bytes:\n",
      "    b'{\"type\": \"base64\", \"encoded\": \"ZXNjYXBlX3ZpbmNlbnRfZW5oYW5jZW1lbnRz\"}\\n'\n",
      "[!] {'type': 'base64', 'encoded': 'ZXNjYXBlX3ZpbmNlbnRfZW5oYW5jZW1lbnRz'}\n",
      "[+] {'decoded': 'escape_vincent_enhancements'}\n",
      "[DEBUG] Sent 0x2b bytes:\n",
      "    b'{\"decoded\": \"escape_vincent_enhancements\"}\\n'\n",
      "[DEBUG] Received 0x48 bytes:\n",
      "    b'{\"type\": \"bigint\", \"encoded\": \"0x74656d706f72616c5f6578745f74616b6573\"}\\n'\n",
      "[!] {'type': 'bigint', 'encoded': '0x74656d706f72616c5f6578745f74616b6573'}\n",
      "[+] {'decoded': 'temporal_ext_takes'}\n",
      "[DEBUG] Sent 0x22 bytes:\n",
      "    b'{\"decoded\": \"temporal_ext_takes\"}\\n'\n",
      "[DEBUG] Received 0x42 bytes:\n",
      "    b'{\"type\": \"base64\", \"encoded\": \"YmFzaWNzX3N1ZmZlcmluZ19hc2lhbg==\"}\\n'\n",
      "[!] {'type': 'base64', 'encoded': 'YmFzaWNzX3N1ZmZlcmluZ19hc2lhbg=='}\n",
      "[+] {'decoded': 'basics_suffering_asian'}\n",
      "[DEBUG] Sent 0x26 bytes:\n",
      "    b'{\"decoded\": \"basics_suffering_asian\"}\\n'\n",
      "[DEBUG] Received 0x3a bytes:\n",
      "    b'{\"type\": \"base64\", \"encoded\": \"Y2xvdWR5X2lkc19ydWJiZXI=\"}\\n'\n",
      "[!] {'type': 'base64', 'encoded': 'Y2xvdWR5X2lkc19ydWJiZXI='}\n",
      "[+] {'decoded': 'cloudy_ids_rubber'}\n",
      "[DEBUG] Sent 0x21 bytes:\n",
      "    b'{\"decoded\": \"cloudy_ids_rubber\"}\\n'\n",
      "[DEBUG] Received 0x37 bytes:\n",
      "    b'{\"type\": \"rot13\", \"encoded\": \"rneyl_tah_crefcrpgvirf\"}\\n'\n",
      "[!] {'type': 'rot13', 'encoded': 'rneyl_tah_crefcrpgvirf'}\n",
      "[+] {'decoded': 'early_gnu_perspectives'}\n",
      "[DEBUG] Sent 0x26 bytes:\n",
      "    b'{\"decoded\": \"early_gnu_perspectives\"}\\n'\n",
      "[DEBUG] Received 0x3a bytes:\n",
      "    b'{\"type\": \"base64\", \"encoded\": \"cmVtaXhfaHR0cF9wZW5ndWlu\"}\\n'\n",
      "[!] {'type': 'base64', 'encoded': 'cmVtaXhfaHR0cF9wZW5ndWlu'}\n",
      "[+] {'decoded': 'remix_http_penguin'}\n",
      "[DEBUG] Sent 0x22 bytes:\n",
      "    b'{\"decoded\": \"remix_http_penguin\"}\\n'\n",
      "[DEBUG] Received 0x38 bytes:\n",
      "    b'{\"type\": \"rot13\", \"encoded\": \"ovbybtvpny_crnx_fznyyre\"}\\n'\n",
      "[!] {'type': 'rot13', 'encoded': 'ovbybtvpny_crnx_fznyyre'}\n",
      "[+] {'decoded': 'biological_peak_smaller'}\n",
      "[DEBUG] Sent 0x27 bytes:\n",
      "    b'{\"decoded\": \"biological_peak_smaller\"}\\n'\n",
      "[DEBUG] Received 0x37 bytes:\n",
      "    b'{\"type\": \"hex\", \"encoded\": \"68696c6c5f77686f73655f79\"}\\n'\n",
      "[!] {'type': 'hex', 'encoded': '68696c6c5f77686f73655f79'}\n",
      "[+] {'decoded': 'hill_whose_y'}\n",
      "[DEBUG] Sent 0x1c bytes:\n",
      "    b'{\"decoded\": \"hill_whose_y\"}\\n'\n",
      "[DEBUG] Received 0x3e bytes:\n",
      "    b'{\"type\": \"base64\", \"encoded\": \"YXBvbGxvX3B1c2hfc3dpbmdlcnM=\"}\\n'\n",
      "[!] {'type': 'base64', 'encoded': 'YXBvbGxvX3B1c2hfc3dpbmdlcnM='}\n",
      "[+] {'decoded': 'apollo_push_swingers'}\n",
      "[DEBUG] Sent 0x24 bytes:\n",
      "    b'{\"decoded\": \"apollo_push_swingers\"}\\n'\n",
      "[DEBUG] Received 0x55 bytes:\n",
      "    b'{\"type\": \"hex\", \"encoded\": \"76697267696e69615f74726164656d61726b735f6d616e64617465\"}\\n'\n",
      "[!] {'type': 'hex', 'encoded': '76697267696e69615f74726164656d61726b735f6d616e64617465'}\n",
      "[+] {'decoded': 'virginia_trademarks_mandate'}\n",
      "[DEBUG] Sent 0x2b bytes:\n",
      "    b'{\"decoded\": \"virginia_trademarks_mandate\"}\\n'\n",
      "[DEBUG] Received 0x3a bytes:\n",
      "    b'{\"type\": \"base64\", \"encoded\": \"YXJfdHJhZGl0aW9uYWxfbGVn\"}\\n'\n",
      "[!] {'type': 'base64', 'encoded': 'YXJfdHJhZGl0aW9uYWxfbGVn'}\n",
      "[+] {'decoded': 'ar_traditional_leg'}\n",
      "[DEBUG] Sent 0x22 bytes:\n",
      "    b'{\"decoded\": \"ar_traditional_leg\"}\\n'\n",
      "[DEBUG] Received 0x37 bytes:\n",
      "    b'{\"type\": \"rot13\", \"encoded\": \"bcgvba_fpevcgf_sbezhyn\"}\\n'\n",
      "[!] {'type': 'rot13', 'encoded': 'bcgvba_fpevcgf_sbezhyn'}\n",
      "[+] {'decoded': 'option_scripts_formula'}\n",
      "[DEBUG] Sent 0x26 bytes:\n",
      "    b'{\"decoded\": \"option_scripts_formula\"}\\n'\n",
      "[DEBUG] Received 0x72 bytes:\n",
      "    b'{\"type\": \"utf-8\", \"encoded\": [103, 114, 111, 119, 95, 114, 101, 98, 101, 99, 99, 97, 95, 109, 97, 107, 101, 114]}\\n'\n",
      "[!] {'type': 'utf-8', 'encoded': [103, 114, 111, 119, 95, 114, 101, 98, 101, 99, 99, 97, 95, 109, 97, 107, 101, 114]}\n",
      "[+] {'decoded': 'grow_rebecca_maker'}\n",
      "[DEBUG] Sent 0x22 bytes:\n",
      "    b'{\"decoded\": \"grow_rebecca_maker\"}\\n'\n",
      "[DEBUG] Received 0x3e bytes:\n",
      "    b'{\"type\": \"rot13\", \"encoded\": \"pbzchgngvba_cnlzragf_znvagnva\"}\\n'\n",
      "[!] {'type': 'rot13', 'encoded': 'pbzchgngvba_cnlzragf_znvagnva'}\n",
      "[+] {'decoded': 'computation_payments_maintain'}\n",
      "[DEBUG] Sent 0x2d bytes:\n",
      "    b'{\"decoded\": \"computation_payments_maintain\"}\\n'\n",
      "[DEBUG] Received 0x4a bytes:\n",
      "    b'{\"type\": \"base64\", \"encoded\": \"Y2FsY3VsYXRlX2ludmVzdF9zaWduaWZpY2FuY2U=\"}\\n'\n",
      "[!] {'type': 'base64', 'encoded': 'Y2FsY3VsYXRlX2ludmVzdF9zaWduaWZpY2FuY2U='}\n",
      "[+] {'decoded': 'calculate_invest_significance'}\n",
      "[DEBUG] Sent 0x2d bytes:\n",
      "    b'{\"decoded\": \"calculate_invest_significance\"}\\n'\n",
      "[DEBUG] Received 0x36 bytes:\n",
      "    b'{\"type\": \"rot13\", \"encoded\": \"nagubal_abgr_nygubhtu\"}\\n'\n",
      "[!] {'type': 'rot13', 'encoded': 'nagubal_abgr_nygubhtu'}\n",
      "[+] {'decoded': 'anthony_note_although'}\n",
      "[DEBUG] Sent 0x25 bytes:\n",
      "    b'{\"decoded\": \"anthony_note_although\"}\\n'\n",
      "[DEBUG] Received 0x57 bytes:\n",
      "    b'{\"type\": \"hex\", \"encoded\": \"627573696e65737365735f63697263756c6174696f6e5f636c65616e\"}\\n'\n",
      "[!] {'type': 'hex', 'encoded': '627573696e65737365735f63697263756c6174696f6e5f636c65616e'}\n",
      "[+] {'decoded': 'businesses_circulation_clean'}\n",
      "[DEBUG] Sent 0x2c bytes:\n",
      "    b'{\"decoded\": \"businesses_circulation_clean\"}\\n'\n",
      "[DEBUG] Received 0x3d bytes:\n",
      "    b'{\"type\": \"rot13\", \"encoded\": \"pbzznaqre_rkcrevraprf_qvrfry\"}\\n'\n",
      "[!] {'type': 'rot13', 'encoded': 'pbzznaqre_rkcrevraprf_qvrfry'}\n",
      "[+] {'decoded': 'commander_experiences_diesel'}\n",
      "[DEBUG] Sent 0x2c bytes:\n",
      "    b'{\"decoded\": \"commander_experiences_diesel\"}\\n'\n",
      "[DEBUG] Received 0x29 bytes:\n",
      "    b'{\"flag\": \"crypto{3nc0d3_d3c0d3_3nc0d3}\"}\\n'\n",
      "[!] {'flag': 'crypto{3nc0d3_d3c0d3_3nc0d3}'}\n",
      "crypto{3nc0d3_d3c0d3_3nc0d3}\n"
     ]
    }
   ],
   "source": [
    "from pwn import * # pip install pwntools\n",
    "import json\n",
    "from Crypto.Util.number import bytes_to_long, long_to_bytes\n",
    "import base64\n",
    "import codecs\n",
    "import random\n",
    "\n",
    "r = remote('socket.cryptohack.org', 13377, level = 'debug')\n",
    "\n",
    "def json_recv():\n",
    "    line = r.recvline()\n",
    "    return json.loads(line.decode())\n",
    "\n",
    "def json_send(hsh):\n",
    "    request = json.dumps(hsh).encode()\n",
    "    r.sendline(request)\n",
    "\n",
    "def encoding(encoding, challenge_words):\n",
    "    if encoding == \"base64\":\n",
    "        encoded = base64.b64encode(challenge_words.encode()).decode() # wow so encode\n",
    "    elif encoding == \"hex\":\n",
    "        encoded = challenge_words.encode().hex()\n",
    "    elif encoding == \"rot13\":\n",
    "        encoded = codecs.encode(challenge_words, 'rot_13')\n",
    "    elif encoding == \"bigint\":\n",
    "        encoded = hex(bytes_to_long(challenge_words.encode()))\n",
    "    elif encoding == \"utf-8\":\n",
    "        encoded = [ord(b) for b in challenge_words]\n",
    "    return {\"type\": encoding, \"encoded\": encoded}\n",
    "    \n",
    "def solve(encoding, encValue):\n",
    "    if encoding == \"base64\":\n",
    "        decoded = base64.b64decode(encValue).decode()\n",
    "    elif encoding == \"hex\":\n",
    "        decoded = bytes.fromhex(encValue).decode()\n",
    "    elif encoding == \"rot13\":\n",
    "        decoded = codecs.decode(encValue, 'rot_13')\n",
    "    elif encoding == \"bigint\":\n",
    "        decoded = long_to_bytes(int(encValue, 16)).decode()  # bytes.fromhex(encValue[2:]).decode()\n",
    "    elif encoding == \"utf-8\":\n",
    "        decoded = ''.join([chr(i) for i in encValue])\n",
    "    return {\"decoded\": decoded}\n",
    "\n",
    "while True :\n",
    "    received = json_recv()\n",
    "    print(f\"[!] {received}\")\n",
    "    \n",
    "    if 'flag' in received :\n",
    "        print(received['flag'])   # crypto{3nc0d3_d3c0d3_3nc0d3}\n",
    "        break\n",
    "    \n",
    "    encoding = received[\"type\"]\n",
    "    encValue = received[\"encoded\"]\n",
    "    to_send = solve(encoding, encValue)\n",
    "    print(f\"[+] {to_send}\")\n",
    "    \n",
    "    json_send(to_send)"
   ]
  },
  {
   "cell_type": "code",
   "execution_count": null,
   "id": "50554dbf",
   "metadata": {},
   "outputs": [],
   "source": []
  },
  {
   "cell_type": "markdown",
   "id": "728c5f32",
   "metadata": {},
   "source": [
    "### XOR"
   ]
  },
  {
   "cell_type": "markdown",
   "id": "dcfbda41",
   "metadata": {},
   "source": [
    "#### XOR Starter"
   ]
  },
  {
   "cell_type": "code",
   "execution_count": 12,
   "id": "43b555d3",
   "metadata": {},
   "outputs": [
    {
     "data": {
      "text/plain": [
       "'aloha'"
      ]
     },
     "execution_count": 12,
     "metadata": {},
     "output_type": "execute_result"
    }
   ],
   "source": [
    "from pwn import * # pip install pwntools\n",
    "\n",
    "str = \"label\"\n",
    "\n",
    "# xor(str.encode(), 13) \n",
    "''.join([chr(ord(i)^13) for i in str])   # crypto{aloha}"
   ]
  },
  {
   "cell_type": "markdown",
   "id": "48554cc0",
   "metadata": {},
   "source": [
    "#### XOR Properties"
   ]
  },
  {
   "cell_type": "markdown",
   "id": "36da4f98",
   "metadata": {},
   "source": [
    "```\n",
    "KEY1 = a6c8b6733c9b22de7bc0253266a3867df55acde8635e19c73313\n",
    "KEY2 ^ KEY1 = 37dcb292030faa90d07eec17e3b1c6d8daf94c35d4c9191a5e1e\n",
    "KEY2 ^ KEY3 = c1545756687e7573db23aa1c3452a098b71a7fbf0fddddde5fc1\n",
    "FLAG ^ KEY1 ^ KEY3 ^ KEY2 = 04ee9855208a2cd59091d04767ae47963170d1660df7f56f5faf \n",
    "```"
   ]
  },
  {
   "cell_type": "code",
   "execution_count": 13,
   "id": "adcfc2b0",
   "metadata": {},
   "outputs": [
    {
     "data": {
      "text/plain": [
       "b'crypto{x0r_i5_ass0c1at1v3}'"
      ]
     },
     "execution_count": 13,
     "metadata": {},
     "output_type": "execute_result"
    }
   ],
   "source": [
    "KEY1 = bytes.fromhex('a6c8b6733c9b22de7bc0253266a3867df55acde8635e19c73313')\n",
    "KEY2 = xor(KEY1, bytes.fromhex('37dcb292030faa90d07eec17e3b1c6d8daf94c35d4c9191a5e1e'))\n",
    "KEY3 = xor(KEY2, bytes.fromhex('c1545756687e7573db23aa1c3452a098b71a7fbf0fddddde5fc1'))\n",
    "FLAG = xor( xor(KEY1,xor(KEY2, KEY3)), bytes.fromhex('04ee9855208a2cd59091d04767ae47963170d1660df7f56f5faf'))\n",
    "FLAG   # crypto{x0r_i5_ass0c1at1v3}"
   ]
  },
  {
   "cell_type": "markdown",
   "id": "f302766b",
   "metadata": {},
   "source": [
    "#### Favourite byte"
   ]
  },
  {
   "cell_type": "code",
   "execution_count": 14,
   "id": "ee0e071d",
   "metadata": {},
   "outputs": [
    {
     "name": "stdout",
     "output_type": "stream",
     "text": [
      "(16) b'crypto{0x10_15_my_f4v0ur173_by7e}'\n"
     ]
    }
   ],
   "source": [
    "s = bytes.fromhex('73626960647f6b206821204f21254f7d694f7624662065622127234f726927756d')\n",
    "\n",
    "for i in range(256):\n",
    "    if b'crypto' in xor(s, i) :\n",
    "        print(f\"({i}) {xor(s, i)}\")   # crypto{0x10_15_my_f4v0ur173_by7e}"
   ]
  },
  {
   "cell_type": "markdown",
   "id": "9f101dcc",
   "metadata": {},
   "source": [
    "#### You either know, XOR you don't"
   ]
  },
  {
   "cell_type": "code",
   "execution_count": 15,
   "id": "0618eb40",
   "metadata": {},
   "outputs": [
    {
     "name": "stdout",
     "output_type": "stream",
     "text": [
      "secret : myXORkey\n"
     ]
    },
    {
     "data": {
      "text/plain": [
       "b'crypto{1f_y0u_Kn0w_En0uGH_y0u_Kn0w_1t_4ll}'"
      ]
     },
     "execution_count": 15,
     "metadata": {},
     "output_type": "execute_result"
    }
   ],
   "source": [
    "s = bytes.fromhex('0e0b213f26041e480b26217f27342e175d0e070a3c5b103e2526217f27342e175d0e077e263451150104')\n",
    "\n",
    "flag = b'crypto{'\n",
    "\n",
    "secret = ''\n",
    "for i in range(len(flag)):\n",
    "    secret += chr(flag[i]^s[i])\n",
    "secret += chr(s[-1]^ord('}'))\n",
    "\n",
    "print(f\"secret : {secret}\")\n",
    "xor(s, secret.encode())   # crypto{1f_y0u_Kn0w_En0uGH_y0u_Kn0w_1t_4ll}"
   ]
  },
  {
   "cell_type": "markdown",
   "id": "5b9e1179",
   "metadata": {},
   "source": [
    "#### Lemur XOR"
   ]
  },
  {
   "cell_type": "code",
   "execution_count": 16,
   "id": "c56a4a62",
   "metadata": {},
   "outputs": [
    {
     "data": {
      "text/plain": [
       "<matplotlib.image.AxesImage at 0x1c4d3a89520>"
      ]
     },
     "execution_count": 16,
     "metadata": {},
     "output_type": "execute_result"
    },
    {
     "data": {
      "image/png": "[encoded data removed]",
      "text/plain": [
       "<Figure size 432x288 with 1 Axes>"
      ]
     },
     "metadata": {
      "needs_background": "light"
     },
     "output_type": "display_data"
    }
   ],
   "source": [
    "import cv2  \n",
    "import matplotlib.image as mpimg\n",
    "import matplotlib.pyplot as plt  \n",
    "from PIL import Image  \n",
    "import numpy as np  \n",
    "\n",
    "lemur = cv2.imread('lemur.png')\n",
    "flag = cv2.imread('flag.png')\n",
    "\n",
    "result = np.bitwise_xor(lemur, flag).astype(np.uint8)\n",
    "\n",
    "plt.imshow( result )   # crypto{X0Rly_n0t!}"
   ]
  },
  {
   "cell_type": "code",
   "execution_count": null,
   "id": "85fea084",
   "metadata": {},
   "outputs": [],
   "source": []
  },
  {
   "cell_type": "markdown",
   "id": "90560dfe",
   "metadata": {},
   "source": [
    "### Mathematics"
   ]
  },
  {
   "cell_type": "markdown",
   "id": "4ac92cee",
   "metadata": {},
   "source": [
    "#### Greatest Common Divisor"
   ]
  },
  {
   "cell_type": "code",
   "execution_count": 17,
   "id": "a5eed9bc",
   "metadata": {},
   "outputs": [
    {
     "data": {
      "text/plain": [
       "1512"
      ]
     },
     "execution_count": 17,
     "metadata": {},
     "output_type": "execute_result"
    }
   ],
   "source": [
    "from math import gcd\n",
    "\n",
    "def gcd(a,b):\n",
    "    while b:\n",
    "        a, b = b, a%b\n",
    "    return a\n",
    "\n",
    "a = 66528\n",
    "b = 52920\n",
    "gcd(a,b)"
   ]
  },
  {
   "cell_type": "markdown",
   "id": "0b1863b1",
   "metadata": {},
   "source": [
    "#### Extended GCD"
   ]
  },
  {
   "cell_type": "code",
   "execution_count": 19,
   "id": "508b55d2",
   "metadata": {},
   "outputs": [
    {
     "data": {
      "text/plain": [
       "(1, 10245, -8404)"
      ]
     },
     "execution_count": 19,
     "metadata": {},
     "output_type": "execute_result"
    }
   ],
   "source": [
    "import sys\n",
    "sys.setrecursionlimit(1000000)  # long type, 32bit OS 4B, 64bit OS 8B (1bit for sign)\n",
    "\n",
    "def egcd(a, b):\n",
    "    \"\"\"return (g, x, y) such that a*x + b*y = g = gcd(a, b)\"\"\"\n",
    "    if a == 0:\n",
    "        return b, 0, 1\n",
    "    else:\n",
    "        gcd, x, y = egcd(b % a, a)\n",
    "        return gcd, y - (b // a) * x, x\n",
    "    \n",
    "p = 26513\n",
    "q = 32321\n",
    "egcd(p, q)"
   ]
  },
  {
   "cell_type": "markdown",
   "id": "1c8c18e3",
   "metadata": {},
   "source": [
    "#### Modular Arithmetic 1"
   ]
  },
  {
   "cell_type": "markdown",
   "id": "c1a09e75",
   "metadata": {},
   "source": [
    "```\n",
    "11 ≡ x mod 6\n",
    "8146798528947 ≡ y mod 17 \n",
    "```"
   ]
  },
  {
   "cell_type": "code",
   "execution_count": 20,
   "id": "ff7b238c",
   "metadata": {},
   "outputs": [
    {
     "data": {
      "text/plain": [
       "(5, 4)"
      ]
     },
     "execution_count": 20,
     "metadata": {},
     "output_type": "execute_result"
    }
   ],
   "source": [
    "x = 11%6\n",
    "y = 8146798528947%17\n",
    "x, y"
   ]
  },
  {
   "cell_type": "markdown",
   "id": "0cc82869",
   "metadata": {},
   "source": [
    "#### Modular Arithmetic 2"
   ]
  },
  {
   "cell_type": "markdown",
   "id": "3a42a7b8",
   "metadata": {},
   "source": [
    "The integers modulo p define a **field**, denoted **Fp**.\n",
    "+ If the modulus is not prime, the set of integers modulo n define a **ring**.\n",
    "\n",
    "A finite field Fp is the set of integers {0,1,...,p-1}, and under both addition and multiplication there is an **inverse** element b for every element a in the set, such that a + b = 0 and a * b = 1."
   ]
  },
  {
   "cell_type": "markdown",
   "id": "041e19e0",
   "metadata": {},
   "source": [
    "##### Fermat's little theorem\n",
    "Fermat's little theorem states that if p is a prime number, then for any integer a, the number $a^p$ − a is an integer multiple of p.\n",
    "$$\n",
    "a^{p-1} \\equiv 1 \\pmod p.\n",
    "$$"
   ]
  },
  {
   "cell_type": "code",
   "execution_count": 1,
   "id": "2a2b4ca9",
   "metadata": {},
   "outputs": [
    {
     "name": "stdout",
     "output_type": "stream",
     "text": [
      "1\n"
     ]
    }
   ],
   "source": [
    "'''\n",
    "Looking at Fermat's little theorem...\n",
    "if p is prime, for every integer a:\n",
    "        pow(a, p) = a mod p\n",
    "and, if p is prime and a is an integer coprime with p:\n",
    "        pow(a, p-1) = 1 mod p\n",
    "So lets check\n",
    "        pow(273246787654, 65536) mod 65537\n",
    "Notice that 65536 is exactly 65537-1,\n",
    "If 273246787654 and 65537 are coprime,\n",
    "        then the result is one\n",
    "'''\n",
    "from math import gcd\n",
    "\n",
    "a = 273246787654\n",
    "p = 65537\n",
    "\n",
    "if gcd(a,p)==1: #a and p are coprime\n",
    "    print(1)"
   ]
  },
  {
   "cell_type": "markdown",
   "id": "60065a11",
   "metadata": {},
   "source": [
    "#### Modular Inverting"
   ]
  },
  {
   "cell_type": "markdown",
   "id": "deed545e",
   "metadata": {},
   "source": [
    "+ multiplicative inverse of g  \n",
    "    For all elements g in the field, there exists a unique integer d such that g * d ≡ 1 mod p."
   ]
  },
  {
   "cell_type": "code",
   "execution_count": null,
   "id": "08674f8a",
   "metadata": {},
   "outputs": [],
   "source": [
    "def modinv(a: int, b: int) -> int:\n",
    "    \"\"\"return x such that (x * a) % b == 1\"\"\"\n",
    "    g, x, _ = egcd(a, b)\n",
    "    if g != 1:\n",
    "        raise Exception('gcd(a, b) != 1')\n",
    "    return x % b\n",
    "\n",
    "modinv(3,13)"
   ]
  },
  {
   "cell_type": "code",
   "execution_count": null,
   "id": "8b8dcca8",
   "metadata": {},
   "outputs": [],
   "source": []
  },
  {
   "cell_type": "markdown",
   "id": "f05f0746",
   "metadata": {},
   "source": [
    "### Data Formats"
   ]
  },
  {
   "cell_type": "markdown",
   "id": "50a995bd",
   "metadata": {},
   "source": [
    "#### Privacy-Enhanced Mail?"
   ]
  },
  {
   "cell_type": "code",
   "execution_count": 5,
   "id": "3525e0c8",
   "metadata": {},
   "outputs": [
    {
     "name": "stdout",
     "output_type": "stream",
     "text": [
      "RSA private exponent :15682700288056331364787171045819973654991149949197959929860861228180021707316851924456205543665565810892674190059831330231436970914474774562714945620519144389785158908994181951348846017432506464163564960993784254153395406799101314760033445065193429592512349952020982932218524462341002102063435489318813316464511621736943938440710470694912336237680219746204595128959161800595216366237538296447335375818871952520026993102148328897083547184286493241191505953601668858941129790966909236941127851370202421135897091086763569884760099112291072056970636380417349019579768748054760104838790424708988260443926906673795975104689\n"
     ]
    }
   ],
   "source": [
    "from Crypto.PublicKey import RSA\n",
    "f = open('privacy_enhanced_mail.pem','r')\n",
    "key = RSA.importKey(f.read())\n",
    "\n",
    "print(f\"RSA private exponent :{key.d}\")"
   ]
  },
  {
   "cell_type": "markdown",
   "id": "eeccfde1",
   "metadata": {},
   "source": [
    "#### CERTainly not"
   ]
  },
  {
   "cell_type": "code",
   "execution_count": 1,
   "id": "b6b34e9d",
   "metadata": {},
   "outputs": [
    {
     "name": "stdout",
     "output_type": "stream",
     "text": [
      "22825373692019530804306212864609512775374171823993708516509897631547513634635856375624003737068034549047677999310941837454378829351398302382629658264078775456838626207507725494030600516872852306191255492926495965536379271875310457319107936020730050476235278671528265817571433919561175665096171189758406136453987966255236963782666066962654678464950075923060327358691356632908606498231755963567382339010985222623205586923466405809217426670333410014429905146941652293366212903733630083016398810887356019977409467374742266276267137547021576874204809506045914964491063393800499167416471949021995447722415959979785959569497\n"
     ]
    }
   ],
   "source": [
    "import json\n",
    "from OpenSSL import crypto  # $ pip install pyopenssl\n",
    "\n",
    "certfile = \"2048b-rsa-example-cert.der\"\n",
    "with open(certfile, 'rb') as der_file:\n",
    "    x509 = crypto.load_certificate(crypto.FILETYPE_ASN1, der_file.read())\n",
    "\n",
    "# This gives you the modulus in integer form\n",
    "modn = x509.get_pubkey().to_cryptography_key().public_numbers().n\n",
    "\n",
    "print(f'{modn}')"
   ]
  },
  {
   "cell_type": "code",
   "execution_count": 2,
   "id": "e81dbe1b",
   "metadata": {},
   "outputs": [
    {
     "name": "stdout",
     "output_type": "stream",
     "text": [
      "RSA certificate modulus: 22825373692019530804306212864609512775374171823993708516509897631547513634635856375624003737068034549047677999310941837454378829351398302382629658264078775456838626207507725494030600516872852306191255492926495965536379271875310457319107936020730050476235278671528265817571433919561175665096171189758406136453987966255236963782666066962654678464950075923060327358691356632908606498231755963567382339010985222623205586923466405809217426670333410014429905146941652293366212903733630083016398810887356019977409467374742266276267137547021576874204809506045914964491063393800499167416471949021995447722415959979785959569497\n"
     ]
    }
   ],
   "source": [
    "from Crypto.PublicKey import RSA\n",
    "\n",
    "with open('2048b-rsa-example-cert.der','rb') as f:\n",
    "    key = RSA.import_key(f.read())\n",
    "\n",
    "print(f\"RSA certificate modulus: {key.n}\")"
   ]
  },
  {
   "cell_type": "markdown",
   "id": "7681cd66",
   "metadata": {},
   "source": [
    "#### SSH Keys"
   ]
  },
  {
   "cell_type": "code",
   "execution_count": 3,
   "id": "e9d8d2d3",
   "metadata": {},
   "outputs": [
    {
     "name": "stdout",
     "output_type": "stream",
     "text": [
      "RSA certificate modulus: 3931406272922523448436194599820093016241472658151801552845094518579507815990600459669259603645261532927611152984942840889898756532060894857045175300145765800633499005451738872081381267004069865557395638550041114206143085403607234109293286336393552756893984605214352988705258638979454736514997314223669075900783806715398880310695945945147755132919037973889075191785977797861557228678159538882153544717797100401096435062359474129755625453831882490603560134477043235433202708948615234536984715872113343812760102812323180391544496030163653046931414723851374554873036582282389904838597668286543337426581680817796038711228401443244655162199302352017964997866677317161014083116730535875521286631858102768961098851209400973899393964931605067856005410998631842673030901078008408649613538143799959803685041566964514489809211962984534322348394428010908984318940411698961150731204316670646676976361958828528229837610795843145048243492909\n"
     ]
    }
   ],
   "source": [
    "from Crypto.PublicKey import RSA\n",
    "\n",
    "with open('bruce_rsa.pub','rb') as f:\n",
    "    key = RSA.import_key(f.read())\n",
    "\n",
    "print(f\"RSA certificate modulus: {key.n}\")"
   ]
  },
  {
   "cell_type": "markdown",
   "id": "8dfd7aa2",
   "metadata": {},
   "source": [
    "#### Transparency"
   ]
  },
  {
   "cell_type": "code",
   "execution_count": 2,
   "id": "c20ba99b",
   "metadata": {},
   "outputs": [
    {
     "name": "stdout",
     "output_type": "stream",
     "text": [
      "Public Key SHA256: 29ab37df0a4e4d252f0cf12ad854bede59038fdd9cd652cbc5c222edd26d77d2\n"
     ]
    }
   ],
   "source": [
    "'''\n",
    "https://crt.sh/?q=cryptohack.org  \n",
    "\n",
    "    => thetransparencyflagishere.cryptohack.org\n",
    "    => crypto{thx_redpwn_for_inspiration}\n",
    "'''\n",
    "import hashlib\n",
    "from Crypto.PublicKey import RSA\n",
    "\n",
    "pem = open('transparency.pem', 'r').read()\n",
    "\n",
    "key = RSA.importKey(pem).public_key()\n",
    "\n",
    "der = key.exportKey(format='DER')\n",
    "\n",
    "sha256 = hashlib.sha256(der)\n",
    "\n",
    "sha256_fingerprint = sha256.hexdigest()\n",
    "\n",
    "print(f\"Public Key SHA256: {sha256_fingerprint}\")\n",
    "\n",
    "# search censys.io for public key fingerprint to find the associated certificate\n",
    "# https://censys.io/certificates?q=29ab37df0a4e4d252f0cf12ad854bede59038fdd9cd652cbc5c222edd26d77d2"
   ]
  },
  {
   "cell_type": "code",
   "execution_count": null,
   "id": "e1add8e4",
   "metadata": {},
   "outputs": [],
   "source": []
  },
  {
   "cell_type": "markdown",
   "id": "149adbab",
   "metadata": {},
   "source": [
    "## Mathematics"
   ]
  },
  {
   "cell_type": "markdown",
   "id": "e29ba0ff",
   "metadata": {},
   "source": [
    "### Modular Math"
   ]
  },
  {
   "cell_type": "markdown",
   "id": "946b07d3",
   "metadata": {},
   "source": [
    "#### Quadratic Residues"
   ]
  },
  {
   "cell_type": "markdown",
   "id": "344855a3",
   "metadata": {},
   "source": [
    "We say that an integer x is a **Quadratic Residue** if there exists an a such that $a^2$ = x mod p. If there is no such solution, then the integer is a **Quadratic Non-Residue**."
   ]
  },
  {
   "cell_type": "code",
   "execution_count": 12,
   "id": "cc94bf96",
   "metadata": {},
   "outputs": [
    {
     "name": "stdout",
     "output_type": "stream",
     "text": [
      "8\n"
     ]
    }
   ],
   "source": [
    "p = 29\n",
    "ints = [14, 6, 11] \n",
    "\n",
    "print(min(x for x in range(p) if pow(x,2,p) in ints))"
   ]
  },
  {
   "cell_type": "markdown",
   "id": "76f52eb0",
   "metadata": {},
   "source": [
    "#### Legendre Symbol"
   ]
  },
  {
   "cell_type": "markdown",
   "id": "90ed5e1f",
   "metadata": {},
   "source": [
    "##### The Legendre Symbol gives an efficient way to determine whether an integer is a quadratic residue modulo an odd prime p.\n",
    "    (a / p) ≡ $a^{(p-1)/2}$ mod p\n",
    "    (a / p) = 1 if a is a quadratic residue and a ≢ 0 mod p\n",
    "    (a / p) = -1 if a is a quadratic non-residue mod p\n",
    "    (a / p) = 0 if a ≡ 0 mod p "
   ]
  },
  {
   "cell_type": "code",
   "execution_count": 1,
   "id": "bd3894d7",
   "metadata": {},
   "outputs": [
    {
     "data": {
      "text/plain": [
       "93291799125366706806545638475797430512104976066103610269938025709952247020061090804870186195285998727680200979853848718589126765742550855954805290253592144209552123062161458584575060939481368210688629862036958857604707468372384278049741369153506182660264876115428251983455344219194133033177700490981696141526"
      ]
     },
     "execution_count": 1,
     "metadata": {},
     "output_type": "execute_result"
    }
   ],
   "source": [
    "from sympy import legendre_symbol\n",
    "from sympy import ntheory \n",
    "\n",
    "\n",
    "def Legendre(a, p):  # ntheory.is_quad_residue(a, p)\n",
    "    res = pow(a, (p - 1) // 2, p)\n",
    "    return (res-p if res > 1 else res)\n",
    "\n",
    "p = 101524035174539890485408575671085261788758965189060164484385690801466167356667036677932998889725476582421738788500738738503134356158197247473850273565349249573867251280253564698939768700489401960767007716413932851838937641880157263936985954881657889497583485535527613578457628399173971810541670838543309159139\n",
    "ints = [25081841204695904475894082974192007718642931811040324543182130088804239047149283334700530600468528298920930150221871666297194395061462592781551275161695411167049544771049769000895119729307495913024360169904315078028798025169985966732789207320203861858234048872508633514498384390497048416012928086480326832803, 45471765180330439060504647480621449634904192839383897212809808339619841633826534856109999027962620381874878086991125854247108359699799913776917227058286090426484548349388138935504299609200377899052716663351188664096302672712078508601311725863678223874157861163196340391008634419348573975841578359355931590555, 17364140182001694956465593533200623738590196990236340894554145562517924989208719245429557645254953527658049246737589538280332010533027062477684237933221198639948938784244510469138826808187365678322547992099715229218615475923754896960363138890331502811292427146595752813297603265829581292183917027983351121325, 14388109104985808487337749876058284426747816961971581447380608277949200244660381570568531129775053684256071819837294436069133592772543582735985855506250660938574234958754211349215293281645205354069970790155237033436065434572020652955666855773232074749487007626050323967496732359278657193580493324467258802863, 4379499308310772821004090447650785095356643590411706358119239166662089428685562719233435615196994728767593223519226235062647670077854687031681041462632566890129595506430188602238753450337691441293042716909901692570971955078924699306873191983953501093343423248482960643055943413031768521782634679536276233318, 85256449776780591202928235662805033201684571648990042997557084658000067050672130152734911919581661523957075992761662315262685030115255938352540032297113615687815976039390537716707854569980516690246592112936796917504034711418465442893323439490171095447109457355598873230115172636184525449905022174536414781771, 50576597458517451578431293746926099486388286246142012476814190030935689430726042810458344828563913001012415702876199708216875020997112089693759638454900092580746638631062117961876611545851157613835724635005253792316142379239047654392970415343694657580353333217547079551304961116837545648785312490665576832987, 96868738830341112368094632337476840272563704408573054404213766500407517251810212494515862176356916912627172280446141202661640191237336568731069327906100896178776245311689857997012187599140875912026589672629935267844696976980890380730867520071059572350667913710344648377601017758188404474812654737363275994871, 4881261656846638800623549662943393234361061827128610120046315649707078244180313661063004390750821317096754282796876479695558644108492317407662131441224257537276274962372021273583478509416358764706098471849536036184924640593888902859441388472856822541452041181244337124767666161645827145408781917658423571721, 18237936726367556664171427575475596460727369368246286138804284742124256700367133250078608537129877968287885457417957868580553371999414227484737603688992620953200143688061024092623556471053006464123205133894607923801371986027458274343737860395496260538663183193877539815179246700525865152165600985105257601565]\n",
    "\n",
    "\n",
    "quadr_res = ints[ [Legendre(a, p) for a in ints].index(1) ]\n",
    "\n",
    "# after i've found this i calculate it\n",
    "# i known that (a / p) == 1, then\n",
    "# (a / p) * a == a that is\n",
    "# a **((p - 1) // 2) * a == a that is\n",
    "# a ** ((p + 1)// 2) == a\n",
    "\n",
    "# i'm looking for the square root of a mod p, that is the same as\n",
    "# the square root of a ** ((p + 1)// 2) mod p.\n",
    "# it is likely that that square root is a ** ((p + 1) // 4) then (just by dividing the denominator by 2)\n",
    "# which is a good choice because p = 3 mod 4 meaning that there exists\n",
    "# k such that 4k + 3 = p.\n",
    "# substituting we bet that \n",
    "# a ** ((p + 1) // 4) = a ** ((4k + 3 + 1) // 4) = a ** ((4k + 4) // 4) = a ** (k + 1) which is a valid number\n",
    "# as it is an integer\n",
    "\n",
    "pow(quadr_res, ((p+1)//4), p)  # ntheory.nthroot_mod(quadr_res, 2, p, True)"
   ]
  },
  {
   "cell_type": "markdown",
   "id": "930f2a29",
   "metadata": {},
   "source": [
    "#### Modular Square Root"
   ]
  },
  {
   "cell_type": "markdown",
   "id": "c2b36849",
   "metadata": {},
   "source": [
    "##### Tonelli-Shanks\n",
    "+ In a congruence of the form $r^2$ ≡ a mod p, Tonelli-Shanks calculates r\n",
    "+ Tonelli-Shanks doesn't work for composite (non-prime) moduli. Finding square roots modulo composites is computationally equivalent to integer factorization."
   ]
  },
  {
   "cell_type": "code",
   "execution_count": 6,
   "id": "c7c2913c",
   "metadata": {},
   "outputs": [
    {
     "name": "stdout",
     "output_type": "stream",
     "text": [
      "2362339307683048638327773298580489298932137505520500388338271052053734747862351779647314176817953359071871560041125289919247146074907151612762640868199621186559522068338032600991311882224016021222672243139362180461232646732465848840425458257930887856583379600967761738596782877851318489355679822813155123045705285112099448146426755110160002515592418850432103641815811071548456284263507805589445073657565381850521367969675699760755310784623577076440037747681760302434924932113640061738777601194622244192758024180853916244427254065441962557282572849162772740798989647948645207349737457445440405057156897508368531939120\n"
     ]
    }
   ],
   "source": [
    "a = 8479994658316772151941616510097127087554541274812435112009425778595495359700244470400642403747058566807127814165396640215844192327900454116257979487432016769329970767046735091249898678088061634796559556704959846424131820416048436501387617211770124292793308079214153179977624440438616958575058361193975686620046439877308339989295604537867493683872778843921771307305602776398786978353866231661453376056771972069776398999013769588936194859344941268223184197231368887060609212875507518936172060702209557124430477137421847130682601666968691651447236917018634902407704797328509461854842432015009878011354022108661461024768\n",
    "p = 30531851861994333252675935111487950694414332763909083514133769861350960895076504687261369815735742549428789138300843082086550059082835141454526618160634109969195486322015775943030060449557090064811940139431735209185996454739163555910726493597222646855506445602953689527405362207926990442391705014604777038685880527537489845359101552442292804398472642356609304810680731556542002301547846635101455995732584071355903010856718680732337369128498655255277003643669031694516851390505923416710601212618443109844041514942401969629158975457079026906304328749039997262960301209158175920051890620947063936347307238412281568760161\n",
    "\n",
    "def legendre(a, p):\n",
    "    return pow(a, (p - 1) // 2, p)\n",
    " \n",
    "def tonelli(n, p):\n",
    "    assert legendre(n, p) == 1, \"not a square (mod p)\"\n",
    "    q = p - 1\n",
    "    s = 0\n",
    "    while q % 2 == 0:\n",
    "        q //= 2\n",
    "        s += 1\n",
    "    if s == 1:\n",
    "        return pow(n, (p + 1) // 4, p)\n",
    "    for z in range(2, p):\n",
    "        if p - 1 == legendre(z, p):\n",
    "            break\n",
    "    c = pow(z, q, p)\n",
    "    r = pow(n, (q + 1) // 2, p)\n",
    "    t = pow(n, q, p)\n",
    "    m = s\n",
    "    t2 = 0\n",
    "    while (t - 1) % p != 0:\n",
    "        t2 = (t * t) % p\n",
    "        for i in range(1, m):\n",
    "            if (t2 - 1) % p == 0:\n",
    "                break\n",
    "            t2 = (t2 * t2) % p\n",
    "        b = pow(c, 1 << (m - i - 1), p)\n",
    "        r = (r * b) % p\n",
    "        c = (b * b) % p\n",
    "        t = (t * c) % p\n",
    "        m = i\n",
    "    return r\n",
    "\n",
    "if pow(a,(p-1)//2,p) == 1:\n",
    "    r = tonelli(a,p)\n",
    "    assert (r * r - a) % p == 0\n",
    "    #print(\"a = %d p = %d\" % (a, p))\n",
    "    #print(\"\\t  roots : %d %d\" % (r, p - r))\n",
    "    print( min(r, p-r) )  # print(min(sympy.ntheory.nthroot_mod(a, 2, p, True)))"
   ]
  },
  {
   "cell_type": "markdown",
   "id": "19f042db",
   "metadata": {},
   "source": [
    "#### Chinese Remainder Theorem"
   ]
  },
  {
   "cell_type": "code",
   "execution_count": 10,
   "id": "4ce5f9b2",
   "metadata": {},
   "outputs": [
    {
     "name": "stdout",
     "output_type": "stream",
     "text": [
      "872\n"
     ]
    }
   ],
   "source": [
    "\"\"\"\n",
    "x ≡ 2 mod 5\n",
    "x ≡ 3 mod 11\n",
    "x ≡ 5 mod 17 \n",
    "\n",
    "Find the integer a such that x ≡ a mod 935\n",
    "\"\"\"\n",
    "from functools import reduce\n",
    "\n",
    "def chinese_remainder(n, a):\n",
    "    sum = 0\n",
    "    prod = reduce(lambda a, b: a*b, n)\n",
    "    for n_i, a_i in zip(n, a):\n",
    "        p = prod // n_i\n",
    "        sum += a_i * mul_inv(p, n_i) * p\n",
    "    return sum % prod\n",
    "\n",
    "def mul_inv(a, b):\n",
    "    b0 = b\n",
    "    x0, x1 = 0, 1\n",
    "    if b == 1: return 1\n",
    "    while a > 1:\n",
    "        q = a // b\n",
    "        a, b = b, a%b\n",
    "        x0, x1 = x1 - q * x0, x0\n",
    "    if x1 < 0: x1 += b0\n",
    "    return x1\n",
    "\n",
    "n = [5, 11, 17]\n",
    "a = [2, 3, 5]\n",
    "print(chinese_remainder(n, a))\n",
    "\n",
    "# from sympy.ntheory.modular import solve_congruence\n",
    "# print(solve_congruence((2, 5), (3, 11), (5, 17)))"
   ]
  },
  {
   "cell_type": "markdown",
   "id": "d2553acc",
   "metadata": {},
   "source": [
    "### Lattices"
   ]
  },
  {
   "cell_type": "markdown",
   "id": "edc635f9",
   "metadata": {},
   "source": [
    "#### Vectors"
   ]
  },
  {
   "cell_type": "code",
   "execution_count": 1,
   "id": "b23c58d1",
   "metadata": {},
   "outputs": [
    {
     "data": {
      "text/plain": [
       "702"
      ]
     },
     "execution_count": 1,
     "metadata": {},
     "output_type": "execute_result"
    }
   ],
   "source": [
    "\"\"\"\n",
    "v = (2,6,3)\n",
    "w = (1,0,0)\n",
    "u = (7,7,2)\n",
    "\n",
    "calculate 3*(2*v - w) ∙ 2*u. \n",
    "\n",
    "3*((4,12,6) - (1,0,0)) . (14,14,4)\n",
    "3*(3,12,6) . (14,14,4)\n",
    "(9,36,18) . (14,14,4)|\n",
    "\"\"\"\n",
    "9*14 + 36*14+18*4"
   ]
  },
  {
   "cell_type": "markdown",
   "id": "120dc0e6",
   "metadata": {},
   "source": [
    "#### Size and Basis"
   ]
  },
  {
   "cell_type": "code",
   "execution_count": 4,
   "id": "37e1e9a1",
   "metadata": {},
   "outputs": [
    {
     "data": {
      "text/plain": [
       "9.0"
      ]
     },
     "execution_count": 4,
     "metadata": {},
     "output_type": "execute_result"
    }
   ],
   "source": [
    "\"\"\"\n",
    "v = (4, 6, 2, 5)\n",
    "||v||2 = v ∙ v\n",
    "\"\"\"\n",
    "from math import sqrt\n",
    "sqrt(4*4 + 6*6 + 2*2 + 5*5)"
   ]
  },
  {
   "cell_type": "markdown",
   "id": "26bb8c1f",
   "metadata": {},
   "source": [
    "#### Gram Schmidt"
   ]
  },
  {
   "cell_type": "code",
   "execution_count": 29,
   "id": "7d5d9cfe",
   "metadata": {},
   "outputs": [
    {
     "data": {
      "text/plain": [
       "0.91611"
      ]
     },
     "execution_count": 29,
     "metadata": {},
     "output_type": "execute_result"
    }
   ],
   "source": [
    "\"\"\"\n",
    "Algorithm for Gram-Schmidt\n",
    "\n",
    "u1 = v1\n",
    "Loop i = 2,3...,n\n",
    "   Compute μij = vi ∙ uj / ||uj||2, 1 ≤ j < i.\n",
    "   Set ui = vi - μij * uj (Sum over j for 1 ≤ j < i)\n",
    "End Loop\n",
    "\"\"\"\n",
    "import numpy as np\n",
    "from math import sqrt\n",
    "\n",
    "v = np.array([[4,1,3,-1], [2,1,-3,4], [1,0,-2,7], [6, 2, 9, -5] ])\n",
    "\n",
    "n = len(v)\n",
    "mo = np.zeros([n, n], dtype = float)\n",
    "u = np.zeros(v.shape)\n",
    "\n",
    "u[0] = v[0]\n",
    "for i in range(1, n) :\n",
    "    s = 0\n",
    "    for j in range(0, i) :\n",
    "        mo[i,j] = np.dot(v[i], u[j]) / sum(u[j]*u[j])\n",
    "        s += mo[i,j]*u[j]\n",
    "    u[i] = v[i] - s\n",
    "\n",
    "round(u[3, 1], 5)"
   ]
  },
  {
   "cell_type": "markdown",
   "id": "aaf616ad",
   "metadata": {},
   "source": [
    "#### What's a Lattice? *"
   ]
  },
  {
   "cell_type": "code",
   "execution_count": 32,
   "id": "aa56ffaf",
   "metadata": {},
   "outputs": [
    {
     "data": {
      "text/plain": [
       "255"
      ]
     },
     "execution_count": 32,
     "metadata": {},
     "output_type": "execute_result"
    }
   ],
   "source": [
    "round(abs(np.linalg.det( np.array([[6, 2, -3], [5, 1, 4], [2, 7, 1]]) )))"
   ]
  },
  {
   "cell_type": "markdown",
   "id": "1bc3cab0",
   "metadata": {},
   "source": [
    "#### Gaussian Reduction"
   ]
  },
  {
   "cell_type": "code",
   "execution_count": null,
   "id": "d8d9b39a",
   "metadata": {},
   "outputs": [],
   "source": []
  },
  {
   "cell_type": "markdown",
   "id": "8cf9941a",
   "metadata": {},
   "source": [
    "#### Find the Lattice"
   ]
  },
  {
   "cell_type": "code",
   "execution_count": null,
   "id": "dbf02dcd",
   "metadata": {},
   "outputs": [],
   "source": []
  },
  {
   "cell_type": "markdown",
   "id": "93f4eaf9",
   "metadata": {},
   "source": [
    "#### Backpack Cryptography"
   ]
  },
  {
   "cell_type": "code",
   "execution_count": null,
   "id": "92416438",
   "metadata": {},
   "outputs": [],
   "source": []
  },
  {
   "cell_type": "markdown",
   "id": "a7b56c2b",
   "metadata": {},
   "source": [
    "### Brainteasers Part 1"
   ]
  },
  {
   "cell_type": "markdown",
   "id": "30330666",
   "metadata": {},
   "source": [
    "#### Successive Powers"
   ]
  },
  {
   "cell_type": "code",
   "execution_count": 21,
   "id": "7d3c529d",
   "metadata": {},
   "outputs": [
    {
     "name": "stdout",
     "output_type": "stream",
     "text": [
      "crypto{919,209}\n"
     ]
    }
   ],
   "source": [
    "from Crypto.Util.number import bytes_to_long, isPrime\n",
    "\n",
    "l = [588, 665, 216, 113, 642, 4, 836, 114, 851, 492, 819, 237]\n",
    "\n",
    "for p in range(851+1, 1000) :\n",
    "    if isPrime(p):\n",
    "        x1 = (665*pow(588, -1, p))%p\n",
    "        x2 = (216*pow(665, -1, p))%p\n",
    "        if x1 == x2 :\n",
    "            print(f\"crypto{{{p},{x1}}}\")"
   ]
  },
  {
   "cell_type": "markdown",
   "id": "b171aa82",
   "metadata": {},
   "source": [
    "#### Adrien's Signs"
   ]
  },
  {
   "cell_type": "code",
   "execution_count": 26,
   "id": "be012b8c",
   "metadata": {},
   "outputs": [
    {
     "data": {
      "text/plain": [
       "'crypto{p4tterns_1n_re5idu3s}'"
      ]
     },
     "execution_count": 26,
     "metadata": {},
     "output_type": "execute_result"
    }
   ],
   "source": [
    "enc = [67594220461269, 501237540280788, 718316769824518, 296304224247167, 48290626940198, 30829701196032, 521453693392074, 840985324383794, 770420008897119, 745131486581197, 729163531979577, 334563813238599, 289746215495432, 538664937794468, 894085795317163, 983410189487558, 863330928724430, 996272871140947, 352175210511707, 306237700811584, 631393408838583, 589243747914057, 538776819034934, 365364592128161, 454970171810424, 986711310037393, 657756453404881, 388329936724352, 90991447679370, 714742162831112, 62293519842555, 653941126489711, 448552658212336, 970169071154259, 339472870407614, 406225588145372, 205721593331090, 926225022409823, 904451547059845, 789074084078342, 886420071481685, 796827329208633, 433047156347276, 21271315846750, 719248860593631, 534059295222748, 879864647580512, 918055794962142, 635545050939893, 319549343320339, 93008646178282, 926080110625306, 385476640825005, 483740420173050, 866208659796189, 883359067574584, 913405110264883, 898864873510337, 208598541987988, 23412800024088, 911541450703474, 57446699305445, 513296484586451, 180356843554043, 756391301483653, 823695939808936, 452898981558365, 383286682802447, 381394258915860, 385482809649632, 357950424436020, 212891024562585, 906036654538589, 706766032862393, 500658491083279, 134746243085697, 240386541491998, 850341345692155, 826490944132718, 329513332018620, 41046816597282, 396581286424992, 488863267297267, 92023040998362, 529684488438507, 925328511390026, 524897846090435, 413156582909097, 840524616502482, 325719016994120, 402494835113608, 145033960690364, 43932113323388, 683561775499473, 434510534220939, 92584300328516, 763767269974656, 289837041593468, 11468527450938, 628247946152943, 8844724571683, 813851806959975, 72001988637120, 875394575395153, 70667866716476, 75304931994100, 226809172374264, 767059176444181, 45462007920789, 472607315695803, 325973946551448, 64200767729194, 534886246409921, 950408390792175, 492288777130394, 226746605380806, 944479111810431, 776057001143579, 658971626589122, 231918349590349, 699710172246548, 122457405264610, 643115611310737, 999072890586878, 203230862786955, 348112034218733, 240143417330886, 927148962961842, 661569511006072, 190334725550806, 763365444730995, 516228913786395, 846501182194443, 741210200995504, 511935604454925, 687689993302203, 631038090127480, 961606522916414, 138550017953034, 932105540686829, 215285284639233, 772628158955819, 496858298527292, 730971468815108, 896733219370353, 967083685727881, 607660822695530, 650953466617730, 133773994258132, 623283311953090, 436380836970128, 237114930094468, 115451711811481, 674593269112948, 140400921371770, 659335660634071, 536749311958781, 854645598266824, 303305169095255, 91430489108219, 573739385205188, 400604977158702, 728593782212529, 807432219147040, 893541884126828, 183964371201281, 422680633277230, 218817645778789, 313025293025224, 657253930848472, 747562211812373, 83456701182914, 470417289614736, 641146659305859, 468130225316006, 46960547227850, 875638267674897, 662661765336441, 186533085001285, 743250648436106, 451414956181714, 527954145201673, 922589993405001, 242119479617901, 865476357142231, 988987578447349, 430198555146088, 477890180119931, 844464003254807, 503374203275928, 775374254241792, 346653210679737, 789242808338116, 48503976498612, 604300186163323, 475930096252359, 860836853339514, 994513691290102, 591343659366796, 944852018048514, 82396968629164, 152776642436549, 916070996204621, 305574094667054, 981194179562189, 126174175810273, 55636640522694, 44670495393401, 74724541586529, 988608465654705, 870533906709633, 374564052429787, 486493568142979, 469485372072295, 221153171135022, 289713227465073, 952450431038075, 107298466441025, 938262809228861, 253919870663003, 835790485199226, 655456538877798, 595464842927075, 191621819564547]\n",
    "\n",
    "def legendre(a, p):\n",
    "    return pow(a, (p - 1) // 2, p)\n",
    "\n",
    "a = 288260533169915\n",
    "p = 1007621497415251\n",
    "\n",
    "f = \"\"\n",
    "for i in enc :\n",
    "    if legendre(i, p)==1 :\n",
    "        f += \"1\"\n",
    "    else :\n",
    "        f += \"0\"\n",
    "\n",
    "''.join( [chr(int(f[i*8:i*8+8], 2)) for i in range(0, len(f)//8)] )"
   ]
  },
  {
   "cell_type": "markdown",
   "id": "39b1ed7b",
   "metadata": {},
   "source": [
    "#### Modular Binomials"
   ]
  },
  {
   "cell_type": "code",
   "execution_count": 31,
   "id": "04abde1b",
   "metadata": {},
   "outputs": [
    {
     "data": {
      "text/plain": [
       "'crypto{112274000169258486390262064441991200608556376127408952701514962644340921899196091557519382763356534106376906489445103255177593594898966250176773605432765983897105047795619470659157057093771407309168345670541418772427807148039207489900810013783673957984006269120652134007689272484517805398390277308001719431273,132760587806365301971479157072031448380135765794466787456948786731168095877956875295282661565488242190731593282663694728914945967253173047324353981530949360031535707374701705328450856944598803228299967009004598984671293494375599408764139743217465012770376728876547958852025425539298410751132782632817947101601}'"
      ]
     },
     "execution_count": 31,
     "metadata": {},
     "output_type": "execute_result"
    }
   ],
   "source": [
    "\"\"\"\n",
    "N = p*q\n",
    "c1 = (2*p + 3*q)**e1 mod N\n",
    "c2 = (5*p + 7*q)**e2 mod N \n",
    "\"\"\"\n",
    "N = 14905562257842714057932724129575002825405393502650869767115942606408600343380327866258982402447992564988466588305174271674657844352454543958847568190372446723549627752274442789184236490768272313187410077124234699854724907039770193680822495470532218905083459730998003622926152590597710213127952141056029516116785229504645179830037937222022291571738973603920664929150436463632305664687903244972880062028301085749434688159905768052041207513149370212313943117665914802379158613359049957688563885391972151218676545972118494969247440489763431359679770422939441710783575668679693678435669541781490217731619224470152467768073\n",
    "e1 = 12886657667389660800780796462970504910193928992888518978200029826975978624718627799215564700096007849924866627154987365059524315097631111242449314835868137\n",
    "e2 = 12110586673991788415780355139635579057920926864887110308343229256046868242179445444897790171351302575188607117081580121488253540215781625598048021161675697\n",
    "c1 = 14010729418703228234352465883041270611113735889838753433295478495763409056136734155612156934673988344882629541204985909650433819205298939877837314145082403528055884752079219150739849992921393509593620449489882380176216648401057401569934043087087362272303101549800941212057354903559653373299153430753882035233354304783275982332995766778499425529570008008029401325668301144188970480975565215953953985078281395545902102245755862663621187438677596628109967066418993851632543137353041712721919291521767262678140115188735994447949166616101182806820741928292882642234238450207472914232596747755261325098225968268926580993051\n",
    "c2 = 14386997138637978860748278986945098648507142864584111124202580365103793165811666987664851210230009375267398957979494066880296418013345006977654742303441030008490816239306394492168516278328851513359596253775965916326353050138738183351643338294802012193721879700283088378587949921991198231956871429805847767716137817313612304833733918657887480468724409753522369325138502059408241232155633806496752350562284794715321835226991147547651155287812485862794935695241612676255374480132722940682140395725089329445356434489384831036205387293760789976615210310436732813848937666608611803196199865435145094486231635966885932646519\n",
    "\n",
    "from factordb.factordb import FactorDB\n",
    "\n",
    "f = FactorDB(N)\n",
    "f.connect()\n",
    "p, q = f.get_factor_list()\n",
    "\n",
    "f\"crypto{{{p},{q}}}\""
   ]
  },
  {
   "cell_type": "markdown",
   "id": "31810e6e",
   "metadata": {},
   "source": [
    "#### Broken RSA"
   ]
  },
  {
   "cell_type": "code",
   "execution_count": 32,
   "id": "efa10e7b",
   "metadata": {},
   "outputs": [],
   "source": [
    "n = 27772857409875257529415990911214211975844307184430241451899407838750503024323367895540981606586709985980003435082116995888017731426634845808624796292507989171497629109450825818587383112280639037484593490692935998202437639626747133650990603333094513531505209954273004473567193235535061942991750932725808679249964667090723480397916715320876867803719301313440005075056481203859010490836599717523664197112053206745235908610484907715210436413015546671034478367679465233737115549451849810421017181842615880836253875862101545582922437858358265964489786463923280312860843031914516061327752183283528015684588796400861331354873\n",
    "e = 16\n",
    "ct = 11303174761894431146735697569489134747234975144162172162401674567273034831391936916397234068346115459134602443963604063679379285919302225719050193590179240191429612072131629779948379821039610415099784351073443218911356328815458050694493726951231241096695626477586428880220528001269746547018741237131741255022371957489462380305100634600499204435763201371188769446054925748151987175656677342779043435047048130599123081581036362712208692748034620245590448762406543804069935873123161582756799517226666835316588896306926659321054276507714414876684738121421124177324568084533020088172040422767194971217814466953837590498718"
   ]
  },
  {
   "cell_type": "markdown",
   "id": "e259d517",
   "metadata": {},
   "source": [
    "#### No Way Back Home"
   ]
  },
  {
   "cell_type": "code",
   "execution_count": null,
   "id": "623b6d99",
   "metadata": {},
   "outputs": [],
   "source": []
  },
  {
   "cell_type": "code",
   "execution_count": null,
   "id": "c990b0ab",
   "metadata": {},
   "outputs": [],
   "source": []
  },
  {
   "cell_type": "code",
   "execution_count": null,
   "id": "802d1181",
   "metadata": {},
   "outputs": [],
   "source": []
  },
  {
   "cell_type": "markdown",
   "id": "e415036b",
   "metadata": {},
   "source": [
    "## Symmetric Ciphers"
   ]
  },
  {
   "cell_type": "markdown",
   "id": "3c2e0b62",
   "metadata": {},
   "source": [
    "### How AES Works"
   ]
  },
  {
   "cell_type": "markdown",
   "id": "55250c5d",
   "metadata": {},
   "source": [
    "#### Keyed Permutations"
   ]
  },
  {
   "cell_type": "markdown",
   "id": "5e577dc7",
   "metadata": {},
   "source": [
    "+ What is the mathematical term for a one-to-one correspondence?\n",
    "- crypto{Bijection}"
   ]
  },
  {
   "cell_type": "markdown",
   "id": "cf2c3008",
   "metadata": {},
   "source": [
    "#### Resisting Bruteforce"
   ]
  },
  {
   "cell_type": "markdown",
   "id": "4b647298",
   "metadata": {},
   "source": [
    "Finally, while quantum computers have the potential to completely break popular public-key cryptosystems like RSA via [**Shor's algorithm**](https://en.wikipedia.org/wiki/Shor%27s_algorithm), they are thought to only cut in half the security level of symmetric cryptosystems via [**Grover's algorithm**](https://en.wikipedia.org/wiki/Grover's_algorithm). This is one reason why people recommend using AES-256, despite it being less performant, as it would still provide a very adequate 128 bits of security in a quantum future.  \n",
    " \n",
    "+ What is the name for the best single-key attack against AES? \n",
    "+ crypto{[Biclique](https://en.wikipedia.org/wiki/Biclique_attack)}"
   ]
  },
  {
   "cell_type": "markdown",
   "id": "f4ac0f46",
   "metadata": {},
   "source": [
    "#### Structure of AES"
   ]
  },
  {
   "cell_type": "code",
   "execution_count": 1,
   "id": "4d182281",
   "metadata": {},
   "outputs": [
    {
     "name": "stdout",
     "output_type": "stream",
     "text": [
      "b'crypto{inmatrix}'\n"
     ]
    }
   ],
   "source": [
    "def bytes2matrix(text):\n",
    "    \"\"\" Converts a 16-byte array into a 4x4 matrix.  \"\"\"\n",
    "    return [list(text[i:i+4]) for i in range(0, len(text), 4)]\n",
    "\n",
    "def matrix2bytes(matrix):\n",
    "    \"\"\" Converts a 4x4 matrix into a 16-byte array.  \"\"\"\n",
    "    return ''.join([chr(b) for row in matrix for b in row]).encode()\n",
    "\n",
    "matrix = [\n",
    "    [99, 114, 121, 112],\n",
    "    [116, 111, 123, 105],\n",
    "    [110, 109, 97, 116],\n",
    "    [114, 105, 120, 125],\n",
    "]\n",
    "\n",
    "print(matrix2bytes(matrix))"
   ]
  },
  {
   "cell_type": "markdown",
   "id": "293e6deb",
   "metadata": {},
   "source": [
    "#### Round Keys"
   ]
  },
  {
   "cell_type": "code",
   "execution_count": 8,
   "id": "a2a082bc",
   "metadata": {},
   "outputs": [
    {
     "name": "stdout",
     "output_type": "stream",
     "text": [
      "b'crypto{r0undk3y}'\n"
     ]
    }
   ],
   "source": [
    "state = [\n",
    "    [206, 243, 61, 34],\n",
    "    [171, 11, 93, 31],\n",
    "    [16, 200, 91, 108],\n",
    "    [150, 3, 194, 51],\n",
    "]\n",
    "\n",
    "round_key = [\n",
    "    [173, 129, 68, 82],\n",
    "    [223, 100, 38, 109],\n",
    "    [32, 189, 53, 8],\n",
    "    [253, 48, 187, 78],\n",
    "]\n",
    "\n",
    "\n",
    "def add_round_key(state, round_key):\n",
    "    return [ [v1^v2 for v1, v2 in zip(st, rkey)] for st, rkey in zip(state, round_key)]\n",
    "\n",
    "\n",
    "print(matrix2bytes( add_round_key(state, round_key) ))"
   ]
  },
  {
   "cell_type": "markdown",
   "id": "9c60acfa",
   "metadata": {},
   "source": [
    "#### Confusion through Substitution"
   ]
  },
  {
   "cell_type": "code",
   "execution_count": 9,
   "id": "2af22bfb",
   "metadata": {},
   "outputs": [
    {
     "name": "stdout",
     "output_type": "stream",
     "text": [
      "b'crypto{l1n34rly}'\n"
     ]
    }
   ],
   "source": [
    "s_box = (\n",
    "    0x63, 0x7C, 0x77, 0x7B, 0xF2, 0x6B, 0x6F, 0xC5, 0x30, 0x01, 0x67, 0x2B, 0xFE, 0xD7, 0xAB, 0x76,\n",
    "    0xCA, 0x82, 0xC9, 0x7D, 0xFA, 0x59, 0x47, 0xF0, 0xAD, 0xD4, 0xA2, 0xAF, 0x9C, 0xA4, 0x72, 0xC0,\n",
    "    0xB7, 0xFD, 0x93, 0x26, 0x36, 0x3F, 0xF7, 0xCC, 0x34, 0xA5, 0xE5, 0xF1, 0x71, 0xD8, 0x31, 0x15,\n",
    "    0x04, 0xC7, 0x23, 0xC3, 0x18, 0x96, 0x05, 0x9A, 0x07, 0x12, 0x80, 0xE2, 0xEB, 0x27, 0xB2, 0x75,\n",
    "    0x09, 0x83, 0x2C, 0x1A, 0x1B, 0x6E, 0x5A, 0xA0, 0x52, 0x3B, 0xD6, 0xB3, 0x29, 0xE3, 0x2F, 0x84,\n",
    "    0x53, 0xD1, 0x00, 0xED, 0x20, 0xFC, 0xB1, 0x5B, 0x6A, 0xCB, 0xBE, 0x39, 0x4A, 0x4C, 0x58, 0xCF,\n",
    "    0xD0, 0xEF, 0xAA, 0xFB, 0x43, 0x4D, 0x33, 0x85, 0x45, 0xF9, 0x02, 0x7F, 0x50, 0x3C, 0x9F, 0xA8,\n",
    "    0x51, 0xA3, 0x40, 0x8F, 0x92, 0x9D, 0x38, 0xF5, 0xBC, 0xB6, 0xDA, 0x21, 0x10, 0xFF, 0xF3, 0xD2,\n",
    "    0xCD, 0x0C, 0x13, 0xEC, 0x5F, 0x97, 0x44, 0x17, 0xC4, 0xA7, 0x7E, 0x3D, 0x64, 0x5D, 0x19, 0x73,\n",
    "    0x60, 0x81, 0x4F, 0xDC, 0x22, 0x2A, 0x90, 0x88, 0x46, 0xEE, 0xB8, 0x14, 0xDE, 0x5E, 0x0B, 0xDB,\n",
    "    0xE0, 0x32, 0x3A, 0x0A, 0x49, 0x06, 0x24, 0x5C, 0xC2, 0xD3, 0xAC, 0x62, 0x91, 0x95, 0xE4, 0x79,\n",
    "    0xE7, 0xC8, 0x37, 0x6D, 0x8D, 0xD5, 0x4E, 0xA9, 0x6C, 0x56, 0xF4, 0xEA, 0x65, 0x7A, 0xAE, 0x08,\n",
    "    0xBA, 0x78, 0x25, 0x2E, 0x1C, 0xA6, 0xB4, 0xC6, 0xE8, 0xDD, 0x74, 0x1F, 0x4B, 0xBD, 0x8B, 0x8A,\n",
    "    0x70, 0x3E, 0xB5, 0x66, 0x48, 0x03, 0xF6, 0x0E, 0x61, 0x35, 0x57, 0xB9, 0x86, 0xC1, 0x1D, 0x9E,\n",
    "    0xE1, 0xF8, 0x98, 0x11, 0x69, 0xD9, 0x8E, 0x94, 0x9B, 0x1E, 0x87, 0xE9, 0xCE, 0x55, 0x28, 0xDF,\n",
    "    0x8C, 0xA1, 0x89, 0x0D, 0xBF, 0xE6, 0x42, 0x68, 0x41, 0x99, 0x2D, 0x0F, 0xB0, 0x54, 0xBB, 0x16,\n",
    ")\n",
    "\n",
    "inv_s_box = (\n",
    "    0x52, 0x09, 0x6A, 0xD5, 0x30, 0x36, 0xA5, 0x38, 0xBF, 0x40, 0xA3, 0x9E, 0x81, 0xF3, 0xD7, 0xFB,\n",
    "    0x7C, 0xE3, 0x39, 0x82, 0x9B, 0x2F, 0xFF, 0x87, 0x34, 0x8E, 0x43, 0x44, 0xC4, 0xDE, 0xE9, 0xCB,\n",
    "    0x54, 0x7B, 0x94, 0x32, 0xA6, 0xC2, 0x23, 0x3D, 0xEE, 0x4C, 0x95, 0x0B, 0x42, 0xFA, 0xC3, 0x4E,\n",
    "    0x08, 0x2E, 0xA1, 0x66, 0x28, 0xD9, 0x24, 0xB2, 0x76, 0x5B, 0xA2, 0x49, 0x6D, 0x8B, 0xD1, 0x25,\n",
    "    0x72, 0xF8, 0xF6, 0x64, 0x86, 0x68, 0x98, 0x16, 0xD4, 0xA4, 0x5C, 0xCC, 0x5D, 0x65, 0xB6, 0x92,\n",
    "    0x6C, 0x70, 0x48, 0x50, 0xFD, 0xED, 0xB9, 0xDA, 0x5E, 0x15, 0x46, 0x57, 0xA7, 0x8D, 0x9D, 0x84,\n",
    "    0x90, 0xD8, 0xAB, 0x00, 0x8C, 0xBC, 0xD3, 0x0A, 0xF7, 0xE4, 0x58, 0x05, 0xB8, 0xB3, 0x45, 0x06,\n",
    "    0xD0, 0x2C, 0x1E, 0x8F, 0xCA, 0x3F, 0x0F, 0x02, 0xC1, 0xAF, 0xBD, 0x03, 0x01, 0x13, 0x8A, 0x6B,\n",
    "    0x3A, 0x91, 0x11, 0x41, 0x4F, 0x67, 0xDC, 0xEA, 0x97, 0xF2, 0xCF, 0xCE, 0xF0, 0xB4, 0xE6, 0x73,\n",
    "    0x96, 0xAC, 0x74, 0x22, 0xE7, 0xAD, 0x35, 0x85, 0xE2, 0xF9, 0x37, 0xE8, 0x1C, 0x75, 0xDF, 0x6E,\n",
    "    0x47, 0xF1, 0x1A, 0x71, 0x1D, 0x29, 0xC5, 0x89, 0x6F, 0xB7, 0x62, 0x0E, 0xAA, 0x18, 0xBE, 0x1B,\n",
    "    0xFC, 0x56, 0x3E, 0x4B, 0xC6, 0xD2, 0x79, 0x20, 0x9A, 0xDB, 0xC0, 0xFE, 0x78, 0xCD, 0x5A, 0xF4,\n",
    "    0x1F, 0xDD, 0xA8, 0x33, 0x88, 0x07, 0xC7, 0x31, 0xB1, 0x12, 0x10, 0x59, 0x27, 0x80, 0xEC, 0x5F,\n",
    "    0x60, 0x51, 0x7F, 0xA9, 0x19, 0xB5, 0x4A, 0x0D, 0x2D, 0xE5, 0x7A, 0x9F, 0x93, 0xC9, 0x9C, 0xEF,\n",
    "    0xA0, 0xE0, 0x3B, 0x4D, 0xAE, 0x2A, 0xF5, 0xB0, 0xC8, 0xEB, 0xBB, 0x3C, 0x83, 0x53, 0x99, 0x61,\n",
    "    0x17, 0x2B, 0x04, 0x7E, 0xBA, 0x77, 0xD6, 0x26, 0xE1, 0x69, 0x14, 0x63, 0x55, 0x21, 0x0C, 0x7D,\n",
    ")\n",
    "\n",
    "state = [\n",
    "    [251, 64, 182, 81],\n",
    "    [146, 168, 33, 80],\n",
    "    [199, 159, 195, 24],\n",
    "    [64, 80, 182, 255],\n",
    "]\n",
    "\n",
    "\n",
    "def sub_bytes(s, sbox=s_box):\n",
    "    return [[sbox[item] for item in row] for row in s]\n",
    "\n",
    "\n",
    "print(matrix2bytes( sub_bytes(state, sbox=inv_s_box)) )"
   ]
  },
  {
   "cell_type": "markdown",
   "id": "73743b4e",
   "metadata": {},
   "source": [
    "#### Diffusion through Permutation"
   ]
  },
  {
   "cell_type": "code",
   "execution_count": 11,
   "id": "51237356",
   "metadata": {},
   "outputs": [
    {
     "data": {
      "text/plain": [
       "b'crypto{d1ffUs3R}'"
      ]
     },
     "execution_count": 11,
     "metadata": {},
     "output_type": "execute_result"
    }
   ],
   "source": [
    "def shift_rows(s):\n",
    "    s[0][1], s[1][1], s[2][1], s[3][1] = s[1][1], s[2][1], s[3][1], s[0][1]\n",
    "    s[0][2], s[1][2], s[2][2], s[3][2] = s[2][2], s[3][2], s[0][2], s[1][2]\n",
    "    s[0][3], s[1][3], s[2][3], s[3][3] = s[3][3], s[0][3], s[1][3], s[2][3]\n",
    "\n",
    "\n",
    "def inv_shift_rows(s):\n",
    "    s[1][1], s[2][1], s[3][1], s[0][1] = s[0][1], s[1][1], s[2][1], s[3][1]\n",
    "    s[2][2], s[3][2], s[0][2], s[1][2] = s[0][2], s[1][2], s[2][2], s[3][2]\n",
    "    s[3][3], s[0][3], s[1][3], s[2][3] = s[0][3], s[1][3], s[2][3], s[3][3]\n",
    "\n",
    "\n",
    "# learned from http://cs.ucsb.edu/~koc/cs178/projects/JT/aes.c\n",
    "xtime = lambda a: (((a << 1) ^ 0x1B) & 0xFF) if (a & 0x80) else (a << 1)\n",
    "\n",
    "\n",
    "def mix_single_column(a):\n",
    "    # see Sec 4.1.2 in The Design of Rijndael\n",
    "    t = a[0] ^ a[1] ^ a[2] ^ a[3]\n",
    "    u = a[0]\n",
    "    a[0] ^= t ^ xtime(a[0] ^ a[1])\n",
    "    a[1] ^= t ^ xtime(a[1] ^ a[2])\n",
    "    a[2] ^= t ^ xtime(a[2] ^ a[3])\n",
    "    a[3] ^= t ^ xtime(a[3] ^ u)\n",
    "\n",
    "\n",
    "def mix_columns(s):\n",
    "    for i in range(4):\n",
    "        mix_single_column(s[i])\n",
    "\n",
    "\n",
    "def inv_mix_columns(s):\n",
    "    # see Sec 4.1.3 in The Design of Rijndael\n",
    "    for i in range(4):\n",
    "        u = xtime(xtime(s[i][0] ^ s[i][2]))\n",
    "        v = xtime(xtime(s[i][1] ^ s[i][3]))\n",
    "        s[i][0] ^= u\n",
    "        s[i][1] ^= v\n",
    "        s[i][2] ^= u\n",
    "        s[i][3] ^= v\n",
    "\n",
    "    mix_columns(s)\n",
    "\n",
    "\n",
    "state = [\n",
    "    [108, 106, 71, 86],\n",
    "    [96, 62, 38, 72],\n",
    "    [42, 184, 92, 209],\n",
    "    [94, 79, 8, 54],\n",
    "]\n",
    "\n",
    "inv_mix_columns(state)\n",
    "inv_shift_rows(state)\n",
    "matrix2bytes(state)"
   ]
  },
  {
   "cell_type": "markdown",
   "id": "99b6fb6f",
   "metadata": {},
   "source": [
    "#### Bringing It All Together"
   ]
  },
  {
   "cell_type": "code",
   "execution_count": 13,
   "id": "5298ecce",
   "metadata": {},
   "outputs": [
    {
     "name": "stdout",
     "output_type": "stream",
     "text": [
      "b'crypto{MYAES128}'\n"
     ]
    }
   ],
   "source": [
    "N_ROUNDS = 10\n",
    "\n",
    "key        = b'\\xc3,\\\\\\xa6\\xb5\\x80^\\x0c\\xdb\\x8d\\xa5z*\\xb6\\xfe\\\\'\n",
    "ciphertext = b'\\xd1O\\x14j\\xa4+O\\xb6\\xa1\\xc4\\x08B)\\x8f\\x12\\xdd'\n",
    "\n",
    "\n",
    "\n",
    "def expand_key(master_key):\n",
    "    \"\"\"\n",
    "    Expands and returns a list of key matrices for the given master_key.\n",
    "    \"\"\"\n",
    "\n",
    "    # Round constants https://en.wikipedia.org/wiki/AES_key_schedule#Round_constants\n",
    "    r_con = (\n",
    "        0x00, 0x01, 0x02, 0x04, 0x08, 0x10, 0x20, 0x40,\n",
    "        0x80, 0x1B, 0x36, 0x6C, 0xD8, 0xAB, 0x4D, 0x9A,\n",
    "        0x2F, 0x5E, 0xBC, 0x63, 0xC6, 0x97, 0x35, 0x6A,\n",
    "        0xD4, 0xB3, 0x7D, 0xFA, 0xEF, 0xC5, 0x91, 0x39,\n",
    "    )\n",
    "\n",
    "    # Initialize round keys with raw key material.\n",
    "    key_columns = bytes2matrix(master_key)\n",
    "    iteration_size = len(master_key) // 4\n",
    "\n",
    "    # Each iteration has exactly as many columns as the key material.\n",
    "    i = 1\n",
    "    while len(key_columns) < (N_ROUNDS + 1) * 4:\n",
    "        # Copy previous word.\n",
    "        word = list(key_columns[-1])\n",
    "\n",
    "        # Perform schedule_core once every \"row\".\n",
    "        if len(key_columns) % iteration_size == 0:\n",
    "            # Circular shift.\n",
    "            word.append(word.pop(0))\n",
    "            # Map to S-BOX.\n",
    "            word = [s_box[b] for b in word]\n",
    "            # XOR with first byte of R-CON, since the others bytes of R-CON are 0.\n",
    "            word[0] ^= r_con[i]\n",
    "            i += 1\n",
    "        elif len(master_key) == 32 and len(key_columns) % iteration_size == 4:\n",
    "            # Run word through S-box in the fourth iteration when using a\n",
    "            # 256-bit key.\n",
    "            word = [s_box[b] for b in word]\n",
    "\n",
    "        # XOR with equivalent word from previous iteration.\n",
    "        word = bytes(i^j for i, j in zip(word, key_columns[-iteration_size]))\n",
    "        key_columns.append(word)\n",
    "\n",
    "    # Group key words in 4x4 byte matrices.\n",
    "    return [key_columns[4*i : 4*(i+1)] for i in range(len(key_columns) // 4)]\n",
    "\n",
    "\n",
    "def decrypt(key, ciphertext):\n",
    "    round_keys = expand_key(key) # Remember to start from the last round key and work backwards through them when decrypting\n",
    "\n",
    "    # Convert ciphertext to state matrix\n",
    "    state = bytes2matrix(ciphertext)\n",
    "    \n",
    "    # Initial add round key step\n",
    "    state = add_round_key(state, round_keys[-1])\n",
    "\n",
    "    for i in range(N_ROUNDS - 1, 0, -1):\n",
    "        inv_shift_rows(state)\n",
    "        state = sub_bytes(state, sbox=inv_s_box)\n",
    "        state = add_round_key(state, round_keys[i])\n",
    "        inv_mix_columns(state)\n",
    "        # pass # Do round\n",
    "\n",
    "    # Run final round (skips the InvMixColumns step)\n",
    "    inv_shift_rows(state)\n",
    "    state = sub_bytes(state, sbox=inv_s_box)\n",
    "    state = add_round_key(state, round_keys[0])\n",
    "        \n",
    "    # Convert state matrix to plaintext\n",
    "    plaintext = matrix2bytes(state)\n",
    "    \n",
    "    return plaintext\n",
    "\n",
    "\n",
    "print(decrypt(key, ciphertext))"
   ]
  },
  {
   "cell_type": "code",
   "execution_count": null,
   "id": "a8e86ccd",
   "metadata": {},
   "outputs": [],
   "source": []
  },
  {
   "cell_type": "markdown",
   "id": "e6da0924",
   "metadata": {},
   "source": [
    "### Symmetric Starter"
   ]
  },
  {
   "cell_type": "markdown",
   "id": "2c6fc14b",
   "metadata": {},
   "source": [
    "#### Modes of Operation Starter"
   ]
  },
  {
   "cell_type": "markdown",
   "id": "0145dbba",
   "metadata": {},
   "source": [
    "+ http://aes.cryptohack.org/block_cipher_starter/\n",
    "> crypto{bl0ck_c1ph3r5_4r3_f457_!}"
   ]
  },
  {
   "cell_type": "markdown",
   "id": "6300c700",
   "metadata": {},
   "source": [
    "#### Passwords as Keys"
   ]
  },
  {
   "cell_type": "code",
   "execution_count": 15,
   "id": "a632e40a",
   "metadata": {},
   "outputs": [
    {
     "name": "stdout",
     "output_type": "stream",
     "text": [
      "ciphertext c92b7734070205bdf6c0087a751466ec13ae15e6f1bcdd3f3a535ec0f4bbae66\n",
      "plaintext 63727970746f7b6b3379355f5f725f5f6e30375f5f70343535773072647a3f7d\n",
      "flag crypto{k3y5__r__n07__p455w0rdz?}\n"
     ]
    }
   ],
   "source": [
    "import requests\n",
    "from Crypto.Cipher import AES\n",
    "import hashlib\n",
    "import random\n",
    "import json\n",
    "\n",
    "BASE_URL = \"http://aes.cryptohack.org/passwords_as_keys/\"\n",
    "\n",
    "# 1) get the ciphertext of the encrypted flag\n",
    "r = requests.get(f\"{BASE_URL}/encrypt_flag\")\n",
    "data = r.json()\n",
    "ciphertext = data[\"ciphertext\"]\n",
    "print(\"ciphertext\", ciphertext)\n",
    "\n",
    "ciphertext = bytes.fromhex(ciphertext)\n",
    "\n",
    "# https://gist.githubusercontent.com/wchargin/8927565/raw/d9783627c731268fb2935a731a618aa8e95cf465/words\n",
    "with open(\"./words\") as f:\n",
    "    words = [w.strip() for w in f.readlines()]\n",
    "\n",
    "for keyword in words :\n",
    "    password_hash = hashlib.md5(keyword.encode()).digest()\n",
    "    cipher = AES.new(password_hash, AES.MODE_ECB)\n",
    "    try:\n",
    "        decrypted = cipher.decrypt(ciphertext)\n",
    "    except ValueError as e:\n",
    "        print(e)\n",
    "    if b'crypto' in decrypted :\n",
    "        #print(f\"flag = {decrypted}\")\n",
    "        # 2) send the ciphertext to the decrypt function\n",
    "        r = requests.get(f\"{BASE_URL}/decrypt/{ciphertext.hex()}/{password_hash.hex()}\")\n",
    "        data = r.json()\n",
    "        plaintext = data[\"plaintext\"]\n",
    "        print(\"plaintext\", plaintext)\n",
    "        break\n",
    "        \n",
    "# 3) convert from hex to ASCII to have the flag\n",
    "print(\"flag\", bytearray.fromhex(plaintext).decode())"
   ]
  },
  {
   "cell_type": "markdown",
   "id": "dd5346a0",
   "metadata": {},
   "source": [
    "### Block Ciphers"
   ]
  },
  {
   "cell_type": "markdown",
   "id": "fefff435",
   "metadata": {},
   "source": [
    "#### ECB CBC WTF"
   ]
  },
  {
   "cell_type": "code",
   "execution_count": null,
   "id": "0be74ced",
   "metadata": {},
   "outputs": [],
   "source": []
  },
  {
   "cell_type": "markdown",
   "id": "3399ac20",
   "metadata": {},
   "source": [
    "#### ECB Oracle"
   ]
  },
  {
   "cell_type": "code",
   "execution_count": 108,
   "id": "531bd469",
   "metadata": {},
   "outputs": [
    {
     "name": "stdout",
     "output_type": "stream",
     "text": [
      "b'crypto{p3n6u1n5_h473_3cb}'\n"
     ]
    }
   ],
   "source": [
    "import requests\n",
    "from Crypto.Cipher import AES\n",
    "import hashlib\n",
    "import random\n",
    "import json\n",
    "\n",
    "BASE_URL = \"http://aes.cryptohack.org/ecb_oracle/\"\n",
    "\n",
    "def exploit() :\n",
    "    know = b\"crypto{p3n6u1n5_h473_3cb\"\n",
    "    for i in range(31-len(know),6,-1) :  \n",
    "        payload = b'a'*i\n",
    "        real = requests.get(f\"{BASE_URL}//encrypt/{payload.hex()}\").json()[\"ciphertext\"][:64]\n",
    "        for j in range(0x20, 0x80):\n",
    "            snd = payload + know + int.to_bytes(j, length=1, byteorder='big', signed=False)\n",
    "            #print(f\"flag = {snd}\")\n",
    "            res = requests.get(f\"{BASE_URL}//encrypt/{snd.hex()}\").json()[\"ciphertext\"][:64]\n",
    "            if res == real :\n",
    "                know += int.to_bytes(j, length=1, byteorder='big', signed=False)\n",
    "                print(know)\n",
    "                break\n",
    "        \n",
    "exploit()  # crypto{p3n6u1n5_h473_3cb}"
   ]
  },
  {
   "cell_type": "markdown",
   "id": "ccb6108a",
   "metadata": {},
   "source": [
    "#### ECB CBC WTF"
   ]
  },
  {
   "cell_type": "code",
   "execution_count": 135,
   "id": "9349e484",
   "metadata": {},
   "outputs": [
    {
     "name": "stdout",
     "output_type": "stream",
     "text": [
      "ciphertext a98d4f0d93ae4d764abb66101d919ad64603f8616b5bd6a88fadd63de402e995ee82689f1b9ae2cb6157e725d463cc97\n",
      "[!] flag = b'crypto{3cb_5uck5_4v01d_17_!!!!!}'\n"
     ]
    }
   ],
   "source": [
    "from Crypto.Cipher import AES\n",
    "import os\n",
    "from pwn import *\n",
    "\n",
    "BASE_URL = \"http://aes.cryptohack.org/ecbcbcwtf\"\n",
    "\n",
    "# 1) get the ciphertext of the encrypted flag\n",
    "encryptedFlag = requests.get(f\"{BASE_URL}/encrypt_flag\").json()[\"ciphertext\"]\n",
    "print(\"ciphertext\", encryptedFlag)\n",
    "#ciphertext = bytes.fromhex(ciphertext)\n",
    "\n",
    "iv = bytes.fromhex(encryptedFlag[:32])\n",
    "\n",
    "decryptedFlag1 = requests.get(f\"{BASE_URL}/decrypt/{encryptedFlag[32:64]}\").json()[\"plaintext\"]\n",
    "p1 = xor(iv,  bytes.fromhex(decryptedFlag1) )\n",
    "\n",
    "decryptedFlag2 = requests.get(f\"{BASE_URL}/decrypt/{encryptedFlag[64:96]}\").json()[\"plaintext\"]\n",
    "p2 = xor(bytes.fromhex(encryptedFlag[32:64]),  bytes.fromhex(decryptedFlag2) )\n",
    "\n",
    "print(f\"[!] flag = {p1+p2}\")"
   ]
  },
  {
   "cell_type": "markdown",
   "id": "74e920af",
   "metadata": {},
   "source": [
    "#### Flipping Cookie`"
   ]
  },
  {
   "cell_type": "code",
   "execution_count": null,
   "id": "222d8be6",
   "metadata": {},
   "outputs": [],
   "source": []
  },
  {
   "cell_type": "code",
   "execution_count": null,
   "id": "0e4ec932",
   "metadata": {},
   "outputs": [],
   "source": []
  },
  {
   "cell_type": "code",
   "execution_count": null,
   "id": "92cea595",
   "metadata": {},
   "outputs": [],
   "source": []
  },
  {
   "cell_type": "code",
   "execution_count": null,
   "id": "0a0b5187",
   "metadata": {},
   "outputs": [],
   "source": []
  },
  {
   "cell_type": "code",
   "execution_count": null,
   "id": "b72dce2b",
   "metadata": {},
   "outputs": [],
   "source": []
  },
  {
   "cell_type": "code",
   "execution_count": null,
   "id": "74ed183e",
   "metadata": {},
   "outputs": [],
   "source": []
  },
  {
   "cell_type": "code",
   "execution_count": null,
   "id": "f919bc3d",
   "metadata": {},
   "outputs": [],
   "source": []
  },
  {
   "cell_type": "code",
   "execution_count": null,
   "id": "7b2789b2",
   "metadata": {},
   "outputs": [],
   "source": []
  },
  {
   "cell_type": "code",
   "execution_count": null,
   "id": "b1d3d513",
   "metadata": {},
   "outputs": [],
   "source": []
  },
  {
   "cell_type": "code",
   "execution_count": null,
   "id": "7e4b61e4",
   "metadata": {},
   "outputs": [],
   "source": []
  },
  {
   "cell_type": "code",
   "execution_count": null,
   "id": "a8aad464",
   "metadata": {},
   "outputs": [],
   "source": []
  },
  {
   "cell_type": "code",
   "execution_count": null,
   "id": "05793551",
   "metadata": {},
   "outputs": [],
   "source": []
  }
 ],
 "metadata": {
  "kernelspec": {
   "display_name": "Python 3",
   "language": "python",
   "name": "python3"
  },
  "language_info": {
   "codemirror_mode": {
    "name": "ipython",
    "version": 3
   },
   "file_extension": ".py",
   "mimetype": "text/x-python",
   "name": "python",
   "nbconvert_exporter": "python",
   "pygments_lexer": "ipython3",
   "version": "3.6.9"
  }
 },
 "nbformat": 4,
 "nbformat_minor": 5
}
