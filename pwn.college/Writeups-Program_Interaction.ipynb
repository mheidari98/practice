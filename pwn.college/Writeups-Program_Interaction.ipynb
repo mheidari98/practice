{
 "cells": [
  {
   "cell_type": "markdown",
   "id": "63a4ae9d",
   "metadata": {},
   "source": [
    "# pwn.college\n",
    "## Program Interaction\n",
    "> https://dojo.pwn.college/cse466/challenges/interaction\n",
    "\n",
    "---\n",
    "\n",
    "### ssh into your challenge instances\n",
    "```bash\n",
    "# 1. generate a ssh key\n",
    "ssh-keygen -f ~/.ssh/keys/pwncollegekey -N ''   # generate files pwncollegekey and pwncollegekey.pub\n",
    "\n",
    "# 2. connect into your challenge instance\n",
    "ssh -i ~/.ssh/keys/pwncollegekey hacker@dojo.pwn.college\n",
    "```\n",
    "\n",
    "### OR \n",
    "\n",
    "```bash\n",
    "# 2. config ssh\n",
    "cat ~/.ssh/config\n",
    "\n",
    "        Host dojo.pwn.college\n",
    "        User hacker\n",
    "        IdentityFile ~/.ssh/keys/pwncollegekey\n",
    "\n",
    "# 3. ssh to host \n",
    "ssh dojo.pwn.college\n",
    "```"
   ]
  },
  {
   "cell_type": "code",
   "execution_count": null,
   "id": "aaa86bf2",
   "metadata": {},
   "outputs": [],
   "source": []
  },
  {
   "cell_type": "markdown",
   "id": "0c62c90f",
   "metadata": {},
   "source": [
    "## embryoio_level1\n",
    "- the challenge checks for a specific parent process : bash\n",
    "> `./embryoio_level1`"
   ]
  },
  {
   "cell_type": "markdown",
   "id": "050bd627",
   "metadata": {},
   "source": [
    "---"
   ]
  },
  {
   "cell_type": "markdown",
   "id": "8cf860e9",
   "metadata": {},
   "source": [
    "## embryoio_level2\n",
    "- the challenge checks for a specific parent process : bash\n",
    "- the challenge will check for a hardcoded password over stdin : ekxsehjm\n",
    "> `echo \"ekxsehjm\" | ./embryoio_level2`"
   ]
  },
  {
   "cell_type": "markdown",
   "id": "41dbdbba",
   "metadata": {},
   "source": [
    "---"
   ]
  },
  {
   "cell_type": "markdown",
   "id": "faa439f0",
   "metadata": {},
   "source": [
    "## embryoio_level3\n",
    "- the challenge checks for a specific parent process : bash\n",
    "- the challenge will check that argv[NUM] holds value VALUE (listed to the right as NUM:VALUE) : 1:rsaukemfrj\n",
    "> `./embryoio_level3 rsaukemfrj`"
   ]
  },
  {
   "cell_type": "markdown",
   "id": "158bb5d0",
   "metadata": {},
   "source": [
    "---"
   ]
  },
  {
   "cell_type": "markdown",
   "id": "aa091019",
   "metadata": {},
   "source": [
    "## embryoio_level4\n",
    "- the challenge checks for a specific parent process : bash\n",
    "- the challenge will check that env[KEY] holds value VALUE (listed to the right as KEY:VALUE) : hrgdqx:gctiqcbeqa\n",
    "> `env hrgdqx=gctiqcbeqa ./embryoio_level4`"
   ]
  },
  {
   "cell_type": "markdown",
   "id": "1d9c6fbc",
   "metadata": {},
   "source": [
    "---"
   ]
  },
  {
   "cell_type": "markdown",
   "id": "4f5996c2",
   "metadata": {},
   "source": [
    "## embryoio_level5\n",
    "- the challenge checks for a specific parent process : bash\n",
    "- the challenge will check that input is redirected from a specific file path : /tmp/hoiwgk\n",
    "- the challenge will check for a hardcoded password over stdin : ltuhtibi\n",
    "> `echo \"ltuhtibi\" > /tmp/hoiwgk ; ./embryoio_level5 < /tmp/hoiwgk`"
   ]
  },
  {
   "cell_type": "markdown",
   "id": "590417cb",
   "metadata": {},
   "source": [
    "---"
   ]
  },
  {
   "cell_type": "markdown",
   "id": "41f3f094",
   "metadata": {},
   "source": [
    "## embryoio_level6\n",
    "- the challenge checks for a specific parent process : bash\n",
    "- the challenge will check that output is redirected to a specific file path : /tmp/oyufwu\n",
    "> `./embryoio_level6 > /tmp/oyufwu ; cat /tmp/oyufwu`"
   ]
  },
  {
   "cell_type": "markdown",
   "id": "da99e469",
   "metadata": {},
   "source": [
    "---"
   ]
  },
  {
   "cell_type": "markdown",
   "id": "8677ae29",
   "metadata": {},
   "source": [
    "## embryoio_level7\n",
    "- the challenge checks for a specific parent process : bash\n",
    "- the challenge will check that the environment is empty (except LC_CTYPE, which is impossible to get rid of in some cases)\n",
    ">  `env -i ./embryoio_level7`\n",
    "\n",
    "+ [stackexchange](https://unix.stackexchange.com/questions/48994/how-to-run-a-program-in-a-clean-environment-in-bash)"
   ]
  },
  {
   "cell_type": "markdown",
   "id": "fe6bea7b",
   "metadata": {},
   "source": [
    "---"
   ]
  },
  {
   "cell_type": "markdown",
   "id": "13706d6f",
   "metadata": {},
   "source": [
    "## embryoio_level8\n",
    "- the challenge checks for a specific parent process : shellscript\n",
    "> `echo './embryoio_level8' > ~/my_script.sh; bash ~/my_script.sh`"
   ]
  },
  {
   "cell_type": "markdown",
   "id": "d7d59f00",
   "metadata": {},
   "source": [
    "---"
   ]
  },
  {
   "cell_type": "markdown",
   "id": "52d91d0d",
   "metadata": {},
   "source": [
    "## embryoio_level9\n",
    "- WELCOME! This challenge makes the following asks of you:\n",
    "- the challenge checks for a specific parent process : shellscript\n",
    "- the challenge will check for a hardcoded password over stdin : kpmatruf\n",
    "\n",
    "> `echo 'echo kpmatruf | ./embryoio_level9' > ~/my_script.sh; bash ~/my_script.sh`"
   ]
  },
  {
   "cell_type": "markdown",
   "id": "68927ab6",
   "metadata": {},
   "source": [
    "---"
   ]
  },
  {
   "cell_type": "markdown",
   "id": "1beb2c5e",
   "metadata": {},
   "source": [
    "## embryoio_level10\n",
    "- the challenge checks for a specific parent process : shellscript\n",
    "- the challenge will check that argv[NUM] holds value VALUE (listed to the right as NUM:VALUE) : 1:fijlkhmhsy\n",
    "> `echo './embryoio_level10 fijlkhmhsy' > ~/my_script.sh; bash ~/my_script.sh`"
   ]
  },
  {
   "cell_type": "markdown",
   "id": "9773f75a",
   "metadata": {},
   "source": [
    "---"
   ]
  },
  {
   "cell_type": "markdown",
   "id": "38b4b306",
   "metadata": {},
   "source": [
    "## embryoio_level11\n",
    "- the challenge checks for a specific parent process : shellscript\n",
    "- the challenge will check that env[KEY] holds value VALUE (listed to the right as KEY:VALUE) : caogqf:ssgxjrocni\n",
    "> `echo 'env caogqf=ssgxjrocni ./embryoio_level11' > ~/my_script.sh; bash ~/my_script.sh`"
   ]
  },
  {
   "cell_type": "markdown",
   "id": "52e2c372",
   "metadata": {},
   "source": [
    "---"
   ]
  },
  {
   "cell_type": "markdown",
   "id": "d43b49ff",
   "metadata": {},
   "source": [
    "## embryoio_level12\n",
    "- the challenge checks for a specific parent process : shellscript\n",
    "- the challenge will check that input is redirected from a specific file path : /tmp/nwbhxv\n",
    "- the challenge will check for a hardcoded password over stdin : emrehvmi\n",
    "> `echo 'echo \"emrehvmi\" > /tmp/nwbhxv ; ./embryoio_level12 < /tmp/nwbhxv' > ~/my_script.sh; bash ~/my_script.sh`"
   ]
  },
  {
   "cell_type": "markdown",
   "id": "13e89084",
   "metadata": {},
   "source": [
    "---"
   ]
  },
  {
   "cell_type": "markdown",
   "id": "a27dbf07",
   "metadata": {},
   "source": [
    "## embryoio_level13\n",
    "- the challenge checks for a specific parent process : shellscript\n",
    "- the challenge will check that output is redirected to a specific file path : /tmp/ykjlpz\n",
    "> `echo './embryoio_level13 > /tmp/ykjlpz; cat /tmp/ykjlpz' > ~/my_script.sh; bash ~/my_script.sh`"
   ]
  },
  {
   "cell_type": "markdown",
   "id": "4e96b0ad",
   "metadata": {},
   "source": [
    "---"
   ]
  },
  {
   "cell_type": "markdown",
   "id": "5a725ce3",
   "metadata": {},
   "source": [
    "## embryoio_level14\n",
    "- the challenge checks for a specific parent process : shellscript\n",
    "- the challenge will check that the environment is empty (except LC_CTYPE, which is impossible to get rid of in some cases)\n",
    "> `echo 'env -i ./embryoio_level14' > ~/my_script.sh; bash ~/my_script.sh`"
   ]
  },
  {
   "cell_type": "markdown",
   "id": "04651389",
   "metadata": {},
   "source": [
    "---"
   ]
  },
  {
   "cell_type": "code",
   "execution_count": null,
   "id": "36d49547",
   "metadata": {},
   "outputs": [],
   "source": []
  },
  {
   "cell_type": "markdown",
   "id": "5cf82fbd",
   "metadata": {},
   "source": [
    "## embryoio_level22\n",
    "- the challenge checks for a specific parent process : python\n",
    "> `echo \"import subprocess; subprocess.call(['./embryoio_level22'])\" > ~/my_script.py; python ~/my_script.py`"
   ]
  },
  {
   "cell_type": "markdown",
   "id": "64238540",
   "metadata": {},
   "source": [
    "---"
   ]
  },
  {
   "cell_type": "markdown",
   "id": "7278de3c",
   "metadata": {},
   "source": [
    "## embryoio_level23\n",
    "- the challenge checks for a specific parent process : python\n",
    "- the challenge will check for a hardcoded password over stdin : eidcsemz\n",
    "    > `echo \"import subprocess; print(subprocess.Popen(['./embryoio_level23'], stdin=subprocess.PIPE, stdout=subprocess.PIPE, stderr=subprocess.STDOUT).communicate(input='eidcsemz'.encode()))\" > ~/my_script.py; python ~/my_script.py`"
   ]
  },
  {
   "cell_type": "markdown",
   "id": "33d85b79",
   "metadata": {},
   "source": [
    "---"
   ]
  },
  {
   "cell_type": "markdown",
   "id": "ec5cd5dd",
   "metadata": {},
   "source": [
    "## embryoio_level24\n",
    "- the challenge checks for a specific parent process : python\n",
    "- the challenge will check that argv[NUM] holds value VALUE (listed to the right as NUM:VALUE) : 1:fysooevlwb\n",
    "> `echo \"import subprocess; subprocess.call(['./embryoio_level24', 'fysooevlwb'])\" > ~/my_script.py; python ~/my_script.py`"
   ]
  },
  {
   "cell_type": "markdown",
   "id": "2744173d",
   "metadata": {},
   "source": [
    "---"
   ]
  },
  {
   "cell_type": "markdown",
   "id": "da1c5407",
   "metadata": {},
   "source": [
    "## embryoio_level25\n",
    "- the challenge checks for a specific parent process : python\n",
    "- the challenge will check that argv[NUM] holds value VALUE (listed to the right as NUM:VALUE) : 1:fysooevlwb\n",
    "> `echo \"import subprocess; subprocess.call(['./embryoio_level25'], env={'florkx':'wbhratctqs'})\" > ~/my_script.py; python ~/my_script.py`"
   ]
  },
  {
   "cell_type": "markdown",
   "id": "5d6e4fae",
   "metadata": {},
   "source": [
    "---"
   ]
  },
  {
   "cell_type": "markdown",
   "id": "fa948801",
   "metadata": {},
   "source": [
    "## embryoio_level26\n",
    "- the challenge checks for a specific parent process : python\n",
    "- the challenge will check that input is redirected from a specific file path : /tmp/xzgalj\n",
    "- the challenge will check for a hardcoded password over stdin : ipnzdsnp\n",
    "> `echo \"import subprocess;fd = open('/tmp/xzgalj', 'r+');fd.write('ipnzdsnp');print(subprocess.Popen(['./embryoio_level26'], stdin=fd, stdout=subprocess.PIPE, stderr=subprocess.STDOUT).communicate());fd.close();\" > ~/my_script.py; python ~/my_script.py`"
   ]
  },
  {
   "cell_type": "markdown",
   "id": "19dd58f4",
   "metadata": {},
   "source": [
    "---"
   ]
  },
  {
   "cell_type": "markdown",
   "id": "5b77d3bd",
   "metadata": {},
   "source": [
    "## embryoio_level27\n",
    "- the challenge checks for a specific parent process : python\n",
    "- the challenge will check that output is redirected to a specific file path : /tmp/jpgwpp\n",
    "> `echo \"import subprocess; subprocess.call(['./embryoio_level27'])\" > ~/my_script.py; python ~/my_script.py > /tmp/jpgwpp ; cat > /tmp/jpgwpp`"
   ]
  },
  {
   "cell_type": "markdown",
   "id": "b11b4c4c",
   "metadata": {},
   "source": [
    "---"
   ]
  },
  {
   "cell_type": "markdown",
   "id": "f395e579",
   "metadata": {},
   "source": [
    "## embryoio_level28\n",
    "- the challenge checks for a specific parent process : python\n",
    "- the challenge will check that the environment is empty (except LC_CTYPE, which is impossible to get rid of in some cases)\n",
    "\n",
    "> `echo \"import subprocess; subprocess.call(['env', '-i', './embryoio_level28'])\" > ~/my_script.py; python ~/my_script.py`"
   ]
  },
  {
   "cell_type": "markdown",
   "id": "8e6bca49",
   "metadata": {},
   "source": [
    "---"
   ]
  },
  {
   "cell_type": "code",
   "execution_count": null,
   "id": "fb8ec6f9",
   "metadata": {},
   "outputs": [],
   "source": []
  },
  {
   "cell_type": "markdown",
   "id": "98b13eb6",
   "metadata": {},
   "source": [
    "## embryoio_level29\n",
    "- the challenge checks for a specific parent process : binary\n",
    "\n",
    "```bash \n",
    "gcc ~/program.c -o ~/program; ~/program\n",
    "```\n",
    "\n",
    "program.c :\n",
    "```c\n",
    "#include <stdio.h>\n",
    "#include <sys/types.h>\n",
    "#include <unistd.h>\n",
    "\n",
    "void pwncollege()\n",
    "{\n",
    "  char* argv[] = { NULL };\n",
    "  char* envp[] = { NULL };\n",
    "  if (execve(\"/challenge/embryoio_level29\", argv, envp) == -1)\n",
    "    perror(\"Could not execve\");\n",
    "}\n",
    "\n",
    "int main()\n",
    "{\n",
    "    if (fork() == 0){\n",
    "        printf(\"Child\\n\");\n",
    "\tpwncollege();\n",
    "    }else{\n",
    "        printf(\"Parent\\n\");\n",
    "\twait(NULL);\n",
    "   }\n",
    "    return 0;\n",
    "}\n",
    "```"
   ]
  },
  {
   "cell_type": "markdown",
   "id": "d05e3781",
   "metadata": {},
   "source": [
    "---"
   ]
  },
  {
   "cell_type": "markdown",
   "id": "5074e66f",
   "metadata": {},
   "source": [
    "## embryoio_level30\n",
    "- the challenge checks for a specific parent process : binary\n",
    "- the challenge will check for a hardcoded password over stdin : jjjwczfa\n",
    "\n",
    "```bash \n",
    "gcc ~/program.c -o ~/program; echo 'jjjwczfa' | ~/program\n",
    "```\n",
    "\n",
    "program.c :\n",
    "```c\n",
    "#include <stdio.h>\n",
    "#include <sys/types.h>\n",
    "#include <unistd.h>\n",
    "\n",
    "void pwncollege()\n",
    "{\n",
    "  char* argv[] = { NULL };\n",
    "  char* envp[] = { NULL };\n",
    "  if (execve(\"/challenge/embryoio_level30\", argv, envp) == -1)\n",
    "    perror(\"Could not execve\");\n",
    "}\n",
    "\n",
    "int main()\n",
    "{\n",
    "    if (fork() == 0){\n",
    "        printf(\"Child\\n\");\n",
    "\tpwncollege();\n",
    "    }else{\n",
    "        printf(\"Parent\\n\");\n",
    "\twait(NULL);\n",
    "   }\n",
    "    return 0;\n",
    "}\n",
    "```"
   ]
  },
  {
   "cell_type": "markdown",
   "id": "5c17fd65",
   "metadata": {},
   "source": [
    "---"
   ]
  },
  {
   "cell_type": "markdown",
   "id": "310ae47e",
   "metadata": {},
   "source": [
    "## embryoio_level31\n",
    "- the challenge checks for a specific parent process : binary\n",
    "- the challenge will check that argv[NUM] holds value VALUE (listed to the right as NUM:VALUE) : 1:bmnmgbuiux\n",
    "\n",
    "```bash \n",
    "gcc ~/program.c -o ~/program; ~/program\n",
    "```\n",
    "\n",
    "program.c :\n",
    "```c\n",
    "#include <stdio.h>\n",
    "#include <sys/types.h>\n",
    "#include <unistd.h>\n",
    "\n",
    "void pwncollege()\n",
    "{\n",
    "  char* argv[] = {\"embryoio_level31\", \"bmnmgbuiux\", NULL };\n",
    "  char* envp[] = { NULL };\n",
    "  if (execve(\"/challenge/embryoio_level31\", argv, envp) == -1)\n",
    "    perror(\"Could not execve\");\n",
    "}\n",
    "\n",
    "int main()\n",
    "{\n",
    "    if (fork() == 0){\n",
    "        printf(\"Child\\n\");\n",
    "\tpwncollege();\n",
    "    }else{\n",
    "        printf(\"Parent\\n\");\n",
    "\twait(NULL);\n",
    "   }\n",
    "    return 0;\n",
    "}\n",
    "```"
   ]
  },
  {
   "cell_type": "markdown",
   "id": "a85b3054",
   "metadata": {},
   "source": [
    "---"
   ]
  },
  {
   "cell_type": "markdown",
   "id": "a20eb30c",
   "metadata": {},
   "source": [
    "## embryoio_level32\n",
    "- the challenge checks for a specific parent process : binary\n",
    "- the challenge will check that env[KEY] holds value VALUE (listed to the right as KEY:VALUE) : oprkra:lgpgfpkdjb\n",
    "\n",
    "```bash \n",
    "gcc ~/program.c -o ~/program; ~/program\n",
    "```\n",
    "\n",
    "program.c :\n",
    "```c\n",
    "#include <stdio.h>\n",
    "#include <sys/types.h>\n",
    "#include <unistd.h>\n",
    "\n",
    "void pwncollege()\n",
    "{\n",
    "  char* argv[] = {\"embryoio_level31\", NULL };\n",
    "  char* envp[] = { \"oprkra=lgpgfpkdjb\", NULL };\n",
    "  if (execve(\"/challenge/embryoio_level32\", argv, envp) == -1)\n",
    "    perror(\"Could not execve\");\n",
    "}\n",
    "\n",
    "int main()\n",
    "{\n",
    "    if (fork() == 0){\n",
    "        printf(\"Child\\n\");\n",
    "\tpwncollege();\n",
    "    }else{\n",
    "        printf(\"Parent\\n\");\n",
    "\twait(NULL);\n",
    "   }\n",
    "    return 0;\n",
    "}\n",
    "```"
   ]
  },
  {
   "cell_type": "markdown",
   "id": "692c421f",
   "metadata": {},
   "source": [
    "---"
   ]
  },
  {
   "cell_type": "markdown",
   "id": "0f816661",
   "metadata": {},
   "source": [
    "## embryoio_level33\n",
    "- the challenge checks for a specific parent process : binary\n",
    "- the challenge will check that input is redirected from a specific file path : /tmp/uiupsx\n",
    "- the challenge will check for a hardcoded password over stdin : ffkvgftn\n",
    "\n",
    "```bash \n",
    "gcc ~/program.c -o ~/program; ~/program\n",
    "```\n",
    "\n",
    "program.c :\n",
    "```c\n",
    "#include <stdio.h>\n",
    "#include <unistd.h>\n",
    "#include <stdlib.h>\n",
    "#include <sys/types.h>\n",
    "#include <sys/stat.h>\n",
    "#include <fcntl.h>\n",
    "#include <string.h>\n",
    "\n",
    "void pwncollege()\n",
    "{\n",
    "    execlp(\"/challenge/embryoio_level33\", \"embryoio_level33\", (char *)0);\n",
    "}\n",
    "\n",
    "int main()\n",
    "{\n",
    "    pid_t pid;\n",
    "    int fd;\n",
    "\n",
    "    fd = open(\"/tmp/uiupsx\", O_RDONLY);\n",
    "    if (fd < 0) {\n",
    "        perror(\"open\");\n",
    "        return EXIT_FAILURE;\n",
    "    }\n",
    "    \n",
    "    if ((pid = fork()) < 0) {\n",
    "        perror(\"fork\");\n",
    "        return EXIT_FAILURE;\n",
    "    } else if (! pid) { /* child */\n",
    "        dup2(fd, STDIN_FILENO);\n",
    "        close(fd);\n",
    "        pwncollege();\n",
    "        perror(\"exec\");\n",
    "        return EXIT_FAILURE;\n",
    "    } else { /* parent */\n",
    "        close(fd);\n",
    "        printf(\"Parent waiting\\n\");\n",
    "        //getchar();\n",
    "        wait(NULL);\n",
    "    }\n",
    "\n",
    "    return EXIT_SUCCESS;\n",
    "}\n",
    "```\n",
    "\n",
    "+ [Notes on Dup2 and Exec](https://webdocs.cs.ualberta.ca/~tony/C379/C379Labs/Lab2/exec.html)"
   ]
  },
  {
   "cell_type": "markdown",
   "id": "c8a9117e",
   "metadata": {},
   "source": [
    "---"
   ]
  },
  {
   "cell_type": "markdown",
   "id": "55df75b4",
   "metadata": {},
   "source": [
    "## embryoio_level34\n",
    "- the challenge checks for a specific parent process : binary\n",
    "- the challenge will check that output is redirected to a specific file path : /tmp/ekdwhk\n",
    "\n",
    "```bash \n",
    "gcc ~/program.c -o ~/program; ~/program > /tmp/ekdwhk; cat /tmp/ekdwhk\n",
    "```\n",
    "\n",
    "program.c :\n",
    "```c\n",
    "#include <stdio.h>\n",
    "#include <sys/types.h>\n",
    "#include <unistd.h>\n",
    "\n",
    "void pwncollege()\n",
    "{\n",
    "  char* argv[] = { \"/challenge/embryoio_level34\", NULL };\n",
    "  char* envp[] = { NULL };\n",
    "  if (execve(argv[0], argv, envp) == -1)\n",
    "    perror(\"Could not execve\");\n",
    "}\n",
    "\n",
    "int main()\n",
    "{\n",
    "    if (fork() == 0){\n",
    "        printf(\"Child\\n\");\n",
    "\tpwncollege();\n",
    "    }else{\n",
    "        printf(\"Parent\\n\");\n",
    "\twait(NULL);\n",
    "   }\n",
    "    return 0;\n",
    "}\n",
    "```"
   ]
  },
  {
   "cell_type": "markdown",
   "id": "e1b97b8d",
   "metadata": {},
   "source": [
    "## embryoio_level35\n",
    "- the challenge checks for a specific parent process : binary\n",
    "- the challenge will check that the environment is empty (except LC_CTYPE, which is impossible to get rid of in some cases)\n",
    "\n",
    "```bash \n",
    "gcc ~/program.c -o ~/program; ~/program\n",
    "```\n",
    "\n",
    "program.c :\n",
    "```c\n",
    "#include <stdio.h>\n",
    "#include <sys/types.h>\n",
    "#include <unistd.h>\n",
    "\n",
    "void pwncollege()\n",
    "{\n",
    "  char* argv[] = { \"/challenge/embryoio_level35\", NULL };\n",
    "  char* envp[] = { NULL };\n",
    "  if (execve(argv[0], argv, envp) == -1)\n",
    "    perror(\"Could not execve\");\n",
    "}\n",
    "\n",
    "int main()\n",
    "{\n",
    "    if (fork() == 0){\n",
    "        printf(\"Child\\n\");\n",
    "\tpwncollege();\n",
    "    }else{\n",
    "        printf(\"Parent\\n\");\n",
    "\twait(NULL);\n",
    "   }\n",
    "    return 0;\n",
    "}\n",
    "```"
   ]
  },
  {
   "cell_type": "code",
   "execution_count": null,
   "id": "606d6c3e",
   "metadata": {},
   "outputs": [],
   "source": []
  },
  {
   "cell_type": "markdown",
   "id": "2516548b",
   "metadata": {},
   "source": [
    "## embryoio_level36\n",
    "- the challenge checks for a specific parent process : bash\n",
    "- the challenge checks for a specific process at the other end of stdout : cat\n",
    "\n",
    "```bash \n",
    "./embryoio_level36 | cat\n",
    "```"
   ]
  },
  {
   "cell_type": "markdown",
   "id": "5582d8fd",
   "metadata": {},
   "source": [
    "## embryoio_level37\n",
    "- the challenge checks for a specific parent process : bash\n",
    "- the challenge checks for a specific process at the other end of stdout : grep\n",
    "\n",
    "```bash \n",
    "./embryoio_level37 | grep \"pwn.college\"\n",
    "```"
   ]
  },
  {
   "cell_type": "markdown",
   "id": "4fdcbd04",
   "metadata": {},
   "source": [
    "## embryoio_level40\n",
    "- the challenge checks for a specific parent process : bash\n",
    "- the challenge checks for a specific process at the other end of stdin : cat\n",
    "- the challenge will check for a hardcoded password over stdin : ffyxsxbv\n",
    "\n",
    "```bash \n",
    "cat /tmp/aaa - | ./embryoio_level40\n",
    "```"
   ]
  },
  {
   "cell_type": "code",
   "execution_count": null,
   "id": "412c1a19",
   "metadata": {},
   "outputs": [],
   "source": []
  },
  {
   "cell_type": "markdown",
   "id": "ed3b77bb",
   "metadata": {},
   "source": [
    "## embryoio_level42\n",
    "- the challenge checks for a specific parent process : shellscript\n",
    "- the challenge checks for a specific process at the other end of stdout : cat\n",
    "\n",
    "```bash \n",
    "echo './embryoio_level42 | cat' > ~/my_script.sh; bash ~/my_script.sh\n",
    "```"
   ]
  },
  {
   "cell_type": "markdown",
   "id": "8563d222",
   "metadata": {},
   "source": [
    "## embryoio_level44\n",
    "- the challenge checks for a specific parent process : shellscript\n",
    "- the challenge checks for a specific process at the other end of stdout : sed\n",
    "\n",
    "```bash \n",
    "echo './embryoio_level44 | sed p' > ~/my_script.sh; bash ~/my_script.sh\n",
    "```"
   ]
  },
  {
   "cell_type": "markdown",
   "id": "97ab9b26",
   "metadata": {},
   "source": [
    "## embryoio_level47\n",
    "- the challenge checks for a specific parent process : shellscript\n",
    "- the challenge checks for a specific process at the other end of stdin : rev\n",
    "- the challenge will check for a hardcoded password over stdin : fxukvycp\n",
    "\n",
    "```bash \n",
    "bash ~/my_script.sh\n",
    "```\n",
    "\n",
    "~/my_script.sh\n",
    "\n",
    "```bash \n",
    "python -c 'print(\"fxukvycp\"[::-1]);input()' | rev | ./embryoio_level47\n",
    "\n",
    "```"
   ]
  },
  {
   "cell_type": "markdown",
   "id": "580d6e93",
   "metadata": {},
   "source": [
    "## embryoio_level54\n",
    "- the challenge checks for a specific parent process : python\n",
    "- the challenge checks for a specific process at the other end of stdout : cat\n",
    "\n",
    "```bash \n",
    "echo \"import subprocess; subprocess.call(['./embryoio_level54'])\" > ~/my_script.py; python ~/my_script.py | cat\n",
    "```"
   ]
  },
  {
   "cell_type": "markdown",
   "id": "6fbdd339",
   "metadata": {},
   "source": [
    "## embryoio_level56\n",
    "- the challenge checks for a specific parent process : python\n",
    "- the challenge checks for a specific process at the other end of stdout : sed\n",
    "\n",
    "```bash \n",
    "echo \"import subprocess; subprocess.call(['./embryoio_level56'])\" > ~/my_script.py; python ~/my_script.py | sed p\n",
    "```"
   ]
  },
  {
   "cell_type": "markdown",
   "id": "78f484d9",
   "metadata": {},
   "source": [
    "## embryoio_level58\n",
    "- the challenge checks for a specific parent process : python\n",
    "- the challenge checks for a specific process at the other end of stdin : cat\n",
    "- the challenge will check for a hardcoded password over stdin : yhjdoqbb\n",
    "\n",
    "```bash \n",
    "echo yhjdoqbb > /tmp/aaa\n",
    "echo \"import subprocess; subprocess.call(['./embryoio_level58'])\" > ~/my_script.py\n",
    "cat /tmp/aaa - | python ~/my_script.py\n",
    "```"
   ]
  },
  {
   "cell_type": "code",
   "execution_count": null,
   "id": "9740436f",
   "metadata": {},
   "outputs": [],
   "source": []
  },
  {
   "cell_type": "markdown",
   "id": "c19d514f",
   "metadata": {},
   "source": [
    "## embryoio_level60\n",
    "- the challenge checks for a specific parent process : binary\n",
    "- the challenge checks for a specific process at the other end of stdout : cat\n",
    "\n",
    "```bash \n",
    "gcc ~/program.c -o ~/program; ~/program | cat\n",
    "```\n",
    "\n",
    "program.c :\n",
    "```c\n",
    "#include <stdio.h>\n",
    "#include <sys/types.h>\n",
    "#include <unistd.h>\n",
    "\n",
    "void pwncollege()\n",
    "{\n",
    "  char* argv[] = { \"/challenge/embryoio_level60\", NULL };\n",
    "  char* envp[] = { NULL };\n",
    "  if (execve(argv[0], argv, envp) == -1)\n",
    "    perror(\"Could not execve\");\n",
    "}\n",
    "\n",
    "int main()\n",
    "{\n",
    "    if (fork() == 0){\n",
    "        printf(\"Child\\n\");\n",
    "\tpwncollege();\n",
    "    }else{\n",
    "        printf(\"Parent\\n\");\n",
    "\twait(NULL);\n",
    "   }\n",
    "    return 0;\n",
    "}\n",
    "```"
   ]
  },
  {
   "cell_type": "markdown",
   "id": "ed7c7dc5",
   "metadata": {},
   "source": [
    "## embryoio_level61\n",
    "- the challenge checks for a specific parent process : binary\n",
    "- the challenge checks for a specific process at the other end of stdout : grep\n",
    "\n",
    "```bash \n",
    "gcc ~/program.c -o ~/program; ~/program | grep pwn.college\n",
    "```\n",
    "\n",
    "program.c :\n",
    "```c\n",
    "#include <stdio.h>\n",
    "#include <sys/types.h>\n",
    "#include <unistd.h>\n",
    "\n",
    "void pwncollege()\n",
    "{\n",
    "  char* argv[] = { \"/challenge/embryoio_level61\", NULL };\n",
    "  char* envp[] = { NULL };\n",
    "  if (execve(argv[0], argv, envp) == -1)\n",
    "    perror(\"Could not execve\");\n",
    "}\n",
    "\n",
    "int main()\n",
    "{\n",
    "    if (fork() == 0){\n",
    "        printf(\"Child\\n\");\n",
    "\tpwncollege();\n",
    "    }else{\n",
    "        printf(\"Parent\\n\");\n",
    "\twait(NULL);\n",
    "   }\n",
    "    return 0;\n",
    "}\n",
    "```"
   ]
  },
  {
   "cell_type": "markdown",
   "id": "f7965794",
   "metadata": {},
   "source": [
    "## embryoio_level65\n",
    "- the challenge checks for a specific parent process : binary\n",
    "- the challenge checks for a specific process at the other end of stdin : rev\n",
    "- the challenge will check for a hardcoded password over stdin : khomcdsu\n",
    "\n",
    "```bash \n",
    "gcc ~/program.c -o ~/program; python -c 'print(\"khomcdsu\"[::-1]);input()' | rev | ~/program\n",
    "```\n",
    "\n",
    "program.c :\n",
    "```c\n",
    "#include <stdio.h>\n",
    "#include <sys/types.h>\n",
    "#include <unistd.h>\n",
    "\n",
    "void pwncollege()\n",
    "{\n",
    "  char* argv[] = { \"/challenge/embryoio_level65\", NULL };\n",
    "  char* envp[] = { NULL };\n",
    "  if (execve(argv[0], argv, envp) == -1)\n",
    "    perror(\"Could not execve\");\n",
    "}\n",
    "\n",
    "int main()\n",
    "{\n",
    "    if (fork() == 0){\n",
    "        printf(\"Child\\n\");\n",
    "    pwncollege();\n",
    "    }else{\n",
    "        printf(\"Parent\\n\");\n",
    "    wait(NULL);\n",
    "   }\n",
    "    return 0;\n",
    "}\n",
    "```"
   ]
  },
  {
   "cell_type": "markdown",
   "id": "8b32c554",
   "metadata": {},
   "source": [
    "## embryoio_level66\n",
    "- the challenge checks for a specific parent process : find\n",
    "\n",
    "```bash \n",
    "find . -name embryoio_level* -exec bash -c {} \\;\n",
    "```"
   ]
  },
  {
   "cell_type": "markdown",
   "id": "c558bc95",
   "metadata": {},
   "source": [
    "## embryoio_level68\n",
    "- the challenge checks for a specific parent process : shellscript\n",
    "- the challenge will check that argv[NUM] holds value VALUE (listed to the right as NUM:VALUE) : 311:ksdqspqgfy\n",
    "\n",
    "\n",
    "```bash \n",
    "echo ./embryoio_level68 `python -c 'print(\"a \"*310)'` ksdqspqgfy > ~/my_script.sh; bash ~/my_script.sh\n",
    "```"
   ]
  },
  {
   "cell_type": "markdown",
   "id": "3c108514",
   "metadata": {},
   "source": [
    "## embryoio_level69\n",
    "- the challenge checks for a specific parent process : shellscript\n",
    "- the challenge will check that argv is empty (e.g., argc == 0)\n",
    "\n",
    "\n",
    "```bash \n",
    "\n",
    "```"
   ]
  },
  {
   "cell_type": "markdown",
   "id": "b1e08329",
   "metadata": {},
   "source": [
    "## embryoio_level71\n",
    "- the challenge checks for a specific parent process : shellscript\n",
    "- the challenge will check that the environment is empty (except LC_CTYPE, which is impossible to get rid of in some cases)\n",
    "- the challenge will check that argv[NUM] holds value VALUE (listed to the right as NUM:VALUE) : 100:ukxlildyxt\n",
    "- the challenge will check that env[KEY] holds value VALUE (listed to the right as KEY:VALUE) : 102:maxqxjvzuf\n",
    "\n",
    "```bash \n",
    "echo env -i 102=maxqxjvzuf ./embryoio_level71 `python -c 'print(\"a \"*99)'` ukxlildyxt > ~/my_script.sh; bash ~/my_script.sh\n",
    "```"
   ]
  },
  {
   "cell_type": "markdown",
   "id": "aa261bf7",
   "metadata": {},
   "source": [
    "## embryoio_level72\n",
    "- the challenge checks for a specific parent process : shellscript\n",
    "- the challenge will check that input is redirected from a specific file path : trtnav\n",
    "- the challenge will check that it is running in a specific current working directory : /tmp/olypll\n",
    "\n",
    "\n",
    "```bash \n",
    "echo 'echo \"sth\" > trtnav ; /challenge/embryoio_level72 < trtnav' > /tmp/olypll/my_script.sh; bash /tmp/olypll/my_script.sh\n",
    "```"
   ]
  },
  {
   "cell_type": "markdown",
   "id": "60757de6",
   "metadata": {},
   "source": [
    "## embryoio_level73\n",
    "- the challenge checks for a specific parent process : shellscript\n",
    "- the challenge will check that it is running in a specific current working directory : /tmp/svlava\n",
    "- the challenge will check to make sure that the parent's parent CWD to be different than the challenge's CWD\n",
    "\n",
    "\n",
    "```bash \n",
    "\n",
    "```"
   ]
  },
  {
   "cell_type": "markdown",
   "id": "295c5c48",
   "metadata": {},
   "source": [
    "## embryoio_level74\n",
    "- the challenge checks for a specific parent process : python\n",
    "- the challenge will check that argv[NUM] holds value VALUE (listed to the right as NUM:VALUE) : 233:iaswfulvzn\n",
    "\n",
    "```bash \n",
    "echo \"import subprocess; subprocess.call(['./embryoio_level74']+['a']*232 + ['iaswfulvzn'])\" > ~/my_script.py; python ~/my_script.py\n",
    "```"
   ]
  },
  {
   "cell_type": "markdown",
   "id": "1979608f",
   "metadata": {},
   "source": [
    "## embryoio_level75\n",
    "- the challenge checks for a specific parent process : python\n",
    "- the challenge will check that argv is empty (e.g., argc == 0)\n",
    "\n",
    "```bash \n",
    "echo \"import subprocess; subprocess.run([], executable='/challenge/embryoio_level75')\" > ~/my_script.py; python ~/my_script.py\n",
    "```"
   ]
  },
  {
   "cell_type": "markdown",
   "id": "7b993df3",
   "metadata": {},
   "source": [
    "## embryoio_level77\n",
    "- the challenge checks for a specific parent process : python\n",
    "- the challenge will check that the environment is empty (except LC_CTYPE, which is impossible to get rid of in some cases)\n",
    "- the challenge will check that argv[NUM] holds value VALUE (listed to the right as NUM:VALUE) : 48:objhlbdzgn\n",
    "- the challenge will check that env[KEY] holds value VALUE (listed to the right as KEY:VALUE) : 25:jivtmluwtt\n",
    "\n",
    "```bash \n",
    "echo \"import subprocess; subprocess.call(['env', '-i', '25=jivtmluwtt', './embryoio_level77']+['a']*47 + ['objhlbdzgn'])\" > ~/my_script.py; python ~/my_script.py\n",
    "```"
   ]
  },
  {
   "cell_type": "markdown",
   "id": "93107dc7",
   "metadata": {},
   "source": [
    "## embryoio_level79\n",
    "- the challenge checks for a specific parent process : python\n",
    "- the challenge will check that it is running in a specific current working directory : /tmp/ewmtsb\n",
    "- the challenge will check to make sure that the parent's parent CWD to be different than the challenge's CWD\n",
    "\n",
    "```bash \n",
    "\n",
    "```"
   ]
  },
  {
   "cell_type": "markdown",
   "id": "c9970276",
   "metadata": {},
   "source": [
    "## embryoio_level80\n",
    "- the challenge checks for a specific parent process : binary\n",
    "- the challenge will check that argv[NUM] holds value VALUE (listed to the right as NUM:VALUE) : 162:llscrhzshh\n",
    "\n",
    "```bash \n",
    "gcc ~/program.c -o ~/program; ~/program\n",
    "```\n",
    "\n",
    "program.c :\n",
    "```c\n",
    "#include <stdio.h>\n",
    "#include <sys/types.h>\n",
    "#include <unistd.h>\n",
    "\n",
    "void pwncollege()\n",
    "{\n",
    "  char* argv[] = { \"/challenge/embryoio_level80\", \"a\",\"a\",\"a\",\"a\",\"a\",\"a\",\"a\",\"a\",\"a\",\"a\",\"a\",\"a\",\"a\",\"a\",\"a\",\"a\",\"a\",\"a\",\"a\",\"a\",\"a\",\"a\",\"a\",\"a\",\"a\",\"a\",\"a\",\"a\",\"a\",\"a\",\"a\",\"a\",\"a\",\"a\",\"a\",\"a\",\"a\",\"a\",\"a\",\"a\",\"a\",\"a\",\"a\",\"a\",\"a\",\"a\",\"a\",\"a\",\"a\",\"a\",\"a\",\"a\",\"a\",\"a\",\"a\",\"a\",\"a\",\"a\",\"a\",\"a\",\"a\",\"a\",\"a\",\"a\",\"a\",\"a\",\"a\",\"a\",\"a\",\"a\",\"a\",\"a\",\"a\",\"a\",\"a\",\"a\",\"a\",\"a\",\"a\",\"a\",\"a\",\"a\",\"a\",\"a\",\"a\",\"a\",\"a\",\"a\",\"a\",\"a\",\"a\",\"a\",\"a\",\"a\",\"a\",\"a\",\"a\",\"a\",\"a\",\"a\",\"a\",\"a\",\"a\",\"a\",\"a\",\"a\",\"a\",\"a\",\"a\",\"a\",\"a\",\"a\",\"a\",\"a\",\"a\",\"a\",\"a\",\"a\",\"a\",\"a\",\"a\",\"a\",\"a\",\"a\",\"a\",\"a\",\"a\",\"a\",\"a\",\"a\",\"a\",\"a\",\"a\",\"a\",\"a\",\"a\",\"a\",\"a\",\"a\",\"a\",\"a\",\"a\",\"a\",\"a\",\"a\",\"a\",\"a\",\"a\",\"a\",\"a\",\"a\",\"a\",\"a\",\"a\",\"a\",\"a\",\"a\",\"a\",\"a\",\"a\",\"a\", \"llscrhzshh\", NULL };\n",
    "  char* envp[] = { NULL };\n",
    "  if (execve(argv[0], argv, envp) == -1)\n",
    "    perror(\"Could not execve\");\n",
    "}\n",
    "\n",
    "int main()\n",
    "{\n",
    "    if (fork() == 0){\n",
    "        printf(\"Child\\n\");\n",
    "    pwncollege();\n",
    "    }else{\n",
    "        printf(\"Parent\\n\");\n",
    "    wait(NULL);\n",
    "   }\n",
    "    return 0;\n",
    "}\n",
    "```"
   ]
  },
  {
   "cell_type": "markdown",
   "id": "98d757b7",
   "metadata": {},
   "source": [
    "## embryoio_level81\n",
    "- the challenge checks for a specific parent process : binary\n",
    "- the challenge will check that argv is empty (e.g., argc == 0)\n",
    "\n",
    "```bash \n",
    "gcc ~/program.c -o ~/program; ~/program\n",
    "```\n",
    "\n",
    "program.c :\n",
    "```c\n",
    "#include <stdio.h>\n",
    "#include <sys/types.h>\n",
    "#include <unistd.h>\n",
    "\n",
    "void pwncollege()\n",
    "{\n",
    "  char* argv[] = { NULL };\n",
    "  char* envp[] = { NULL };\n",
    "  if (execve(\"/challenge/embryoio_level81\", argv, envp) == -1)\n",
    "    perror(\"Could not execve\");\n",
    "}\n",
    "\n",
    "int main()\n",
    "{\n",
    "    if (fork() == 0){\n",
    "        printf(\"Child\\n\");\n",
    "    pwncollege();\n",
    "    }else{\n",
    "        printf(\"Parent\\n\");\n",
    "    wait(NULL);\n",
    "   }\n",
    "    return 0;\n",
    "}\n",
    "```"
   ]
  },
  {
   "cell_type": "markdown",
   "id": "6647531a",
   "metadata": {},
   "source": [
    "## embryoio_level83\n",
    "- the challenge checks for a specific parent process : binary\n",
    "- the challenge will check that the environment is empty (except LC_CTYPE, which is impossible to get rid of in some cases)\n",
    "- the challenge will check that argv[NUM] holds value VALUE (listed to the right as NUM:VALUE) : 318:lmuuituqtn\n",
    "- the challenge will check that env[KEY] holds value VALUE (listed to the right as KEY:VALUE) : 297:odtfhrheil\n",
    "\n",
    "```bash \n",
    "gcc ~/program.c -o ~/program; ~/program\n",
    "```\n",
    "\n",
    "program.c :\n",
    "```c\n",
    "#include <stdio.h>\n",
    "#include <sys/types.h>\n",
    "#include <unistd.h>\n",
    "\n",
    "void pwncollege()\n",
    "{\n",
    "  char* argv[] = { \"/challenge/embryoio_level83\", \"a\", \"a\", \"a\", \"a\", \"a\", \"a\", \"a\", \"a\", \"a\", \"a\", \"a\", \"a\", \"a\", \"a\", \"a\", \"a\", \"a\", \"a\", \"a\", \"a\", \"a\", \"a\", \"a\", \"a\", \"a\", \"a\", \"a\", \"a\", \"a\", \"a\", \"a\", \"a\", \"a\", \"a\", \"a\", \"a\", \"a\", \"a\", \"a\", \"a\", \"a\", \"a\", \"a\", \"a\", \"a\", \"a\", \"a\", \"a\", \"a\", \"a\", \"a\", \"a\", \"a\", \"a\", \"a\", \"a\", \"a\", \"a\", \"a\", \"a\", \"a\", \"a\", \"a\", \"a\", \"a\", \"a\", \"a\", \"a\", \"a\", \"a\", \"a\", \"a\", \"a\", \"a\", \"a\", \"a\", \"a\", \"a\", \"a\", \"a\", \"a\", \"a\", \"a\", \"a\", \"a\", \"a\", \"a\", \"a\", \"a\", \"a\", \"a\", \"a\", \"a\", \"a\", \"a\", \"a\", \"a\", \"a\", \"a\", \"a\", \"a\", \"a\", \"a\", \"a\", \"a\", \"a\", \"a\", \"a\", \"a\", \"a\", \"a\", \"a\", \"a\", \"a\", \"a\", \"a\", \"a\", \"a\", \"a\", \"a\", \"a\", \"a\", \"a\", \"a\", \"a\", \"a\", \"a\", \"a\", \"a\", \"a\", \"a\", \"a\", \"a\", \"a\", \"a\", \"a\", \"a\", \"a\", \"a\", \"a\", \"a\", \"a\", \"a\", \"a\", \"a\", \"a\", \"a\", \"a\", \"a\", \"a\", \"a\", \"a\", \"a\", \"a\", \"a\", \"a\", \"a\", \"a\", \"a\", \"a\", \"a\", \"a\", \"a\", \"a\", \"a\", \"a\", \"a\", \"a\", \"a\", \"a\", \"a\", \"a\", \"a\", \"a\", \"a\", \"a\", \"a\", \"a\", \"a\", \"a\", \"a\", \"a\", \"a\", \"a\", \"a\", \"a\", \"a\", \"a\", \"a\", \"a\", \"a\", \"a\", \"a\", \"a\", \"a\", \"a\", \"a\", \"a\", \"a\", \"a\", \"a\", \"a\", \"a\", \"a\", \"a\", \"a\", \"a\", \"a\", \"a\", \"a\", \"a\", \"a\", \"a\", \"a\", \"a\", \"a\", \"a\", \"a\", \"a\", \"a\", \"a\", \"a\", \"a\", \"a\", \"a\", \"a\", \"a\", \"a\", \"a\", \"a\", \"a\", \"a\", \"a\", \"a\", \"a\", \"a\", \"a\", \"a\", \"a\", \"a\", \"a\", \"a\", \"a\", \"a\", \"a\", \"a\", \"a\", \"a\", \"a\", \"a\", \"a\", \"a\", \"a\", \"a\", \"a\", \"a\", \"a\", \"a\", \"a\", \"a\", \"a\", \"a\", \"a\", \"a\", \"a\", \"a\", \"a\", \"a\", \"a\", \"a\", \"a\", \"a\", \"a\", \"a\", \"a\", \"a\", \"a\", \"a\", \"a\", \"a\", \"a\", \"a\", \"a\", \"a\", \"a\", \"a\", \"a\", \"a\", \"a\", \"a\", \"a\", \"a\", \"a\", \"a\", \"a\", \"a\", \"a\", \"a\", \"a\", \"a\", \"a\", \"a\", \"a\", \"a\", \"a\", \"a\", \"a\", \"a\", \"a\", \"a\", \"a\", \"a\", \"a\", \"a\", \"a\", \"a\", \"a\", \"lmuuituqtn\", NULL };\n",
    "  char* envp[] = { \"297=odtfhrheil\", NULL };\n",
    "  if (execve(argv[0], argv, envp) == -1)\n",
    "    perror(\"Could not execve\");\n",
    "}\n",
    "\n",
    "int main()\n",
    "{\n",
    "    if (fork() == 0){\n",
    "        printf(\"Child\\n\");\n",
    "    pwncollege();\n",
    "    }else{\n",
    "        printf(\"Parent\\n\");\n",
    "    wait(NULL);\n",
    "   }\n",
    "    return 0;\n",
    "}\n",
    "```"
   ]
  },
  {
   "cell_type": "markdown",
   "id": "364e0733",
   "metadata": {},
   "source": [
    "## embryoio_level86\n",
    "- the challenge checks for a specific parent process : shellscript\n",
    "- the challenge will force the parent process to solve a number of arithmetic problems : 1\n",
    "- the challenge will use the following arithmetic operations in its arithmetic problems : +*\n",
    "- the complexity (in terms of nested expressions) of the arithmetic problems : 1\n",
    "\n",
    "```bash \n",
    "echo './embryoio_level86' > ~/my_script.sh; bash ~/my_script.sh\n",
    "```"
   ]
  },
  {
   "cell_type": "markdown",
   "id": "f7d25472",
   "metadata": {},
   "source": [
    "## embryoio_level87\n",
    "- the challenge checks for a specific parent process : shellscript\n",
    "- the challenge will force the parent process to solve a number of arithmetic problems : 5\n",
    "- the challenge will use the following arithmetic operations in its arithmetic problems : +*%\n",
    "- the complexity (in terms of nested expressions) of the arithmetic problems : 3\n",
    "\n",
    "```bash \n",
    "echo './embryoio_level87' > ~/my_script.sh; bash ~/my_script.sh\n",
    "```"
   ]
  },
  {
   "cell_type": "code",
   "execution_count": null,
   "id": "acaf369d",
   "metadata": {},
   "outputs": [],
   "source": []
  },
  {
   "cell_type": "code",
   "execution_count": null,
   "id": "8f56be70",
   "metadata": {},
   "outputs": [],
   "source": []
  },
  {
   "cell_type": "code",
   "execution_count": null,
   "id": "59b0105a",
   "metadata": {},
   "outputs": [],
   "source": [
    "#!/usr/bin/env python3\n",
    "# -*- coding: utf-8 -*-\n",
    "#from pwn import *\n",
    "\n",
    "def recvuntil(Val):\n",
    "    while True:\n",
    "        s = input()\n",
    "        print(s)\n",
    "        if Val in s :\n",
    "            return s\n",
    "    return None\n",
    "\n",
    "for i in range( int(recvuntil(\"will force the parent process to solve a number\").split(\"problems : \")[-1]) ):\n",
    "    print(eval(recvuntil('[TEST] CHALLENGE! ').split(\"for: \")[-1]))\n"
   ]
  },
  {
   "cell_type": "code",
   "execution_count": null,
   "id": "2fe7abf5",
   "metadata": {},
   "outputs": [],
   "source": []
  },
  {
   "cell_type": "code",
   "execution_count": null,
   "id": "1053b199",
   "metadata": {},
   "outputs": [],
   "source": []
  }
 ],
 "metadata": {
  "kernelspec": {
   "display_name": "Python 3",
   "language": "python",
   "name": "python3"
  },
  "language_info": {
   "codemirror_mode": {
    "name": "ipython",
    "version": 3
   },
   "file_extension": ".py",
   "mimetype": "text/x-python",
   "name": "python",
   "nbconvert_exporter": "python",
   "pygments_lexer": "ipython3",
   "version": "3.6.9"
  }
 },
 "nbformat": 4,
 "nbformat_minor": 5
}
