{
 "cells": [
  {
   "cell_type": "markdown",
   "id": "1bfbd42d",
   "metadata": {},
   "source": [
    "+ fd - 1 pt [writeup]\n",
    "+ssh fd@pwnable.kr -p2222 (pw:guest)\n",
    "\n",
    "```bash\n",
    "echo \"LETMEWIN\" | ./fd 4660\n",
    "```\n",
    "+ mommy! I think I know what a file descriptor is!!\n",
    "---"
   ]
  },
  {
   "cell_type": "markdown",
   "id": "76ac7c8e",
   "metadata": {},
   "source": [
    "+  collision - 3 pt [writeup] \n",
    "+ ssh col@pwnable.kr -p2222 (pw:guest)\n",
    "> hashcode = 0x21DD09EC  = 0x6c5cec8*4 + 0x6c5cecc\n",
    "\n",
    "```bash\n",
    "./col \"$(echo -en \"\\xc8\\xce\\xc5\\x06\\xc8\\xce\\xc5\\x06\\xc8\\xce\\xc5\\x06\\xc8\\xce\\xc5\\x06\\xcc\\xce\\xc5\\x06\")\"\n",
    "```\n",
    "+ daddy! I just managed to create a hash collision :)\n",
    "---"
   ]
  },
  {
   "cell_type": "code",
   "execution_count": null,
   "id": "9cab67a2",
   "metadata": {},
   "outputs": [],
   "source": []
  },
  {
   "cell_type": "code",
   "execution_count": null,
   "id": "600e11e3",
   "metadata": {},
   "outputs": [],
   "source": []
  },
  {
   "cell_type": "code",
   "execution_count": null,
   "id": "8010ff06",
   "metadata": {},
   "outputs": [],
   "source": []
  },
  {
   "cell_type": "code",
   "execution_count": null,
   "id": "eb18ed19",
   "metadata": {},
   "outputs": [],
   "source": []
  },
  {
   "cell_type": "code",
   "execution_count": null,
   "id": "271e9c10",
   "metadata": {},
   "outputs": [],
   "source": []
  },
  {
   "cell_type": "code",
   "execution_count": null,
   "id": "712e73e8",
   "metadata": {},
   "outputs": [],
   "source": []
  },
  {
   "cell_type": "code",
   "execution_count": null,
   "id": "f1ecdeab",
   "metadata": {},
   "outputs": [],
   "source": []
  }
 ],
 "metadata": {
  "kernelspec": {
   "display_name": "Python 3",
   "language": "python",
   "name": "python3"
  },
  "language_info": {
   "codemirror_mode": {
    "name": "ipython",
    "version": 3
   },
   "file_extension": ".py",
   "mimetype": "text/x-python",
   "name": "python",
   "nbconvert_exporter": "python",
   "pygments_lexer": "ipython3",
   "version": "3.6.9"
  }
 },
 "nbformat": 4,
 "nbformat_minor": 5
}
