{
 "cells": [
  {
   "cell_type": "markdown",
   "id": "7ff34ea7",
   "metadata": {},
   "source": [
    "# [Advent of Code 2023](https://adventofcode.com/2023)"
   ]
  },
  {
   "cell_type": "markdown",
   "id": "597414e3",
   "metadata": {},
   "source": [
    "## [Day 1: Trebuchet?!](https://adventofcode.com/2023/day/1)"
   ]
  },
  {
   "cell_type": "markdown",
   "id": "7ebe101b",
   "metadata": {},
   "source": [
    "### part1"
   ]
  },
  {
   "cell_type": "code",
   "execution_count": 1,
   "id": "a6133295",
   "metadata": {},
   "outputs": [],
   "source": [
    "s = \"\"\"\n",
    "1abc2\n",
    "pqr3stu8vwx\n",
    "a1b2c3d4e5f\n",
    "treb7uchet\n",
    "\"\"\""
   ]
  },
  {
   "cell_type": "code",
   "execution_count": 2,
   "id": "84f371b3",
   "metadata": {},
   "outputs": [
    {
     "name": "stdout",
     "output_type": "stream",
     "text": [
      "CPU times: total: 0 ns\n",
      "Wall time: 0 ns\n"
     ]
    },
    {
     "data": {
      "text/plain": [
       "142"
      ]
     },
     "execution_count": 2,
     "metadata": {},
     "output_type": "execute_result"
    }
   ],
   "source": [
    "%%time\n",
    "f1 = lambda *x: x[0]+x[-1]\n",
    "f2 = lambda x: f1(*filter(str.isdigit, list(x)))\n",
    "sum(map(int, map(f2, s.strip().split())))"
   ]
  },
  {
   "cell_type": "code",
   "execution_count": 3,
   "id": "a044e13e",
   "metadata": {},
   "outputs": [
    {
     "name": "stdout",
     "output_type": "stream",
     "text": [
      "CPU times: total: 0 ns\n",
      "Wall time: 0 ns\n"
     ]
    },
    {
     "data": {
      "text/plain": [
       "142"
      ]
     },
     "execution_count": 3,
     "metadata": {},
     "output_type": "execute_result"
    }
   ],
   "source": [
    "%%time\n",
    "import re\n",
    "sum([(lambda x:int(x[0]+x[-1]))(re.findall('\\d', x)) for x in s.strip().split()])"
   ]
  },
  {
   "cell_type": "code",
   "execution_count": null,
   "id": "80f919c7",
   "metadata": {},
   "outputs": [],
   "source": []
  },
  {
   "cell_type": "markdown",
   "id": "29bbd460",
   "metadata": {},
   "source": [
    "### part2"
   ]
  },
  {
   "cell_type": "code",
   "execution_count": 4,
   "id": "7056a8a8",
   "metadata": {},
   "outputs": [
    {
     "name": "stdout",
     "output_type": "stream",
     "text": [
      ".replace('one', 'one1one').replace('two', 'two2two').replace('three', 'three3three').replace('four', 'four4four').replace('five', 'five5five').replace('six', 'six6six').replace('seven', 'seven7seven').replace('eight', 'eight8eight').replace('nine', 'nine9nine')"
     ]
    }
   ],
   "source": [
    "d = [\"one\", \"two\", \"three\", \"four\", \"five\", \"six\", \"seven\", \"eight\", \"nine\"]\n",
    "for i, c in enumerate(d, 1):\n",
    "     print(f\".replace('{c}', '{c}{i}{c}')\", end='')"
   ]
  },
  {
   "cell_type": "code",
   "execution_count": null,
   "id": "ec6e93ac",
   "metadata": {},
   "outputs": [],
   "source": []
  },
  {
   "cell_type": "code",
   "execution_count": 5,
   "id": "13b98ebf",
   "metadata": {},
   "outputs": [],
   "source": [
    "s = \"\"\"\n",
    "two1nine\n",
    "eightwothree\n",
    "abcone2threexyz\n",
    "xtwone3four\n",
    "4nineeightseven2\n",
    "zoneight234\n",
    "7pqrstsixteen\n",
    "\"\"\""
   ]
  },
  {
   "cell_type": "code",
   "execution_count": 6,
   "id": "9c8f554c",
   "metadata": {},
   "outputs": [
    {
     "name": "stdout",
     "output_type": "stream",
     "text": [
      "CPU times: total: 0 ns\n",
      "Wall time: 0 ns\n"
     ]
    },
    {
     "data": {
      "text/plain": [
       "281"
      ]
     },
     "execution_count": 6,
     "metadata": {},
     "output_type": "execute_result"
    }
   ],
   "source": [
    "%%time\n",
    "f3 = lambda x: x.replace('one', 'one1one').replace('two', 'two2two').replace('three', 'three3three').replace('four', 'four4four').replace('five', 'five5five').replace('six', 'six6six').replace('seven', 'seven7seven').replace('eight', 'eight8eight').replace('nine', 'nine9nine')\n",
    "sum(map(int, map(f2, map(f3, s.strip().split()))))"
   ]
  },
  {
   "cell_type": "code",
   "execution_count": null,
   "id": "d47e071f",
   "metadata": {},
   "outputs": [],
   "source": []
  },
  {
   "cell_type": "code",
   "execution_count": null,
   "id": "60b2fcf8",
   "metadata": {},
   "outputs": [],
   "source": []
  },
  {
   "cell_type": "markdown",
   "id": "2e5837a6",
   "metadata": {},
   "source": [
    "## [Day 2: Cube Conundrum](https://adventofcode.com/2023/day/2)"
   ]
  },
  {
   "cell_type": "markdown",
   "id": "10fe4ec7",
   "metadata": {},
   "source": [
    "### part1"
   ]
  },
  {
   "cell_type": "code",
   "execution_count": 7,
   "id": "7f1443fe",
   "metadata": {},
   "outputs": [],
   "source": [
    "s = \"\"\"\n",
    "Game 1: 3 blue, 4 red; 1 red, 2 green, 6 blue; 2 green\n",
    "Game 2: 1 blue, 2 green; 3 green, 4 blue, 1 red; 1 green, 1 blue\n",
    "Game 3: 8 green, 6 blue, 20 red; 5 blue, 4 red, 13 green; 5 green, 1 red\n",
    "Game 4: 1 green, 3 red, 6 blue; 3 green, 6 red; 3 green, 15 blue, 14 red\n",
    "Game 5: 6 red, 1 blue, 3 green; 2 blue, 1 red, 2 green\n",
    "\"\"\".strip().splitlines()"
   ]
  },
  {
   "cell_type": "code",
   "execution_count": 8,
   "id": "78a2368b",
   "metadata": {},
   "outputs": [
    {
     "name": "stdout",
     "output_type": "stream",
     "text": [
      "CPU times: total: 0 ns\n",
      "Wall time: 0 ns\n"
     ]
    },
    {
     "data": {
      "text/plain": [
       "8"
      ]
     },
     "execution_count": 8,
     "metadata": {},
     "output_type": "execute_result"
    }
   ],
   "source": [
    "%%time\n",
    "import re,itertools\n",
    "\n",
    "d = {\"red\": 12,\"green\": 13,\"blue\": 14}\n",
    "f = lambda a: all([(lambda x,y: d[y]>=int(x))(*x.split()) for x in re.findall('(\\d+ (?:red|green|blue))', a)])\n",
    "sum(itertools.compress(range(1, len(s)+1), map(f, s)))"
   ]
  },
  {
   "cell_type": "code",
   "execution_count": null,
   "id": "69dc2723",
   "metadata": {},
   "outputs": [],
   "source": []
  },
  {
   "cell_type": "markdown",
   "id": "e125ccf6",
   "metadata": {},
   "source": [
    "### part2"
   ]
  },
  {
   "cell_type": "code",
   "execution_count": 9,
   "id": "3819b651",
   "metadata": {},
   "outputs": [],
   "source": [
    "s = \"\"\"\n",
    "Game 1: 3 blue, 4 red; 1 red, 2 green, 6 blue; 2 green\n",
    "Game 2: 1 blue, 2 green; 3 green, 4 blue, 1 red; 1 green, 1 blue\n",
    "Game 3: 8 green, 6 blue, 20 red; 5 blue, 4 red, 13 green; 5 green, 1 red\n",
    "Game 4: 1 green, 3 red, 6 blue; 3 green, 6 red; 3 green, 15 blue, 14 red\n",
    "Game 5: 6 red, 1 blue, 3 green; 2 blue, 1 red, 2 green\n",
    "\"\"\".strip().splitlines()"
   ]
  },
  {
   "cell_type": "code",
   "execution_count": 10,
   "id": "129b3311",
   "metadata": {},
   "outputs": [
    {
     "name": "stdout",
     "output_type": "stream",
     "text": [
      "CPU times: total: 0 ns\n",
      "Wall time: 0 ns\n"
     ]
    },
    {
     "data": {
      "text/plain": [
       "2286"
      ]
     },
     "execution_count": 10,
     "metadata": {},
     "output_type": "execute_result"
    }
   ],
   "source": [
    "%%time\n",
    "import re,itertools, functools\n",
    "\n",
    "res = 0\n",
    "for l in s:\n",
    "    d = {\"red\":0,\"green\":0,\"blue\":0}\n",
    "    for x in re.findall('(\\d+ (?:red|green|blue))', l):\n",
    "        m, n = x.split()\n",
    "        if d[n]<(m:=int(m)):\n",
    "            d[n] = m\n",
    "    res += functools.reduce(lambda a, b: a*b, d.values())\n",
    "res"
   ]
  },
  {
   "cell_type": "code",
   "execution_count": null,
   "id": "6ecf5539",
   "metadata": {},
   "outputs": [],
   "source": []
  },
  {
   "cell_type": "code",
   "execution_count": null,
   "id": "0da467d8",
   "metadata": {},
   "outputs": [],
   "source": []
  },
  {
   "cell_type": "markdown",
   "id": "3c5a0c4c",
   "metadata": {},
   "source": [
    "## [Day 3: Gear Ratios](https://adventofcode.com/2023/day/3)"
   ]
  },
  {
   "cell_type": "markdown",
   "id": "e5df5799",
   "metadata": {},
   "source": [
    "### part 1"
   ]
  },
  {
   "cell_type": "code",
   "execution_count": 11,
   "id": "62592758",
   "metadata": {},
   "outputs": [],
   "source": [
    "s = \"\"\"\n",
    "467..114..\n",
    "...*......\n",
    "..35..633.\n",
    "......#...\n",
    "617*......\n",
    ".....+.58.\n",
    "..592.....\n",
    "......755.\n",
    "...$.*....\n",
    ".664.598..\n",
    "\"\"\".strip().split()"
   ]
  },
  {
   "cell_type": "code",
   "execution_count": 12,
   "id": "ff9152f4",
   "metadata": {},
   "outputs": [
    {
     "name": "stdout",
     "output_type": "stream",
     "text": [
      "CPU times: total: 0 ns\n",
      "Wall time: 0 ns\n"
     ]
    },
    {
     "data": {
      "text/plain": [
       "4361"
      ]
     },
     "execution_count": 12,
     "metadata": {},
     "output_type": "execute_result"
    }
   ],
   "source": [
    "%%time\n",
    "import re, string\n",
    "\n",
    "s = list(map(lambda x:f\".{x}.\", s))\n",
    "s.insert(0, \".\"*len(s[0]))\n",
    "s.append( \".\"*len(s[0]))\n",
    "\n",
    "allow = set(string.punctuation)\n",
    "allow.remove('.')\n",
    "\n",
    "def check(row, start, end):\n",
    "    for i in range(start-1, end+1):\n",
    "        if s[row-1][i] in allow or s[row+1][i] in allow :\n",
    "            return True\n",
    "    if s[row][start-1] in allow or s[row][end] in allow:\n",
    "        return True\n",
    "    return False\n",
    "\n",
    "sum([int(num.group()) for i, l in enumerate(s) for num in re.finditer(\"(\\d+)\", l) if check(i, *num.span())])"
   ]
  },
  {
   "cell_type": "code",
   "execution_count": null,
   "id": "296e913d",
   "metadata": {},
   "outputs": [],
   "source": []
  },
  {
   "cell_type": "markdown",
   "id": "31b157ec",
   "metadata": {},
   "source": [
    "### part 2"
   ]
  },
  {
   "cell_type": "code",
   "execution_count": 13,
   "id": "b11f9c8b",
   "metadata": {},
   "outputs": [],
   "source": [
    "s = \"\"\"\n",
    "467..114..\n",
    "...*......\n",
    "..35..633.\n",
    "......#...\n",
    "617*......\n",
    ".....+.58.\n",
    "..592.....\n",
    "......755.\n",
    "...$.*....\n",
    ".664.598..\n",
    "\"\"\".strip().split()"
   ]
  },
  {
   "cell_type": "code",
   "execution_count": 14,
   "id": "7fd33e86",
   "metadata": {},
   "outputs": [
    {
     "name": "stdout",
     "output_type": "stream",
     "text": [
      "CPU times: total: 0 ns\n",
      "Wall time: 0 ns\n"
     ]
    },
    {
     "data": {
      "text/plain": [
       "467835"
      ]
     },
     "execution_count": 14,
     "metadata": {},
     "output_type": "execute_result"
    }
   ],
   "source": [
    "%%time\n",
    "import re\n",
    "\n",
    "s = list(map(lambda x:f\".{x}.\", s))\n",
    "s.insert(0, \".\"*len(s[0]))\n",
    "s.append( \".\"*len(s[0]))\n",
    "\n",
    "def check(row, col):\n",
    "    N = []\n",
    "    a = set([col-1,col,col+1])\n",
    "    b = set([col-1,col+1])\n",
    "    for num in re.finditer(\"(\\d+)\", s[row-1]):\n",
    "        if a.intersection(range(*num.span())):\n",
    "            N.append(int(num.group()))\n",
    "    for num in re.finditer(\"(\\d+)\", s[row]):\n",
    "        if b.intersection(range(*num.span())):\n",
    "            N.append(int(num.group()))\n",
    "    for num in re.finditer(\"(\\d+)\", s[row+1]):\n",
    "        if a.intersection(range(*num.span())):\n",
    "            N.append(int(num.group()))\n",
    "    if len(N)==2:\n",
    "        return N[0]*N[1]\n",
    "    return 0\n",
    "\n",
    "sum([check(i, num.start()) for i, l in enumerate(s) for num in re.finditer(\"(\\*)\", l)])"
   ]
  },
  {
   "cell_type": "code",
   "execution_count": null,
   "id": "7dec44ee",
   "metadata": {},
   "outputs": [],
   "source": []
  },
  {
   "cell_type": "code",
   "execution_count": null,
   "id": "9919405e",
   "metadata": {},
   "outputs": [],
   "source": []
  },
  {
   "cell_type": "markdown",
   "id": "0705219f",
   "metadata": {},
   "source": [
    "## [Day 4: Scratchcards](https://adventofcode.com/2023/day/4)"
   ]
  },
  {
   "cell_type": "markdown",
   "id": "f973b137",
   "metadata": {},
   "source": [
    "### part 1"
   ]
  },
  {
   "cell_type": "code",
   "execution_count": 15,
   "id": "a3670572",
   "metadata": {},
   "outputs": [],
   "source": [
    "s = \"\"\"\n",
    "Card 1: 41 48 83 86 17 | 83 86  6 31 17  9 48 53\n",
    "Card 2: 13 32 20 16 61 | 61 30 68 82 17 32 24 19\n",
    "Card 3:  1 21 53 59 44 | 69 82 63 72 16 21 14  1\n",
    "Card 4: 41 92 73 84 69 | 59 84 76 51 58  5 54 83\n",
    "Card 5: 87 83 26 28 32 | 88 30 70 12 93 22 82 36\n",
    "Card 6: 31 18 13 56 72 | 74 77 10 23 35 67 36 11\n",
    "\"\"\".strip().splitlines()"
   ]
  },
  {
   "cell_type": "code",
   "execution_count": 16,
   "id": "bd741bb9",
   "metadata": {},
   "outputs": [
    {
     "name": "stdout",
     "output_type": "stream",
     "text": [
      "CPU times: total: 0 ns\n",
      "Wall time: 0 ns\n"
     ]
    },
    {
     "data": {
      "text/plain": [
       "13"
      ]
     },
     "execution_count": 16,
     "metadata": {},
     "output_type": "execute_result"
    }
   ],
   "source": [
    "%%time\n",
    "res = 0\n",
    "for l in s:\n",
    "    a, b = [*map(lambda x:set(map(int,x.split())), l.split(\":\")[1].split(\"|\"))]\n",
    "    if (p:=len(a&b)): # a.intersection(b)\n",
    "        res += 2**(p-1)\n",
    "res"
   ]
  },
  {
   "cell_type": "code",
   "execution_count": null,
   "id": "a46f8e0a",
   "metadata": {},
   "outputs": [],
   "source": []
  },
  {
   "cell_type": "markdown",
   "id": "bd7a927d",
   "metadata": {},
   "source": [
    "### part 2"
   ]
  },
  {
   "cell_type": "code",
   "execution_count": 17,
   "id": "27adb4cb",
   "metadata": {},
   "outputs": [],
   "source": [
    "s = \"\"\"\n",
    "Card 1: 41 48 83 86 17 | 83 86  6 31 17  9 48 53\n",
    "Card 2: 13 32 20 16 61 | 61 30 68 82 17 32 24 19\n",
    "Card 3:  1 21 53 59 44 | 69 82 63 72 16 21 14  1\n",
    "Card 4: 41 92 73 84 69 | 59 84 76 51 58  5 54 83\n",
    "Card 5: 87 83 26 28 32 | 88 30 70 12 93 22 82 36\n",
    "Card 6: 31 18 13 56 72 | 74 77 10 23 35 67 36 11\n",
    "\"\"\".strip().splitlines()"
   ]
  },
  {
   "cell_type": "code",
   "execution_count": 18,
   "id": "71f09ce0",
   "metadata": {},
   "outputs": [
    {
     "name": "stdout",
     "output_type": "stream",
     "text": [
      "30\n",
      "CPU times: total: 0 ns\n",
      "Wall time: 0 ns\n"
     ]
    }
   ],
   "source": [
    "%%time\n",
    "d = {i:1 for i in range(len(s))}\n",
    "for i, l in enumerate(s):\n",
    "    a, b = [*map(lambda x:set(map(int,x.split())), l.split(\":\")[1].split(\"|\"))]\n",
    "    p = len(a&b) # a.intersection(b)\n",
    "    for j in range(p):\n",
    "        d[i+j+1] += d[i]\n",
    "print(sum(d.values()))"
   ]
  },
  {
   "cell_type": "code",
   "execution_count": null,
   "id": "619c4bcc",
   "metadata": {},
   "outputs": [],
   "source": []
  },
  {
   "cell_type": "code",
   "execution_count": null,
   "id": "937ff700",
   "metadata": {},
   "outputs": [],
   "source": []
  },
  {
   "cell_type": "markdown",
   "id": "90aaab27",
   "metadata": {},
   "source": [
    "## Day 5: If You Give A Seed A Fertilizer"
   ]
  },
  {
   "cell_type": "markdown",
   "id": "3f247905",
   "metadata": {},
   "source": [
    "### part 1"
   ]
  },
  {
   "cell_type": "code",
   "execution_count": 19,
   "id": "0ad50756",
   "metadata": {},
   "outputs": [],
   "source": [
    "s = \"\"\"\n",
    "seeds: 79 14 55 13\n",
    "\n",
    "seed-to-soil map:\n",
    "50 98 2\n",
    "52 50 48\n",
    "\n",
    "soil-to-fertilizer map:\n",
    "0 15 37\n",
    "37 52 2\n",
    "39 0 15\n",
    "\n",
    "fertilizer-to-water map:\n",
    "49 53 8\n",
    "0 11 42\n",
    "42 0 7\n",
    "57 7 4\n",
    "\n",
    "water-to-light map:\n",
    "88 18 7\n",
    "18 25 70\n",
    "\n",
    "light-to-temperature map:\n",
    "45 77 23\n",
    "81 45 19\n",
    "68 64 13\n",
    "\n",
    "temperature-to-humidity map:\n",
    "0 69 1\n",
    "1 0 69\n",
    "\n",
    "humidity-to-location map:\n",
    "60 56 37\n",
    "56 93 4\n",
    "\"\"\".strip().split(\"\\n\\n\")"
   ]
  },
  {
   "cell_type": "code",
   "execution_count": 20,
   "id": "957e5668",
   "metadata": {},
   "outputs": [],
   "source": [
    "def changer(inp, lines):\n",
    "    src2dst = {}\n",
    "    for l in lines[1:]:\n",
    "        dst, src, rng = map(int, l.split())\n",
    "        srcDict = range(src, src+rng)\n",
    "        dstDict = range(dst, dst+rng)\n",
    "        src2dst |= dict(zip(srcDict, dstDict))\n",
    "    return [src2dst[i] if i in src2dst else i for i in inp]"
   ]
  },
  {
   "cell_type": "code",
   "execution_count": 21,
   "id": "75aa5496",
   "metadata": {},
   "outputs": [],
   "source": [
    "def changer2(inp, lines):\n",
    "    lst = []\n",
    "    for l in lines[1:]:\n",
    "        dst, src, step = map(int, l.split())\n",
    "        lst.append((range(src, src+step), src, dst))\n",
    "    \n",
    "    res = []\n",
    "    for i in inp:\n",
    "        for rng, src, dst in lst:\n",
    "            if i in rng:\n",
    "                res.append(i-src+dst)\n",
    "                break\n",
    "        else:\n",
    "            res.append(i)\n",
    "    return res"
   ]
  },
  {
   "cell_type": "code",
   "execution_count": 22,
   "id": "10a6c3c9",
   "metadata": {},
   "outputs": [
    {
     "name": "stdout",
     "output_type": "stream",
     "text": [
      "35\n",
      "CPU times: total: 0 ns\n",
      "Wall time: 986 µs\n"
     ]
    }
   ],
   "source": [
    "%%time\n",
    "seeds = list(map(int, s[0].split(\":\")[1].split()))\n",
    "for line in s[1:]:\n",
    "    seeds = changer2(seeds, line.splitlines())\n",
    "print(min(seeds))"
   ]
  },
  {
   "cell_type": "code",
   "execution_count": null,
   "id": "a742203a",
   "metadata": {},
   "outputs": [],
   "source": []
  },
  {
   "cell_type": "markdown",
   "id": "ede39246",
   "metadata": {},
   "source": [
    "### part 2"
   ]
  },
  {
   "cell_type": "code",
   "execution_count": 23,
   "id": "40281d2f",
   "metadata": {},
   "outputs": [],
   "source": [
    "s = \"\"\"\n",
    "seeds: 79 14 55 13\n",
    "\n",
    "seed-to-soil map:\n",
    "50 98 2\n",
    "52 50 48\n",
    "\n",
    "soil-to-fertilizer map:\n",
    "0 15 37\n",
    "37 52 2\n",
    "39 0 15\n",
    "\n",
    "fertilizer-to-water map:\n",
    "49 53 8\n",
    "0 11 42\n",
    "42 0 7\n",
    "57 7 4\n",
    "\n",
    "water-to-light map:\n",
    "88 18 7\n",
    "18 25 70\n",
    "\n",
    "light-to-temperature map:\n",
    "45 77 23\n",
    "81 45 19\n",
    "68 64 13\n",
    "\n",
    "temperature-to-humidity map:\n",
    "0 69 1\n",
    "1 0 69\n",
    "\n",
    "humidity-to-location map:\n",
    "60 56 37\n",
    "56 93 4\n",
    "\"\"\".strip().split(\"\\n\\n\")"
   ]
  },
  {
   "cell_type": "code",
   "execution_count": 24,
   "id": "2d4368ee",
   "metadata": {},
   "outputs": [],
   "source": [
    "def changer3(inp, lines):\n",
    "    lst = []\n",
    "    for l in lines[1:]:\n",
    "        dst, src, step = map(int, l.split())\n",
    "        lst.append((src, src+step-1, dst-src))\n",
    "    res = []\n",
    "    while inp:\n",
    "        start, end = inp.pop()\n",
    "        for srcStart, srcEnd, diff in lst:\n",
    "            if end < srcStart or srcEnd < start:\n",
    "                continue\n",
    "            if start < srcStart:\n",
    "                inp.append((start, srcStart-1))\n",
    "                m = srcStart\n",
    "            else:\n",
    "                m = start \n",
    "            if srcEnd < end:\n",
    "                inp.append((srcEnd+1, end))\n",
    "                n = srcEnd\n",
    "            else:\n",
    "                n = end\n",
    "            res.append((m+diff, n+diff))\n",
    "            break\n",
    "        else:\n",
    "            res.append((start, end))\n",
    "    return res"
   ]
  },
  {
   "cell_type": "code",
   "execution_count": 25,
   "id": "a5e14d3c",
   "metadata": {},
   "outputs": [
    {
     "name": "stdout",
     "output_type": "stream",
     "text": [
      "46\n",
      "CPU times: total: 0 ns\n",
      "Wall time: 958 µs\n"
     ]
    }
   ],
   "source": [
    "%%time\n",
    "a = list(map(int, s[0].split(\":\")[1].split()))\n",
    "seeds = [(a[i], a[i]+a[i+1]-1) for i in range(0,len(a),2)]\n",
    "for line in s[1:]:\n",
    "    seeds = changer3(seeds, line.splitlines())\n",
    "print(min(seeds)[0])"
   ]
  },
  {
   "cell_type": "code",
   "execution_count": null,
   "id": "c27ee4c9",
   "metadata": {},
   "outputs": [],
   "source": []
  },
  {
   "cell_type": "code",
   "execution_count": null,
   "id": "9899d8c4",
   "metadata": {},
   "outputs": [],
   "source": []
  },
  {
   "cell_type": "markdown",
   "id": "31dfa503",
   "metadata": {},
   "source": [
    "## Day 6: Wait For It"
   ]
  },
  {
   "cell_type": "markdown",
   "id": "9b6703db",
   "metadata": {},
   "source": [
    "### part 1"
   ]
  },
  {
   "cell_type": "code",
   "execution_count": 26,
   "id": "b3a7e3c1",
   "metadata": {},
   "outputs": [],
   "source": [
    "s = \"\"\"\n",
    "Time:        40     82     91     66\n",
    "Distance:   277   1338   1349   1063\n",
    "\"\"\".strip().splitlines()"
   ]
  },
  {
   "cell_type": "code",
   "execution_count": 27,
   "id": "45963abd",
   "metadata": {},
   "outputs": [
    {
     "name": "stdout",
     "output_type": "stream",
     "text": [
      "CPU times: total: 0 ns\n",
      "Wall time: 0 ns\n"
     ]
    },
    {
     "data": {
      "text/plain": [
       "505494"
      ]
     },
     "execution_count": 27,
     "metadata": {},
     "output_type": "execute_result"
    }
   ],
   "source": [
    "%%time\n",
    "from functools import reduce\n",
    "times = [*map(int, s[0].split(\":\")[1].split())]\n",
    "distances = [*map(int, s[1].split(\":\")[1].split())]\n",
    "\n",
    "l = [sum([1 for i in range(t) if (i*(t-i))>d]) for t, d in zip(times, distances)]\n",
    "reduce(lambda a, b: a*b, l)"
   ]
  },
  {
   "cell_type": "code",
   "execution_count": null,
   "id": "a5c1cc9a",
   "metadata": {},
   "outputs": [],
   "source": []
  },
  {
   "cell_type": "markdown",
   "id": "b16eb260",
   "metadata": {},
   "source": [
    "### part 2"
   ]
  },
  {
   "cell_type": "code",
   "execution_count": 28,
   "id": "f23e0e64",
   "metadata": {},
   "outputs": [],
   "source": [
    "s = \"\"\"\n",
    "Time:        40     82     91     66\n",
    "Distance:   277   1338   1349   1063\n",
    "\"\"\".strip().splitlines()"
   ]
  },
  {
   "cell_type": "code",
   "execution_count": 29,
   "id": "5c350989",
   "metadata": {},
   "outputs": [
    {
     "name": "stdout",
     "output_type": "stream",
     "text": [
      "CPU times: total: 4.67 s\n",
      "Wall time: 4.67 s\n"
     ]
    },
    {
     "data": {
      "text/plain": [
       "23632299"
      ]
     },
     "execution_count": 29,
     "metadata": {},
     "output_type": "execute_result"
    }
   ],
   "source": [
    "%%time\n",
    "t = int(s[0].split(\":\")[1].replace(' ',''))\n",
    "d = int(s[1].split(\":\")[1].replace(' ',''))\n",
    "sum([1 for i in range(t) if (i*(t-i))>d])"
   ]
  },
  {
   "cell_type": "code",
   "execution_count": null,
   "id": "1beb3850",
   "metadata": {},
   "outputs": [],
   "source": []
  },
  {
   "cell_type": "code",
   "execution_count": 30,
   "id": "4f0df6e4",
   "metadata": {},
   "outputs": [
    {
     "name": "stdout",
     "output_type": "stream",
     "text": [
      "CPU times: total: 562 ms\n",
      "Wall time: 755 ms\n"
     ]
    },
    {
     "data": {
      "text/plain": [
       "23632299"
      ]
     },
     "execution_count": 30,
     "metadata": {},
     "output_type": "execute_result"
    }
   ],
   "source": [
    "%%time\n",
    "from sympy import symbols, reduce_inequalities\n",
    "x = symbols('x')\n",
    "eq = reduce_inequalities([x*(t-x) > d], x)\n",
    "constants = [arg.rhs if arg.lhs==x else arg.lhs for arg in eq.args]\n",
    "round(abs(float(constants[0]) - float(constants[1])))"
   ]
  },
  {
   "cell_type": "code",
   "execution_count": null,
   "id": "feeb6c60",
   "metadata": {},
   "outputs": [],
   "source": []
  },
  {
   "cell_type": "markdown",
   "id": "bc4b107d",
   "metadata": {},
   "source": [
    "<div class=\"alert alert-danger\">\n",
    "  <strong>solve this chal with z3 isn't good idea :)</strong>\n",
    "</div>\n",
    "\n",
    "```py\n",
    "from z3 import *\n",
    "x = Int('x')\n",
    "s = Solver() \n",
    "s.add(0<x, x<t)\n",
    "s.add(x*(t-x) > d)\n",
    "cnt = 0\n",
    "while s.check()==sat:\n",
    "    s.add(x!=s.model()[x])\n",
    "    cnt+=1\n",
    "```"
   ]
  },
  {
   "cell_type": "code",
   "execution_count": null,
   "id": "cdd0b863",
   "metadata": {},
   "outputs": [],
   "source": []
  },
  {
   "cell_type": "code",
   "execution_count": null,
   "id": "455ba0dc",
   "metadata": {},
   "outputs": [],
   "source": []
  },
  {
   "cell_type": "markdown",
   "id": "7934039a",
   "metadata": {},
   "source": [
    "## Day 7: Camel Cards"
   ]
  },
  {
   "cell_type": "markdown",
   "id": "994943e6",
   "metadata": {},
   "source": [
    "### part 1"
   ]
  },
  {
   "cell_type": "code",
   "execution_count": 31,
   "id": "1d07fbe6",
   "metadata": {},
   "outputs": [],
   "source": [
    "ALL = ['2', '3', '4', '5', '6', '7', '8', '9', 'T', 'J', 'Q', 'K', 'A']"
   ]
  },
  {
   "cell_type": "code",
   "execution_count": 32,
   "id": "b3af50b3",
   "metadata": {},
   "outputs": [],
   "source": [
    "def position(a):\n",
    "    values = set(a)\n",
    "    cnt = sorted(map(a.count, values))\n",
    "    if len(values)==1: # Five of a kind\n",
    "        return 6\n",
    "    if len(values)==2:\n",
    "        if cnt[0]==1:\n",
    "            return 5 # Four of a kind\n",
    "        return 4 # Full house\n",
    "    if len(values)==3:\n",
    "        if cnt[-1]==3:\n",
    "            return 3 # Three of a kind\n",
    "        return 2 # Two pair\n",
    "    if len(values)==4:\n",
    "        return 1 # One pair\n",
    "    return 0 # High card"
   ]
  },
  {
   "cell_type": "code",
   "execution_count": 33,
   "id": "f626b62d",
   "metadata": {},
   "outputs": [],
   "source": [
    "class Cards:\n",
    "    def __init__(self, val, bid):\n",
    "        self.value = val\n",
    "        self.bid = int(bid)\n",
    "        self.type = position(val)\n",
    "    \n",
    "    def __lt__(self, other):\n",
    "        if self.type == other.type:\n",
    "            for c1, c2 in zip(self.value, other.value):\n",
    "                if c1==c2:\n",
    "                    continue\n",
    "                return ALL.index(c1) < ALL.index(c2)\n",
    "            return False\n",
    "        return self.type < other.type\n",
    "    \n",
    "    def __repr__(self):\n",
    "        return f\"{self.value} {self.type} with bid={self.bid}\""
   ]
  },
  {
   "cell_type": "code",
   "execution_count": 34,
   "id": "6a1976f5",
   "metadata": {},
   "outputs": [],
   "source": [
    "s = \"\"\"\n",
    "32T3K 765\n",
    "T55J5 684\n",
    "KK677 28\n",
    "KTJJT 220\n",
    "QQQJA 483\n",
    "\"\"\".strip().splitlines()"
   ]
  },
  {
   "cell_type": "code",
   "execution_count": 35,
   "id": "da6adca8",
   "metadata": {},
   "outputs": [
    {
     "name": "stdout",
     "output_type": "stream",
     "text": [
      "CPU times: total: 0 ns\n",
      "Wall time: 1.01 ms\n"
     ]
    },
    {
     "data": {
      "text/plain": [
       "6440"
      ]
     },
     "execution_count": 35,
     "metadata": {},
     "output_type": "execute_result"
    }
   ],
   "source": [
    "%%time\n",
    "cards = [Cards(*item.split()) for item in s]\n",
    "sum([(i+1)*card.bid for i, card in enumerate(sorted(cards))])"
   ]
  },
  {
   "cell_type": "code",
   "execution_count": null,
   "id": "ff3866c5",
   "metadata": {},
   "outputs": [],
   "source": []
  },
  {
   "cell_type": "markdown",
   "id": "096b5c0b",
   "metadata": {},
   "source": [
    "### part 2"
   ]
  },
  {
   "cell_type": "code",
   "execution_count": 36,
   "id": "0ef0c056",
   "metadata": {},
   "outputs": [],
   "source": [
    "ALL = ['J', '2', '3', '4', '5', '6', '7', '8', '9', 'T', 'Q', 'K', 'A']"
   ]
  },
  {
   "cell_type": "code",
   "execution_count": 37,
   "id": "6ed1bdd6",
   "metadata": {},
   "outputs": [],
   "source": [
    "def position(a):\n",
    "    d = {x:a.count(x) for x in set(a.replace('J', ''))}\n",
    "    d = dict(sorted(d.items(), key=lambda item: item[1]))\n",
    "    a = a.replace(\"J\", list(d.keys())[-1]) if d else \"AAAAA\"\n",
    "    values = set(a)\n",
    "    cnt = sorted(map(a.count, values))\n",
    "    if len(values)==1: # Five of a kind\n",
    "        return 6\n",
    "    if len(values)==2:\n",
    "        if cnt[0]==1:\n",
    "            return 5 # Four of a kind\n",
    "        return 4 # Full house\n",
    "    if len(values)==3:\n",
    "        if cnt[-1]==3:\n",
    "            return 3 # Three of a kind\n",
    "        return 2 # Two pair\n",
    "    if len(values)==4:\n",
    "        return 1 # One pair\n",
    "    return 0 # High card"
   ]
  },
  {
   "cell_type": "code",
   "execution_count": 38,
   "id": "fb01dca5",
   "metadata": {},
   "outputs": [],
   "source": [
    "s = \"\"\"\n",
    "32T3K 765\n",
    "T55J5 684\n",
    "KK677 28\n",
    "KTJJT 220\n",
    "QQQJA 483\n",
    "\"\"\".strip().splitlines()"
   ]
  },
  {
   "cell_type": "code",
   "execution_count": 39,
   "id": "e5ed08a3",
   "metadata": {},
   "outputs": [
    {
     "name": "stdout",
     "output_type": "stream",
     "text": [
      "CPU times: total: 0 ns\n",
      "Wall time: 0 ns\n"
     ]
    },
    {
     "data": {
      "text/plain": [
       "5905"
      ]
     },
     "execution_count": 39,
     "metadata": {},
     "output_type": "execute_result"
    }
   ],
   "source": [
    "%%time\n",
    "cards = [Cards(*item.split()) for item in s]\n",
    "sum([(i+1)*card.bid for i, card in enumerate(sorted(cards))])"
   ]
  },
  {
   "cell_type": "code",
   "execution_count": null,
   "id": "d1ee2859",
   "metadata": {},
   "outputs": [],
   "source": []
  },
  {
   "cell_type": "code",
   "execution_count": null,
   "id": "cd6a9f6c",
   "metadata": {},
   "outputs": [],
   "source": []
  },
  {
   "cell_type": "markdown",
   "id": "c4f004cf",
   "metadata": {},
   "source": [
    "## Day 8: Haunted Wasteland"
   ]
  },
  {
   "cell_type": "markdown",
   "id": "ad585479",
   "metadata": {},
   "source": [
    "### part 1"
   ]
  },
  {
   "cell_type": "code",
   "execution_count": 40,
   "id": "6552369f",
   "metadata": {},
   "outputs": [],
   "source": [
    "s = \"\"\"\n",
    "RL\n",
    "\n",
    "AAA = (BBB, CCC)\n",
    "BBB = (DDD, EEE)\n",
    "CCC = (ZZZ, GGG)\n",
    "DDD = (DDD, DDD)\n",
    "EEE = (EEE, EEE)\n",
    "GGG = (GGG, GGG)\n",
    "ZZZ = (ZZZ, ZZZ)\n",
    "\"\"\".strip().splitlines()"
   ]
  },
  {
   "cell_type": "code",
   "execution_count": 41,
   "id": "dc85a0d9",
   "metadata": {},
   "outputs": [
    {
     "name": "stdout",
     "output_type": "stream",
     "text": [
      "CPU times: total: 0 ns\n",
      "Wall time: 0 ns\n"
     ]
    },
    {
     "data": {
      "text/plain": [
       "2"
      ]
     },
     "execution_count": 41,
     "metadata": {},
     "output_type": "execute_result"
    }
   ],
   "source": [
    "%%time\n",
    "from itertools import cycle\n",
    "\n",
    "def findEnd(cur):\n",
    "    for cnt, inst in enumerate(cycle(instructions)):\n",
    "        cur = network[cur][inst==\"R\"]\n",
    "        if cur==\"ZZZ\":\n",
    "            return cnt+1\n",
    "\n",
    "instructions = s[0]\n",
    "network = {}\n",
    "for l in s[2:]:\n",
    "    a, b = l.split(\" = \")\n",
    "    network[a] = b[1:-1].split(\", \")\n",
    "\n",
    "findEnd(\"AAA\")"
   ]
  },
  {
   "cell_type": "code",
   "execution_count": null,
   "id": "c197fe42",
   "metadata": {},
   "outputs": [],
   "source": []
  },
  {
   "cell_type": "markdown",
   "id": "d0051dd2",
   "metadata": {},
   "source": [
    "### part 2"
   ]
  },
  {
   "cell_type": "code",
   "execution_count": 42,
   "id": "cba6a18f",
   "metadata": {},
   "outputs": [],
   "source": [
    "s = \"\"\"\n",
    "LR\n",
    "\n",
    "11A = (11B, XXX)\n",
    "11B = (XXX, 11Z)\n",
    "11Z = (11B, XXX)\n",
    "22A = (22B, XXX)\n",
    "22B = (22C, 22C)\n",
    "22C = (22Z, 22Z)\n",
    "22Z = (22B, 22B)\n",
    "XXX = (XXX, XXX)\n",
    "\"\"\".strip().splitlines()"
   ]
  },
  {
   "cell_type": "code",
   "execution_count": 43,
   "id": "db5f1e52",
   "metadata": {},
   "outputs": [
    {
     "name": "stdout",
     "output_type": "stream",
     "text": [
      "CPU times: total: 0 ns\n",
      "Wall time: 1 ms\n"
     ]
    },
    {
     "data": {
      "text/plain": [
       "6"
      ]
     },
     "execution_count": 43,
     "metadata": {},
     "output_type": "execute_result"
    }
   ],
   "source": [
    "%%time\n",
    "from itertools import cycle\n",
    "from math import lcm\n",
    "\n",
    "def findEnd(cur):\n",
    "    for cnt, inst in enumerate(cycle(instructions)):\n",
    "        cur = network[cur][inst==\"R\"]\n",
    "        if cur.endswith(\"Z\"):\n",
    "            return cnt+1\n",
    "\n",
    "instructions = s[0]\n",
    "network = {}\n",
    "for l in s[2:]:\n",
    "    a, b = l.split(\" = \")\n",
    "    network[a] = b[1:-1].split(\", \")\n",
    "\n",
    "cur = [*filter(lambda x:x.endswith(\"A\"), network.keys())]\n",
    "lcm(*map(findEnd, cur))"
   ]
  },
  {
   "cell_type": "code",
   "execution_count": null,
   "id": "8e16e60f",
   "metadata": {},
   "outputs": [],
   "source": []
  },
  {
   "cell_type": "code",
   "execution_count": null,
   "id": "de510bef",
   "metadata": {},
   "outputs": [],
   "source": []
  },
  {
   "cell_type": "markdown",
   "id": "0a6f4101",
   "metadata": {},
   "source": [
    "## Day 9: Mirage Maintenance"
   ]
  },
  {
   "cell_type": "markdown",
   "id": "616cc4ae",
   "metadata": {},
   "source": [
    "### part 1"
   ]
  },
  {
   "cell_type": "code",
   "execution_count": 44,
   "id": "aed31b0e",
   "metadata": {},
   "outputs": [],
   "source": [
    "s = \"\"\"\n",
    "0 3 6 9 12 15\n",
    "1 3 6 10 15 21\n",
    "10 13 16 21 30 45\n",
    "\"\"\".strip().splitlines()"
   ]
  },
  {
   "cell_type": "code",
   "execution_count": 45,
   "id": "6a3369fc",
   "metadata": {},
   "outputs": [
    {
     "name": "stdout",
     "output_type": "stream",
     "text": [
      "CPU times: total: 0 ns\n",
      "Wall time: 0 ns\n"
     ]
    },
    {
     "data": {
      "text/plain": [
       "114"
      ]
     },
     "execution_count": 45,
     "metadata": {},
     "output_type": "execute_result"
    }
   ],
   "source": [
    "%%time\n",
    "def findNext(seq):\n",
    "    lst = [seq]\n",
    "    while any(lst[-1]):\n",
    "        lst.append( [b-a for a,b in zip(lst[-1], lst[-1][1:])] )\n",
    "    lst[-1].append(0)\n",
    "    for i in range(len(lst)-2, -1, -1):\n",
    "        lst[i].append( lst[i][-1] + lst[i+1][-1] )\n",
    "    return lst[0][-1]\n",
    "\n",
    "sum([findNext([*map(int, l.split())]) for l in s])"
   ]
  },
  {
   "cell_type": "code",
   "execution_count": null,
   "id": "66071055",
   "metadata": {},
   "outputs": [],
   "source": []
  },
  {
   "cell_type": "markdown",
   "id": "a344b133",
   "metadata": {},
   "source": [
    "- interesting function\n",
    "---\n",
    "```py\n",
    "import sympy\n",
    "\n",
    "x = sympy.symbols('x')\n",
    "zeropoly = x - x\n",
    "onepoly = zeropoly + 1\n",
    "\n",
    "def lagrangepoly(yseq, xseq=None):\n",
    "    \"\"\"Build a Lagrange polynomial from a sequence of `y` values.\n",
    "    If no sequence of `x`s is given, use x = 1, 2, ...\"\"\"\n",
    "    if xseq is None:\n",
    "        xseq = list(range(1, len(yseq) + 1))\n",
    "    assert len(yseq) == len(xseq)\n",
    "\n",
    "    result = zeropoly\n",
    "    for j, (xj, yj) in enumerate(zip(xseq, yseq)):\n",
    "        # Build the j'th base polynomial\n",
    "        polyj = onepoly\n",
    "        for m, xm in enumerate(xseq):\n",
    "            if m != j:\n",
    "                polyj *= (x - xm) / (xj - xm)\n",
    "        # Add in the j'th polynomial\n",
    "        result += yj * polyj\n",
    "    return result\n",
    "\n",
    "lst = [10, 13, 16, 21, 30, 45]\n",
    "formula = lagrangepoly(lst)\n",
    "next_item = formula.subs(x, len(lst)+1)\n",
    "print(sympy.expand(formula)) # x**3/3 - 2*x**2 + 20*x/3 + 5\n",
    "print(f\"{next_item = }\") # next_item = 68\n",
    "```"
   ]
  },
  {
   "cell_type": "code",
   "execution_count": null,
   "id": "3b5867cd",
   "metadata": {},
   "outputs": [],
   "source": []
  },
  {
   "cell_type": "markdown",
   "id": "c32e244b",
   "metadata": {},
   "source": [
    "### part 2"
   ]
  },
  {
   "cell_type": "code",
   "execution_count": 46,
   "id": "4e323059",
   "metadata": {},
   "outputs": [],
   "source": [
    "s = \"\"\"\n",
    "0 3 6 9 12 15\n",
    "1 3 6 10 15 21\n",
    "10 13 16 21 30 45\n",
    "\"\"\".strip().splitlines()"
   ]
  },
  {
   "cell_type": "code",
   "execution_count": 47,
   "id": "94f0c15b",
   "metadata": {},
   "outputs": [
    {
     "name": "stdout",
     "output_type": "stream",
     "text": [
      "CPU times: total: 0 ns\n",
      "Wall time: 0 ns\n"
     ]
    },
    {
     "data": {
      "text/plain": [
       "2"
      ]
     },
     "execution_count": 47,
     "metadata": {},
     "output_type": "execute_result"
    }
   ],
   "source": [
    "%%time\n",
    "def findPrevious(seq):\n",
    "    lst = [seq]\n",
    "    while any(lst[-1]):\n",
    "        lst.append( [b-a for a,b in zip(lst[-1], lst[-1][1:])] )\n",
    "    lst[-1].insert(0, 0)\n",
    "    for i in range(len(lst)-2, -1, -1):\n",
    "        lst[i].insert(0, lst[i][0] - lst[i+1][0]) \n",
    "    return lst[0][0]\n",
    "\n",
    "sum([findPrevious([*map(int, l.split())]) for l in s])"
   ]
  },
  {
   "cell_type": "code",
   "execution_count": null,
   "id": "8b07bb70",
   "metadata": {},
   "outputs": [],
   "source": []
  },
  {
   "cell_type": "code",
   "execution_count": null,
   "id": "0e1f10b4",
   "metadata": {},
   "outputs": [],
   "source": []
  },
  {
   "cell_type": "markdown",
   "id": "b02195a0",
   "metadata": {},
   "source": [
    "## Day 10: Pipe Maze"
   ]
  },
  {
   "cell_type": "markdown",
   "id": "a16b9433",
   "metadata": {},
   "source": [
    "### part 1"
   ]
  },
  {
   "cell_type": "code",
   "execution_count": 48,
   "id": "4b23145c",
   "metadata": {},
   "outputs": [],
   "source": [
    "s = \"\"\"\n",
    "7-F7-\n",
    ".FJ|7\n",
    "SJLL7\n",
    "|F--J\n",
    "LJ.LJ\n",
    "\"\"\".strip().splitlines()\n",
    "\n",
    "s = list(map(lambda x:f\".{x}.\", s))\n",
    "s.insert(0, \".\"*len(s[0]))\n",
    "s.append( \".\"*len(s[0]))"
   ]
  },
  {
   "cell_type": "code",
   "execution_count": 49,
   "id": "7539266f",
   "metadata": {},
   "outputs": [
    {
     "name": "stdout",
     "output_type": "stream",
     "text": [
      "CPU times: total: 125 ms\n",
      "Wall time: 423 ms\n"
     ]
    },
    {
     "data": {
      "text/plain": [
       "8"
      ]
     },
     "execution_count": 49,
     "metadata": {},
     "output_type": "execute_result"
    }
   ],
   "source": [
    "%%time\n",
    "import sys\n",
    "sys.setrecursionlimit(30_000)\n",
    "\n",
    "import numpy as np\n",
    "\n",
    "checkUp = lambda x:x in {\"|\", \"F\", \"7\", \"S\"}\n",
    "checkDown = lambda x:x in {\"|\", \"L\", \"J\", \"S\"}\n",
    "checkLeft = lambda x:x in {\"-\", \"F\", \"L\", \"S\"}\n",
    "checkRight = lambda x:x in {\"-\", \"7\", \"J\", \"S\"}\n",
    "\n",
    "def move(x, y, n=1, lastMove=0):\n",
    "    if lastMove and arr[x, y]==\"S\":\n",
    "        return 1 # [X] return to start\n",
    "    if TABLE[x, y] < n:\n",
    "        return 1 # [X] seen before\n",
    "    TABLE[x, y] = n\n",
    "    bonBast = True\n",
    "    if lastMove!=2 and checkDown(arr[x, y]) and checkUp(arr[x-1, y]):  # move up\n",
    "        if move(x-1, y, n+1, 1):\n",
    "            bonBast = False\n",
    "    if lastMove!=1 and checkUp(arr[x, y]) and checkDown(arr[x+1, y]): # move down\n",
    "        if move(x+1, y, n+1, 2):\n",
    "            bonBast = False\n",
    "    if lastMove!=4 and checkRight(arr[x, y]) and checkLeft(arr[x, y-1]): # move left\n",
    "        if move(x, y-1, n+1, 3):\n",
    "            bonBast = False\n",
    "    if lastMove!=3 and checkLeft(arr[x, y]) and checkRight(arr[x, y+1]): # move right\n",
    "        if move(x, y+1, n+1, 4):\n",
    "            bonBast = False\n",
    "    if bonBast:\n",
    "        TABLE[x, y] = -1\n",
    "    return not bonBast\n",
    "\n",
    "arr = np.array([*map(list, s)])\n",
    "TABLE = np.full(arr.shape, arr.shape[0]*arr.shape[1], dtype=int)\n",
    "start = np.where(arr == \"S\")\n",
    "move(start[0][0], start[1][0])\n",
    "TABLE[TABLE == TABLE.max()] = 0\n",
    "TABLE.max()-1"
   ]
  },
  {
   "cell_type": "code",
   "execution_count": null,
   "id": "0039a39d",
   "metadata": {},
   "outputs": [],
   "source": []
  },
  {
   "cell_type": "markdown",
   "id": "abb41668",
   "metadata": {},
   "source": [
    "### part 2"
   ]
  },
  {
   "cell_type": "code",
   "execution_count": 50,
   "id": "0224d24c",
   "metadata": {},
   "outputs": [],
   "source": [
    "s = \"\"\"\n",
    "...........\n",
    ".S-------7.\n",
    ".|F-----7|.\n",
    ".||.....||.\n",
    ".||.....||.\n",
    ".|L-7.F-J|.\n",
    ".|..|.|..|.\n",
    ".L--J.L--J.\n",
    "...........\n",
    "\"\"\".strip().splitlines()\n",
    "\n",
    "s = list(map(lambda x:f\".{x}.\", s))\n",
    "s.insert(0, \".\"*len(s[0]))\n",
    "s.append( \".\"*len(s[0]))\n",
    "X, Y = len(s), len(s[0])"
   ]
  },
  {
   "cell_type": "code",
   "execution_count": 51,
   "id": "529c0a63",
   "metadata": {},
   "outputs": [
    {
     "name": "stdout",
     "output_type": "stream",
     "text": [
      "CPU times: total: 0 ns\n",
      "Wall time: 7.19 ms\n"
     ]
    },
    {
     "data": {
      "text/plain": [
       "4"
      ]
     },
     "execution_count": 51,
     "metadata": {},
     "output_type": "execute_result"
    }
   ],
   "source": [
    "%%time\n",
    "from itertools import product\n",
    "import sys\n",
    "sys.setrecursionlimit(30_000)\n",
    "\n",
    "import numpy as np\n",
    "\n",
    "checkUp = lambda x:x in {\"|\", \"F\", \"7\", \"S\"}\n",
    "checkDown = lambda x:x in {\"|\", \"L\", \"J\", \"S\"}\n",
    "checkLeft = lambda x:x in {\"-\", \"F\", \"L\", \"S\"}\n",
    "checkRight = lambda x:x in {\"-\", \"7\", \"J\", \"S\"}\n",
    "\n",
    "def move(x, y, n=2, lastMove=0):\n",
    "    if lastMove and arr[x, y]==\"S\":\n",
    "        return 1 # [X] return to start\n",
    "    if TABLE[x, y] < n:\n",
    "        return 1 # [X] seen before\n",
    "    TABLE[x, y] = n\n",
    "    bonBast = True\n",
    "    if lastMove!=2 and checkDown(arr[x, y]) and checkUp(arr[x-1, y]):  # move up\n",
    "        if move(x-1, y, n+1, 1):\n",
    "            bonBast = False\n",
    "    if lastMove!=1 and checkUp(arr[x, y]) and checkDown(arr[x+1, y]): # move down\n",
    "        if move(x+1, y, n+1, 2):\n",
    "            bonBast = False\n",
    "    if lastMove!=4 and checkRight(arr[x, y]) and checkLeft(arr[x, y-1]): # move left\n",
    "        if move(x, y-1, n+1, 3):\n",
    "            bonBast = False\n",
    "    if lastMove!=3 and checkLeft(arr[x, y]) and checkRight(arr[x, y+1]): # move right\n",
    "        if move(x, y+1, n+1, 4):\n",
    "            bonBast = False\n",
    "    if bonBast:\n",
    "        TABLE[x, y] = -1\n",
    "    return not bonBast\n",
    "\n",
    "arr = np.array([*map(list, s)])\n",
    "TABLE = np.full(arr.shape, X*Y+2, dtype=int)\n",
    "(x,), (y,) = np.where(arr == \"S\")\n",
    "move(x, y)\n",
    "TABLE[TABLE == TABLE.max()] = 0\n",
    "\n",
    "\n",
    "if TABLE[x, y-1]>0:\n",
    "    if TABLE[x, y+1]>0:\n",
    "        arr[x,y] = '|'\n",
    "    elif TABLE[x+1, y]>0:\n",
    "        arr[x,y] = 'L'\n",
    "    else:\n",
    "        arr[x,y] = 'J'\n",
    "elif TABLE[x, y+1]>0:\n",
    "    if TABLE[x+1, y]>0:\n",
    "        arr[x,y] = 'F'\n",
    "    else:\n",
    "        arr[x,y] = '7'\n",
    "else:\n",
    "    arr[x,y] = '-'\n",
    "\n",
    "def check(lst):\n",
    "    unique, counts = np.unique(lst, return_counts=True)\n",
    "    d = dict(zip(unique, counts))\n",
    "    return (d.get('|',0) + (2*d.get('L',0) + 2*d.get('J',0) - d.get('F',0) - d.get('7',0))%2)%2 \n",
    "\n",
    "for x,y in product(*map(range, arr.shape)):\n",
    "    if TABLE[x,y]<=0:\n",
    "        arr[x,y]='.'\n",
    "\n",
    "sum([check(arr[x,:y+1]) for x,y in product(*map(range, arr.shape)) if arr[x,y]=='.'])"
   ]
  },
  {
   "cell_type": "code",
   "execution_count": null,
   "id": "493d18f9",
   "metadata": {},
   "outputs": [],
   "source": []
  },
  {
   "cell_type": "code",
   "execution_count": null,
   "id": "7249346b",
   "metadata": {},
   "outputs": [],
   "source": []
  },
  {
   "cell_type": "markdown",
   "id": "9d58d684",
   "metadata": {},
   "source": [
    "## Day 11: Cosmic Expansion"
   ]
  },
  {
   "cell_type": "markdown",
   "id": "267c354d",
   "metadata": {},
   "source": [
    "### part 1"
   ]
  },
  {
   "cell_type": "code",
   "execution_count": 52,
   "id": "f33d3cef",
   "metadata": {},
   "outputs": [],
   "source": [
    "s = \"\"\"\n",
    "...#......\n",
    ".......#..\n",
    "#.........\n",
    "..........\n",
    "......#...\n",
    ".#........\n",
    ".........#\n",
    "..........\n",
    ".......#..\n",
    "#...#.....\n",
    "\"\"\".strip().splitlines()\n",
    "X, Y = len(s), len(s[0])"
   ]
  },
  {
   "cell_type": "code",
   "execution_count": 53,
   "id": "fb3038fb",
   "metadata": {},
   "outputs": [
    {
     "name": "stdout",
     "output_type": "stream",
     "text": [
      "CPU times: total: 0 ns\n",
      "Wall time: 20.7 ms\n"
     ]
    },
    {
     "data": {
      "text/plain": [
       "374"
      ]
     },
     "execution_count": 53,
     "metadata": {},
     "output_type": "execute_result"
    }
   ],
   "source": [
    "%%time\n",
    "import numpy as np\n",
    "from itertools import combinations\n",
    "\n",
    "def distance(a, b):\n",
    "    x1, y1 = d[a]\n",
    "    x2, y2 = d[b]\n",
    "    return abs(x1-x2) + abs(y1-y2)\n",
    "\n",
    "arr = np.array([*map(list, s)])\n",
    "\n",
    "for x in sorted([i for i in range(X) if all(map(lambda x:x=='.', arr[i,]))], reverse=True):\n",
    "    arr = np.insert(arr, x, np.array([\".\"]*arr.shape[1]), 0)\n",
    "\n",
    "for y in sorted([j for j in range(Y) if all(map(lambda x:x=='.', arr[:,j]))], reverse=True):\n",
    "    arr = np.insert(arr, y, np.array([\".\"]*arr.shape[0]), 1)\n",
    "\n",
    "d = {cnt:pos for cnt, pos in enumerate(zip(*np.where(arr == \"#\")))}\n",
    "sum([distance(i,j) for i, j in combinations(range(len(d)), 2)])"
   ]
  },
  {
   "cell_type": "code",
   "execution_count": null,
   "id": "66a01804",
   "metadata": {},
   "outputs": [],
   "source": []
  },
  {
   "cell_type": "markdown",
   "id": "f5221259",
   "metadata": {},
   "source": [
    "### part 2"
   ]
  },
  {
   "cell_type": "code",
   "execution_count": 54,
   "id": "a294d470",
   "metadata": {},
   "outputs": [],
   "source": [
    "s = \"\"\"\n",
    "...#......\n",
    ".......#..\n",
    "#.........\n",
    "..........\n",
    "......#...\n",
    ".#........\n",
    ".........#\n",
    "..........\n",
    ".......#..\n",
    "#...#.....\n",
    "\"\"\".strip().splitlines()\n",
    "X, Y = len(s), len(s[0])"
   ]
  },
  {
   "cell_type": "code",
   "execution_count": 55,
   "id": "730c895c",
   "metadata": {},
   "outputs": [
    {
     "name": "stdout",
     "output_type": "stream",
     "text": [
      "CPU times: total: 0 ns\n",
      "Wall time: 15.8 ms\n"
     ]
    },
    {
     "data": {
      "text/plain": [
       "8410"
      ]
     },
     "execution_count": 55,
     "metadata": {},
     "output_type": "execute_result"
    }
   ],
   "source": [
    "%%time\n",
    "import numpy as np\n",
    "from itertools import combinations\n",
    "\n",
    "def distance(a, b):\n",
    "    x1, y1 = d[a]\n",
    "    x2, y2 = d[b]\n",
    "    if x2<x1: x1,x2 = x2,x1\n",
    "    if y2<y1: y1,y2 = y2,y1\n",
    "    return sum(DISTANCE[x1, y1:y2+1]) + sum(DISTANCE[x1:x2+1, y2]) - 2\n",
    "\n",
    "arr = np.array([*map(list, s)])\n",
    "DISTANCE = np.full(arr.shape, 1, dtype='int64')\n",
    "Xs = [i for i in range(X) if all(map(lambda x:x=='.', arr[i,]))]\n",
    "Ys = [j for j in range(Y) if all(map(lambda x:x=='.', arr[:,j]))]\n",
    "\n",
    "DISTANCE[Xs] = DISTANCE[:,Ys] = 100\n",
    "\n",
    "d = {cnt:pos for cnt, pos in enumerate(zip(*np.where(arr == \"#\")))}\n",
    "sum([distance(i,j) for i, j in combinations(range(len(d)), 2)])"
   ]
  },
  {
   "cell_type": "code",
   "execution_count": null,
   "id": "91d4a589",
   "metadata": {},
   "outputs": [],
   "source": []
  },
  {
   "cell_type": "code",
   "execution_count": null,
   "id": "95521f98",
   "metadata": {},
   "outputs": [],
   "source": []
  },
  {
   "cell_type": "markdown",
   "id": "078017ea",
   "metadata": {},
   "source": [
    "## Day 12: Hot Springs"
   ]
  },
  {
   "cell_type": "markdown",
   "id": "4d2dccad",
   "metadata": {},
   "source": [
    "### part 1"
   ]
  },
  {
   "cell_type": "code",
   "execution_count": 56,
   "id": "cce74b94",
   "metadata": {},
   "outputs": [],
   "source": [
    "s = \"\"\"\n",
    "???.### 1,1,3\n",
    ".??..??...?##. 1,1,3\n",
    "?#?#?#?#?#?#?#? 1,3,1,6\n",
    "????.#...#... 4,1,1\n",
    "????.######..#####. 1,6,5\n",
    "?###???????? 3,2,1\n",
    "\"\"\".strip().splitlines()"
   ]
  },
  {
   "cell_type": "code",
   "execution_count": 57,
   "id": "4f3540c4",
   "metadata": {},
   "outputs": [
    {
     "name": "stdout",
     "output_type": "stream",
     "text": [
      "CPU times: total: 0 ns\n",
      "Wall time: 2.24 ms\n"
     ]
    },
    {
     "data": {
      "text/plain": [
       "21"
      ]
     },
     "execution_count": 57,
     "metadata": {},
     "output_type": "execute_result"
    }
   ],
   "source": [
    "%%time\n",
    "def check(string, nums):\n",
    "    string = ''.join(string).replace('.', ' ').split()\n",
    "    return len(string)==len(nums) and all([i==j for i, j in zip(map(len,string), nums)])\n",
    "\n",
    "def rev(string, nums, i=0):\n",
    "    if i==len(string):\n",
    "        if check(string, nums):\n",
    "            #print(''.join(string))\n",
    "            global cnt\n",
    "            cnt += 1\n",
    "        return\n",
    "    if string[i]==\"?\":\n",
    "        string[i] = \".\"\n",
    "        rev(string, nums, i+1)\n",
    "        string[i] = \"#\"\n",
    "        rev(string, nums, i+1)\n",
    "        string[i] = \"?\"\n",
    "    else:\n",
    "        rev(string, nums, i+1)\n",
    "\n",
    "cnt = 0\n",
    "for m in s:\n",
    "    a, b = m.split()\n",
    "    b = [*map(int, b.split(','))]\n",
    "    rev(list(a), b)\n",
    "cnt"
   ]
  },
  {
   "cell_type": "code",
   "execution_count": null,
   "id": "78e9aa3c",
   "metadata": {},
   "outputs": [],
   "source": []
  },
  {
   "cell_type": "markdown",
   "id": "38eb2297",
   "metadata": {},
   "source": [
    "### part 2"
   ]
  },
  {
   "cell_type": "code",
   "execution_count": null,
   "id": "cc80c107",
   "metadata": {},
   "outputs": [],
   "source": []
  },
  {
   "cell_type": "code",
   "execution_count": null,
   "id": "f54d22c7",
   "metadata": {},
   "outputs": [],
   "source": []
  },
  {
   "cell_type": "code",
   "execution_count": null,
   "id": "1d65b1e8",
   "metadata": {},
   "outputs": [],
   "source": []
  },
  {
   "cell_type": "markdown",
   "id": "6c5e8847",
   "metadata": {},
   "source": [
    "## Day 13: Point of Incidence"
   ]
  },
  {
   "cell_type": "markdown",
   "id": "bd8ffdec",
   "metadata": {},
   "source": [
    "### part 1"
   ]
  },
  {
   "cell_type": "code",
   "execution_count": 58,
   "id": "11433ffb",
   "metadata": {},
   "outputs": [],
   "source": [
    "s = \"\"\"\n",
    "#.##..##.\n",
    "..#.##.#.\n",
    "##......#\n",
    "##......#\n",
    "..#.##.#.\n",
    "..##..##.\n",
    "#.#.##.#.\n",
    "\n",
    "#...##..#\n",
    "#....#..#\n",
    "..##..###\n",
    "#####.##.\n",
    "#####.##.\n",
    "..##..###\n",
    "#....#..#\n",
    "\"\"\".strip().split(\"\\n\\n\")"
   ]
  },
  {
   "cell_type": "code",
   "execution_count": 59,
   "id": "046b1da7",
   "metadata": {},
   "outputs": [
    {
     "name": "stdout",
     "output_type": "stream",
     "text": [
      "405\n",
      "CPU times: total: 15.6 ms\n",
      "Wall time: 3.81 ms\n"
     ]
    }
   ],
   "source": [
    "%%time\n",
    "import numpy as np\n",
    "\n",
    "def vertical(arr, y):\n",
    "    for j in range(1, y):\n",
    "        diff = min(j, y-j)\n",
    "        a, b = arr[:, j-diff:j], arr[ :, j:j+diff]\n",
    "        if np.all(a == b[:,::-1]):\n",
    "            return j\n",
    "    return 0\n",
    "\n",
    "def horizontal(arr, x):\n",
    "    for i in range(1, x):\n",
    "        diff = min(i, x-i)\n",
    "        a, b = arr[i-diff:i, :], arr[i:i+diff, :]\n",
    "        if np.all(a == b[::-1,:]):\n",
    "            return i*100\n",
    "    return 0\n",
    "\n",
    "res = 0\n",
    "for pattern in s:\n",
    "    arr = np.array([*map(list, pattern.split())])\n",
    "    x, y = arr.shape\n",
    "    res += horizontal(arr,x) + vertical(arr, y)\n",
    "print(res)"
   ]
  },
  {
   "cell_type": "code",
   "execution_count": null,
   "id": "5fc386d8",
   "metadata": {},
   "outputs": [],
   "source": []
  },
  {
   "cell_type": "markdown",
   "id": "49f92a24",
   "metadata": {},
   "source": [
    "### part 2"
   ]
  },
  {
   "cell_type": "code",
   "execution_count": 60,
   "id": "228811ad",
   "metadata": {},
   "outputs": [],
   "source": [
    "s = \"\"\"\n",
    "#.##..##.\n",
    "..#.##.#.\n",
    "##......#\n",
    "##......#\n",
    "..#.##.#.\n",
    "..##..##.\n",
    "#.#.##.#.\n",
    "\n",
    "#...##..#\n",
    "#....#..#\n",
    "..##..###\n",
    "#####.##.\n",
    "#####.##.\n",
    "..##..###\n",
    "#....#..#\n",
    "\"\"\".strip().split(\"\\n\\n\")"
   ]
  },
  {
   "cell_type": "code",
   "execution_count": 61,
   "id": "227dbd99",
   "metadata": {},
   "outputs": [
    {
     "name": "stdout",
     "output_type": "stream",
     "text": [
      "400\n",
      "CPU times: total: 0 ns\n",
      "Wall time: 18.1 ms\n"
     ]
    }
   ],
   "source": [
    "%%time\n",
    "import numpy as np\n",
    "\n",
    "def vertical(arr, y):\n",
    "    for j in range(1, y):\n",
    "        diff = min(j, y-j)\n",
    "        a, b = arr[:, j-diff:j], arr[ :, j:j+diff]\n",
    "        if np.sum(a != b[:,::-1])==1:\n",
    "            return j\n",
    "    return 0\n",
    "\n",
    "def horizontal(arr, x):\n",
    "    for i in range(1, x):\n",
    "        diff = min(i, x-i)\n",
    "        a, b = arr[i-diff:i, :], arr[i:i+diff, :]\n",
    "        if np.sum(a != b[::-1,:])==1:\n",
    "            return i*100\n",
    "    return 0\n",
    "\n",
    "res = 0\n",
    "for pattern in s:\n",
    "    arr = np.array([*map(list, pattern.split())])\n",
    "    x, y = arr.shape\n",
    "    res += horizontal(arr,x) + vertical(arr, y)\n",
    "print(res)"
   ]
  },
  {
   "cell_type": "code",
   "execution_count": null,
   "id": "7bf70d48",
   "metadata": {},
   "outputs": [],
   "source": []
  },
  {
   "cell_type": "code",
   "execution_count": null,
   "id": "5a4eea24",
   "metadata": {},
   "outputs": [],
   "source": []
  },
  {
   "cell_type": "code",
   "execution_count": null,
   "id": "3ef0e7b3",
   "metadata": {},
   "outputs": [],
   "source": []
  },
  {
   "cell_type": "code",
   "execution_count": null,
   "id": "5d87f02a",
   "metadata": {},
   "outputs": [],
   "source": []
  },
  {
   "cell_type": "code",
   "execution_count": null,
   "id": "ae062699",
   "metadata": {},
   "outputs": [],
   "source": []
  },
  {
   "cell_type": "code",
   "execution_count": null,
   "id": "5b602c56",
   "metadata": {},
   "outputs": [],
   "source": []
  },
  {
   "cell_type": "code",
   "execution_count": null,
   "id": "fdaf495d",
   "metadata": {},
   "outputs": [],
   "source": []
  },
  {
   "cell_type": "code",
   "execution_count": null,
   "id": "19e4452f",
   "metadata": {},
   "outputs": [],
   "source": []
  },
  {
   "cell_type": "code",
   "execution_count": null,
   "id": "89f39d28",
   "metadata": {},
   "outputs": [],
   "source": []
  },
  {
   "cell_type": "code",
   "execution_count": null,
   "id": "8c745133",
   "metadata": {},
   "outputs": [],
   "source": []
  },
  {
   "cell_type": "code",
   "execution_count": null,
   "id": "76d34964",
   "metadata": {},
   "outputs": [],
   "source": []
  },
  {
   "cell_type": "code",
   "execution_count": null,
   "id": "272d04f3",
   "metadata": {},
   "outputs": [],
   "source": []
  },
  {
   "cell_type": "code",
   "execution_count": null,
   "id": "65834a62",
   "metadata": {},
   "outputs": [],
   "source": []
  },
  {
   "cell_type": "code",
   "execution_count": null,
   "id": "6b859d5a",
   "metadata": {},
   "outputs": [],
   "source": []
  },
  {
   "cell_type": "code",
   "execution_count": null,
   "id": "e6a693ef",
   "metadata": {},
   "outputs": [],
   "source": []
  },
  {
   "cell_type": "code",
   "execution_count": null,
   "id": "efe5b819",
   "metadata": {},
   "outputs": [],
   "source": []
  },
  {
   "cell_type": "code",
   "execution_count": null,
   "id": "e87abad5",
   "metadata": {},
   "outputs": [],
   "source": []
  },
  {
   "cell_type": "code",
   "execution_count": null,
   "id": "018edb4c",
   "metadata": {},
   "outputs": [],
   "source": []
  },
  {
   "cell_type": "code",
   "execution_count": null,
   "id": "a78a3aa4",
   "metadata": {},
   "outputs": [],
   "source": []
  },
  {
   "cell_type": "code",
   "execution_count": null,
   "id": "582c3bd3",
   "metadata": {},
   "outputs": [],
   "source": []
  },
  {
   "cell_type": "code",
   "execution_count": null,
   "id": "8a7e39c3",
   "metadata": {},
   "outputs": [],
   "source": []
  }
 ],
 "metadata": {
  "kernelspec": {
   "display_name": "Python 3 (ipykernel)",
   "language": "python",
   "name": "python3"
  },
  "language_info": {
   "codemirror_mode": {
    "name": "ipython",
    "version": 3
   },
   "file_extension": ".py",
   "mimetype": "text/x-python",
   "name": "python",
   "nbconvert_exporter": "python",
   "pygments_lexer": "ipython3",
   "version": "3.11.3"
  }
 },
 "nbformat": 4,
 "nbformat_minor": 5
}
