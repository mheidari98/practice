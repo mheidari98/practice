{
 "cells": [
  {
   "cell_type": "markdown",
   "id": "733263da",
   "metadata": {},
   "source": [
    "# [Advent of Code 2024](https://adventofcode.com/2024)"
   ]
  },
  {
   "cell_type": "markdown",
   "id": "143a854e",
   "metadata": {},
   "source": [
    "## Table of contents\n",
    "- [Day 1: Historian Hysteria](#Day-1:-Historian-Hysteria)"
   ]
  },
  {
   "cell_type": "markdown",
   "id": "a19970b2",
   "metadata": {},
   "source": [
    "## [Day 1: Historian Hysteria](https://adventofcode.com/2024/day/1)"
   ]
  },
  {
   "cell_type": "markdown",
   "id": "8b1b659b",
   "metadata": {},
   "source": [
    "### part1"
   ]
  },
  {
   "cell_type": "code",
   "execution_count": 1,
   "id": "e4401776",
   "metadata": {},
   "outputs": [],
   "source": [
    "s = \"\"\"\n",
    "3   4\n",
    "4   3\n",
    "2   5\n",
    "1   3\n",
    "3   9\n",
    "3   3\n",
    "\"\"\".strip()"
   ]
  },
  {
   "cell_type": "code",
   "execution_count": 2,
   "id": "96541eeb",
   "metadata": {},
   "outputs": [
    {
     "data": {
      "text/plain": [
       "11"
      ]
     },
     "execution_count": 2,
     "metadata": {},
     "output_type": "execute_result"
    }
   ],
   "source": [
    "a,b = [*zip(*[list(map(int, line.split())) for line in s.splitlines()])]\n",
    "sum(abs(i-j) for i,j in zip(sorted(a), sorted(b)))"
   ]
  },
  {
   "cell_type": "markdown",
   "id": "87a0c36b",
   "metadata": {},
   "source": [
    "### part2"
   ]
  },
  {
   "cell_type": "code",
   "execution_count": 3,
   "id": "514e1655",
   "metadata": {},
   "outputs": [
    {
     "data": {
      "text/plain": [
       "31"
      ]
     },
     "execution_count": 3,
     "metadata": {},
     "output_type": "execute_result"
    }
   ],
   "source": [
    "a,b = zip(*map(str.split , s.splitlines()))\n",
    "sum(int(i)*b.count(i) for i in a)"
   ]
  },
  {
   "cell_type": "code",
   "execution_count": null,
   "id": "710c0e79",
   "metadata": {},
   "outputs": [],
   "source": []
  },
  {
   "cell_type": "code",
   "execution_count": null,
   "id": "a68ddfc6",
   "metadata": {},
   "outputs": [],
   "source": []
  },
  {
   "cell_type": "code",
   "execution_count": null,
   "id": "ecb2746e",
   "metadata": {},
   "outputs": [],
   "source": []
  },
  {
   "cell_type": "code",
   "execution_count": null,
   "id": "651cfb39",
   "metadata": {},
   "outputs": [],
   "source": []
  },
  {
   "cell_type": "code",
   "execution_count": null,
   "id": "44f041d5",
   "metadata": {},
   "outputs": [],
   "source": []
  },
  {
   "cell_type": "code",
   "execution_count": null,
   "id": "60994f2e",
   "metadata": {},
   "outputs": [],
   "source": []
  },
  {
   "cell_type": "code",
   "execution_count": null,
   "id": "1be98e34",
   "metadata": {},
   "outputs": [],
   "source": []
  }
 ],
 "metadata": {
  "kernelspec": {
   "display_name": "Python 3 (ipykernel)",
   "language": "python",
   "name": "python3"
  },
  "language_info": {
   "codemirror_mode": {
    "name": "ipython",
    "version": 3
   },
   "file_extension": ".py",
   "mimetype": "text/x-python",
   "name": "python",
   "nbconvert_exporter": "python",
   "pygments_lexer": "ipython3",
   "version": "3.12.5"
  }
 },
 "nbformat": 4,
 "nbformat_minor": 5
}
