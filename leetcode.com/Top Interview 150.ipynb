{
 "cells": [
  {
   "cell_type": "markdown",
   "id": "b32051ba",
   "metadata": {},
   "source": [
    "# [Top Interview 150](https://leetcode.com/studyplan/top-interview-150/)"
   ]
  },
  {
   "cell_type": "code",
   "execution_count": 1,
   "id": "e54f9f77",
   "metadata": {},
   "outputs": [],
   "source": [
    "from typing import List"
   ]
  },
  {
   "cell_type": "markdown",
   "id": "ab3de1cc",
   "metadata": {},
   "source": [
    "## Array / String"
   ]
  },
  {
   "cell_type": "markdown",
   "id": "7930c09d",
   "metadata": {},
   "source": [
    "### [88. Merge Sorted Array](https://leetcode.com/problems/merge-sorted-array/) - Easy"
   ]
  },
  {
   "cell_type": "code",
   "execution_count": 2,
   "id": "be460fe1",
   "metadata": {},
   "outputs": [
    {
     "data": {
      "text/plain": [
       "[1, 2, 2, 3, 5, 6]"
      ]
     },
     "execution_count": 2,
     "metadata": {},
     "output_type": "execute_result"
    }
   ],
   "source": [
    "class Solution:\n",
    "    def merge(self, nums1: List[int], m: int, nums2: List[int], n: int) -> None:\n",
    "        \"\"\"\n",
    "        Do not return anything, modify nums1 in-place instead.\n",
    "        \"\"\"\n",
    "        i, j, k = 0, 0, 0\n",
    "        while k<(m+n):\n",
    "            if j<n and (i>=m or nums2[j]<nums1[i]):\n",
    "                nums1.append( nums2[j] )\n",
    "                j+=1\n",
    "            else:\n",
    "                nums1.append( nums1[i] )\n",
    "                i+=1\n",
    "            k+=1\n",
    "        for _ in range(m+n):\n",
    "            nums1.pop(0)\n",
    "\n",
    "num1 = [1,2,3,0,0,0]\n",
    "num2 = [2,5,6]\n",
    "Solution().merge(num1, 3, num2, 3)\n",
    "num1"
   ]
  },
  {
   "cell_type": "code",
   "execution_count": null,
   "id": "cb0703b7",
   "metadata": {},
   "outputs": [],
   "source": []
  },
  {
   "cell_type": "markdown",
   "id": "d984a177",
   "metadata": {},
   "source": [
    "### [27. Remove Element](https://leetcode.com/problems/remove-element/) - Easy"
   ]
  },
  {
   "cell_type": "code",
   "execution_count": 3,
   "id": "fccaddde",
   "metadata": {},
   "outputs": [
    {
     "data": {
      "text/plain": [
       "(5, [0, 1, 3, 0, 4])"
      ]
     },
     "execution_count": 3,
     "metadata": {},
     "output_type": "execute_result"
    }
   ],
   "source": [
    "class Solution:\n",
    "    def removeElement(self, nums: List[int], val: int) -> int:\n",
    "        i = 0\n",
    "        length = len(nums)\n",
    "        for _ in range(length):\n",
    "            if nums[i]==val:\n",
    "                nums.pop(i)\n",
    "            else:\n",
    "                i+=1\n",
    "        return len(nums)\n",
    "    \n",
    "    def removeElement2(self, nums: List[int], val: int) -> int:\n",
    "        i, deleted = 0, 0\n",
    "        length = len(nums)\n",
    "        for j in range(length):\n",
    "            if nums[j]!=val:\n",
    "                nums[i] = nums[j]\n",
    "                i+=1\n",
    "            else:\n",
    "                deleted += 1\n",
    "        return length-deleted\n",
    "\n",
    "nums = [0,1,2,2,3,0,4,2]\n",
    "val = 2\n",
    "Solution().removeElement(nums, val), nums"
   ]
  },
  {
   "cell_type": "code",
   "execution_count": null,
   "id": "c0130e3a",
   "metadata": {},
   "outputs": [],
   "source": []
  },
  {
   "cell_type": "markdown",
   "id": "89a06a29",
   "metadata": {},
   "source": [
    "### [26. Remove Duplicates from Sorted Array](https://leetcode.com/problems/remove-duplicates-from-sorted-array/) - Easy"
   ]
  },
  {
   "cell_type": "code",
   "execution_count": 4,
   "id": "db433326",
   "metadata": {},
   "outputs": [
    {
     "data": {
      "text/plain": [
       "(5, [0, 1, 2, 3, 4, 2, 2, 3, 3, 4])"
      ]
     },
     "execution_count": 4,
     "metadata": {},
     "output_type": "execute_result"
    }
   ],
   "source": [
    "class Solution:\n",
    "    def removeDuplicates(self, nums: List[int]) -> int:\n",
    "        i, length = 1, len(nums)\n",
    "        for j in range(1, length):\n",
    "            if nums[j-1] != nums[j]:\n",
    "                nums[i] = nums[j]\n",
    "                i+=1\n",
    "        return i\n",
    "\n",
    "nums = [0,0,1,1,1,2,2,3,3,4]\n",
    "Solution().removeDuplicates(nums), nums"
   ]
  },
  {
   "cell_type": "code",
   "execution_count": null,
   "id": "5308423f",
   "metadata": {},
   "outputs": [],
   "source": []
  },
  {
   "cell_type": "markdown",
   "id": "8a0ed18d",
   "metadata": {},
   "source": [
    "### [80. Remove Duplicates from Sorted Array II](https://leetcode.com/problems/remove-duplicates-from-sorted-array-ii/) - Medium"
   ]
  },
  {
   "cell_type": "code",
   "execution_count": 5,
   "id": "625e544f",
   "metadata": {},
   "outputs": [],
   "source": [
    "class Solution:\n",
    "    def removeDuplicates(self, nums: List[int]) -> int:\n",
    "        i, cnt, length = 1, 0, len(nums)\n",
    "        for j in range(1, length):\n",
    "            cnt = cnt+1 if nums[j-1] == nums[j] else 0\n",
    "            if cnt<2:\n",
    "                nums[i] = nums[j]\n",
    "                i+=1\n",
    "        return i\n",
    "\n",
    "nums = [0,0,1,1,1,1,2,3,3]\n",
    "n = Solution().removeDuplicates(nums)\n",
    "assert nums[:n] == [0, 0, 1, 1, 2, 3, 3]"
   ]
  },
  {
   "cell_type": "code",
   "execution_count": null,
   "id": "95d0823e",
   "metadata": {},
   "outputs": [],
   "source": []
  },
  {
   "cell_type": "code",
   "execution_count": null,
   "id": "4470cacf",
   "metadata": {},
   "outputs": [],
   "source": []
  },
  {
   "cell_type": "code",
   "execution_count": null,
   "id": "f825b7c3",
   "metadata": {},
   "outputs": [],
   "source": []
  },
  {
   "cell_type": "code",
   "execution_count": null,
   "id": "355a6cff",
   "metadata": {},
   "outputs": [],
   "source": []
  },
  {
   "cell_type": "code",
   "execution_count": null,
   "id": "6b484819",
   "metadata": {},
   "outputs": [],
   "source": []
  },
  {
   "cell_type": "code",
   "execution_count": null,
   "id": "a44deb82",
   "metadata": {},
   "outputs": [],
   "source": []
  },
  {
   "cell_type": "code",
   "execution_count": null,
   "id": "d4ccd556",
   "metadata": {},
   "outputs": [],
   "source": []
  },
  {
   "cell_type": "markdown",
   "id": "25237b9d",
   "metadata": {},
   "source": [
    "## Stack"
   ]
  },
  {
   "cell_type": "markdown",
   "id": "005b1b67",
   "metadata": {},
   "source": [
    "### [20. Valid Parentheses](https://leetcode.com/problems/valid-parentheses/) - Easy"
   ]
  },
  {
   "cell_type": "code",
   "execution_count": 6,
   "id": "2bc59558",
   "metadata": {},
   "outputs": [],
   "source": [
    "d = {')': '(', ']': '[', '}': '{'}\n",
    "\n",
    "class Solution:\n",
    "    def isValid(self, s: str) -> bool:\n",
    "        stack = []\n",
    "        for c in s:\n",
    "            if c in d.values():  # {'(', '[', '{'}\n",
    "                stack.append(c)\n",
    "            elif c in d:         # {')', ']', '}'}\n",
    "                if not stack or stack.pop() != d[c]:\n",
    "                    return False\n",
    "        return not stack\n",
    "\n",
    "assert Solution().isValid(\"()[]{}\") == True\n",
    "assert Solution().isValid(\"(\") == False"
   ]
  },
  {
   "cell_type": "code",
   "execution_count": null,
   "id": "6d0c6abc",
   "metadata": {},
   "outputs": [],
   "source": []
  },
  {
   "cell_type": "code",
   "execution_count": null,
   "id": "bc9dfe75",
   "metadata": {},
   "outputs": [],
   "source": []
  },
  {
   "cell_type": "markdown",
   "id": "38cc78c7",
   "metadata": {},
   "source": [
    "### [71. Simplify Path](https://leetcode.com/problems/simplify-path/) - Medium"
   ]
  },
  {
   "cell_type": "code",
   "execution_count": 7,
   "id": "cde46eb2",
   "metadata": {},
   "outputs": [],
   "source": [
    "class Solution:\n",
    "    def simplifyPath(self, path: str) -> str:\n",
    "        stack = []\n",
    "        for p in path.split('/'):\n",
    "            if stack and p==\"..\":\n",
    "                stack.pop()\n",
    "            elif p not in {'', '.', '..'}:\n",
    "                stack.append(p)\n",
    "        return '/' + '/'.join(stack)\n",
    "\n",
    "assert Solution().simplifyPath(\"/home/\") == \"/home\"\n",
    "assert Solution().simplifyPath(\"/home//foo/\") == \"/home/foo\"\n",
    "assert Solution().simplifyPath(\"/home/user/Documents/../Pictures\") == \"/home/user/Pictures\"\n",
    "assert Solution().simplifyPath(\"/../\") == \"/\"\n",
    "assert Solution().simplifyPath(\"/.../a/../b/c/../d/./\") == \"/.../b/d\""
   ]
  },
  {
   "cell_type": "code",
   "execution_count": null,
   "id": "512db3f5",
   "metadata": {},
   "outputs": [],
   "source": []
  },
  {
   "cell_type": "code",
   "execution_count": null,
   "id": "46dd4fe6",
   "metadata": {},
   "outputs": [],
   "source": []
  },
  {
   "cell_type": "markdown",
   "id": "69b542a4",
   "metadata": {},
   "source": [
    "### [155. Min Stack](https://leetcode.com/problems/min-stack/) - Medium"
   ]
  },
  {
   "cell_type": "code",
   "execution_count": 8,
   "id": "98a9121c",
   "metadata": {},
   "outputs": [],
   "source": [
    "class MinStack:\n",
    "    def __init__(self):\n",
    "        self.stack = []\n",
    "        self.mins = []\n",
    "        \n",
    "    def push(self, val: int) -> None:\n",
    "        self.stack.append(val)\n",
    "        if self.mins:\n",
    "            val = min(val, self.mins[-1])\n",
    "        self.mins.append(val)\n",
    "\n",
    "    def pop(self) -> None:\n",
    "        val = self.stack.pop()\n",
    "        return self.mins.pop()\n",
    "\n",
    "    def top(self) -> int:\n",
    "        return self.stack[-1]\n",
    "\n",
    "    def getMin(self) -> int:\n",
    "        return self.mins[-1]\n",
    "\n",
    "\n",
    "# Your MinStack object will be instantiated and called as such:\n",
    "minStack = MinStack()\n",
    "minStack.push(-2)\n",
    "minStack.push(0)\n",
    "minStack.push(-3)\n",
    "assert minStack.getMin() == -3 # return -3\n",
    "assert minStack.pop() == -3\n",
    "assert minStack.top() == 0    # return 0\n",
    "assert minStack.getMin() == -2 # return -2"
   ]
  },
  {
   "cell_type": "code",
   "execution_count": null,
   "id": "3e63938a",
   "metadata": {},
   "outputs": [],
   "source": []
  },
  {
   "cell_type": "code",
   "execution_count": null,
   "id": "ce34186c",
   "metadata": {},
   "outputs": [],
   "source": []
  },
  {
   "cell_type": "markdown",
   "id": "71e1cfd7",
   "metadata": {},
   "source": [
    "### [150. Evaluate Reverse Polish Notation](https://leetcode.com/problems/evaluate-reverse-polish-notation/) - Medium"
   ]
  },
  {
   "cell_type": "code",
   "execution_count": 9,
   "id": "698365d8",
   "metadata": {},
   "outputs": [],
   "source": [
    "class Solution:\n",
    "    def evalRPN(self, tokens: List[str]) -> int:\n",
    "        stack = []\n",
    "        for token in tokens:\n",
    "            if token in {'+', '-', '*', '/'}:\n",
    "                a, b = stack.pop(), stack.pop()\n",
    "                match token:\n",
    "                    case '+':\n",
    "                        stack.append(b+a)\n",
    "                    case '-':\n",
    "                        stack.append(b-a)\n",
    "                    case '*':\n",
    "                        stack.append(b*a)\n",
    "                    case '/':\n",
    "                        stack.append(int(b/a))\n",
    "            else:\n",
    "                stack.append(int(token))\n",
    "        return stack.pop()\n",
    "\n",
    "assert Solution().evalRPN([\"2\",\"1\",\"+\",\"3\",\"*\"]) == 9\n",
    "assert Solution().evalRPN([\"4\",\"13\",\"5\",\"/\",\"+\"]) == 6\n",
    "assert Solution().evalRPN([\"10\",\"6\",\"9\",\"3\",\"+\",\"-11\",\"*\",\"/\",\"*\",\"17\",\"+\",\"5\",\"+\"]) == 22"
   ]
  },
  {
   "cell_type": "code",
   "execution_count": null,
   "id": "e3fe53ee",
   "metadata": {},
   "outputs": [],
   "source": []
  },
  {
   "cell_type": "code",
   "execution_count": null,
   "id": "8b240261",
   "metadata": {},
   "outputs": [],
   "source": []
  },
  {
   "cell_type": "code",
   "execution_count": null,
   "id": "f49b2841",
   "metadata": {},
   "outputs": [],
   "source": []
  },
  {
   "cell_type": "code",
   "execution_count": null,
   "id": "213be8c7",
   "metadata": {},
   "outputs": [],
   "source": []
  },
  {
   "cell_type": "code",
   "execution_count": null,
   "id": "154e6e7b",
   "metadata": {},
   "outputs": [],
   "source": []
  },
  {
   "cell_type": "code",
   "execution_count": null,
   "id": "ba04a638",
   "metadata": {},
   "outputs": [],
   "source": []
  },
  {
   "cell_type": "code",
   "execution_count": null,
   "id": "9a4260fb",
   "metadata": {},
   "outputs": [],
   "source": []
  }
 ],
 "metadata": {
  "kernelspec": {
   "display_name": "Python 3 (ipykernel)",
   "language": "python",
   "name": "python3"
  },
  "language_info": {
   "codemirror_mode": {
    "name": "ipython",
    "version": 3
   },
   "file_extension": ".py",
   "mimetype": "text/x-python",
   "name": "python",
   "nbconvert_exporter": "python",
   "pygments_lexer": "ipython3",
   "version": "3.12.3"
  }
 },
 "nbformat": 4,
 "nbformat_minor": 5
}
