{
 "cells": [
  {
   "cell_type": "markdown",
   "id": "b32051ba",
   "metadata": {},
   "source": [
    "# [Top Interview 150](https://leetcode.com/studyplan/top-interview-150/)"
   ]
  },
  {
   "cell_type": "code",
   "execution_count": 1,
   "id": "e54f9f77",
   "metadata": {},
   "outputs": [],
   "source": [
    "import array        # https://docs.python.org/3/library/array.html\n",
    "import bisect       # https://docs.python.org/3/library/bisect.html\n",
    "import collections  # https://docs.python.org/3/library/collections.html\n",
    "from typing import List\n",
    "\n",
    "\n",
    "# For Map/TreeMap data structure, you may use sortedcontainers library.\n",
    "# - https://grantjenks.com/docs/sortedcontainers/"
   ]
  },
  {
   "cell_type": "markdown",
   "id": "ab3de1cc",
   "metadata": {},
   "source": [
    "## Array / String"
   ]
  },
  {
   "cell_type": "markdown",
   "id": "7930c09d",
   "metadata": {},
   "source": [
    "### [88. Merge Sorted Array](https://leetcode.com/problems/merge-sorted-array/) - Easy"
   ]
  },
  {
   "cell_type": "code",
   "execution_count": 2,
   "id": "be460fe1",
   "metadata": {},
   "outputs": [
    {
     "data": {
      "text/plain": [
       "[1, 2, 2, 3, 5, 6]"
      ]
     },
     "execution_count": 2,
     "metadata": {},
     "output_type": "execute_result"
    }
   ],
   "source": [
    "class Solution:\n",
    "    def merge(self, nums1: List[int], m: int, nums2: List[int], n: int) -> None:\n",
    "        \"\"\"\n",
    "        Do not return anything, modify nums1 in-place instead.\n",
    "        \"\"\"\n",
    "        i, j, k = 0, 0, 0\n",
    "        while k<(m+n):\n",
    "            if j<n and (i>=m or nums2[j]<nums1[i]):\n",
    "                nums1.append( nums2[j] )\n",
    "                j+=1\n",
    "            else:\n",
    "                nums1.append( nums1[i] )\n",
    "                i+=1\n",
    "            k+=1\n",
    "        for _ in range(m+n):\n",
    "            nums1.pop(0)\n",
    "\n",
    "num1 = [1,2,3,0,0,0]\n",
    "num2 = [2,5,6]\n",
    "Solution().merge(num1, 3, num2, 3)\n",
    "num1"
   ]
  },
  {
   "cell_type": "code",
   "execution_count": null,
   "id": "cb0703b7",
   "metadata": {},
   "outputs": [],
   "source": []
  },
  {
   "cell_type": "markdown",
   "id": "d984a177",
   "metadata": {},
   "source": [
    "### [27. Remove Element](https://leetcode.com/problems/remove-element/) - Easy"
   ]
  },
  {
   "cell_type": "code",
   "execution_count": 3,
   "id": "fccaddde",
   "metadata": {},
   "outputs": [
    {
     "data": {
      "text/plain": [
       "(5, [0, 1, 3, 0, 4])"
      ]
     },
     "execution_count": 3,
     "metadata": {},
     "output_type": "execute_result"
    }
   ],
   "source": [
    "class Solution:\n",
    "    def removeElement(self, nums: List[int], val: int) -> int:\n",
    "        i = 0\n",
    "        length = len(nums)\n",
    "        for _ in range(length):\n",
    "            if nums[i]==val:\n",
    "                nums.pop(i)\n",
    "            else:\n",
    "                i+=1\n",
    "        return len(nums)\n",
    "    \n",
    "    def removeElement2(self, nums: List[int], val: int) -> int:\n",
    "        i, deleted = 0, 0\n",
    "        length = len(nums)\n",
    "        for j in range(length):\n",
    "            if nums[j]!=val:\n",
    "                nums[i] = nums[j]\n",
    "                i+=1\n",
    "            else:\n",
    "                deleted += 1\n",
    "        return length-deleted\n",
    "\n",
    "nums = [0,1,2,2,3,0,4,2]\n",
    "val = 2\n",
    "Solution().removeElement(nums, val), nums"
   ]
  },
  {
   "cell_type": "code",
   "execution_count": null,
   "id": "c0130e3a",
   "metadata": {},
   "outputs": [],
   "source": []
  },
  {
   "cell_type": "markdown",
   "id": "89a06a29",
   "metadata": {},
   "source": [
    "### [26. Remove Duplicates from Sorted Array](https://leetcode.com/problems/remove-duplicates-from-sorted-array/) - Easy"
   ]
  },
  {
   "cell_type": "code",
   "execution_count": 4,
   "id": "db433326",
   "metadata": {},
   "outputs": [
    {
     "data": {
      "text/plain": [
       "(5, [0, 1, 2, 3, 4, 2, 2, 3, 3, 4])"
      ]
     },
     "execution_count": 4,
     "metadata": {},
     "output_type": "execute_result"
    }
   ],
   "source": [
    "class Solution:\n",
    "    def removeDuplicates(self, nums: List[int]) -> int:\n",
    "        i, length = 1, len(nums)\n",
    "        for j in range(1, length):\n",
    "            if nums[j-1] != nums[j]:\n",
    "                nums[i] = nums[j]\n",
    "                i+=1\n",
    "        return i\n",
    "\n",
    "nums = [0,0,1,1,1,2,2,3,3,4]\n",
    "Solution().removeDuplicates(nums), nums"
   ]
  },
  {
   "cell_type": "code",
   "execution_count": null,
   "id": "5308423f",
   "metadata": {},
   "outputs": [],
   "source": []
  },
  {
   "cell_type": "markdown",
   "id": "8a0ed18d",
   "metadata": {},
   "source": [
    "### [80. Remove Duplicates from Sorted Array II](https://leetcode.com/problems/remove-duplicates-from-sorted-array-ii/) - Medium"
   ]
  },
  {
   "cell_type": "code",
   "execution_count": 5,
   "id": "625e544f",
   "metadata": {},
   "outputs": [],
   "source": [
    "class Solution:\n",
    "    def removeDuplicates(self, nums: List[int]) -> int:\n",
    "        i, cnt, length = 1, 0, len(nums)\n",
    "        for j in range(1, length):\n",
    "            cnt = cnt+1 if nums[j-1] == nums[j] else 0\n",
    "            if cnt<2:\n",
    "                nums[i] = nums[j]\n",
    "                i+=1\n",
    "        return i\n",
    "\n",
    "nums = [0,0,1,1,1,1,2,3,3]\n",
    "n = Solution().removeDuplicates(nums)\n",
    "assert nums[:n] == [0, 0, 1, 1, 2, 3, 3]"
   ]
  },
  {
   "cell_type": "code",
   "execution_count": null,
   "id": "95d0823e",
   "metadata": {},
   "outputs": [],
   "source": []
  },
  {
   "cell_type": "markdown",
   "id": "e627f932",
   "metadata": {},
   "source": [
    "### [169. Majority Element](https://leetcode.com/problems/majority-element/) - Easy"
   ]
  },
  {
   "cell_type": "code",
   "execution_count": 6,
   "id": "f825b7c3",
   "metadata": {},
   "outputs": [],
   "source": [
    "from collections import Counter\n",
    "class Solution:\n",
    "    def majorityElement(self, nums: List[int]) -> int:\n",
    "        return sorted(nums)[len(nums)//2]\n",
    "\n",
    "assert Solution().majorityElement([2,2,1,1,1,2,2]) == 2"
   ]
  },
  {
   "cell_type": "code",
   "execution_count": null,
   "id": "ba14310d",
   "metadata": {},
   "outputs": [],
   "source": []
  },
  {
   "cell_type": "markdown",
   "id": "0552a935",
   "metadata": {},
   "source": [
    "### [189. Rotate Array](https://leetcode.com/problems/rotate-array/description/) - Medium"
   ]
  },
  {
   "cell_type": "code",
   "execution_count": 7,
   "id": "355a6cff",
   "metadata": {},
   "outputs": [],
   "source": [
    "class Solution:\n",
    "    def rotate(self, nums: List[int], k: int) -> None:\n",
    "        \"\"\"\n",
    "        Do not return anything, modify nums in-place instead.\n",
    "        \"\"\"\n",
    "        k %= len(nums)\n",
    "        nums[:] = nums[-k:] + nums[:-k]\n",
    "    \n",
    "    def rotate2(self, nums: List[int], k: int) -> None:\n",
    "        \"\"\"\n",
    "        Do not return anything, modify nums in-place instead.\n",
    "        \"\"\"\n",
    "        k %= len(nums)\n",
    "        for _ in range(k):\n",
    "            nums.insert(0,  nums.pop() )\n",
    "\n",
    "nums = [1,2,3,4,5,6,7]\n",
    "Solution().rotate(nums, 3)\n",
    "assert nums == [5,6,7,1,2,3,4]\n",
    "\n",
    "nums = [1,2]\n",
    "Solution().rotate(nums, 3)\n",
    "assert nums == [2, 1]"
   ]
  },
  {
   "cell_type": "code",
   "execution_count": null,
   "id": "0407e0d0",
   "metadata": {},
   "outputs": [],
   "source": []
  },
  {
   "cell_type": "markdown",
   "id": "8686da03",
   "metadata": {},
   "source": [
    "### [121. Best Time to Buy and Sell Stock](https://leetcode.com/problems/best-time-to-buy-and-sell-stock/) - Easy"
   ]
  },
  {
   "cell_type": "code",
   "execution_count": 8,
   "id": "8e37c2ce",
   "metadata": {},
   "outputs": [],
   "source": [
    "class Solution:\n",
    "    def maxProfit(self, prices: List[int]) -> int:\n",
    "        left, profit = prices[0], 0\n",
    "        for right in prices[1:]:\n",
    "            if (right < left):\n",
    "                left = right\n",
    "            elif right > (profit+left):\n",
    "                profit = right - left\n",
    "        return profit\n",
    "    \n",
    "    def maxProfit2(self, prices: List[int]) -> int:\n",
    "        sell, profit = float(\"Inf\"), 0\n",
    "        for i in range(len(prices)):\n",
    "            profit = max(profit, prices[i]-sell)\n",
    "            sell = min(sell, prices[i])\n",
    "        return profit\n",
    "\n",
    "assert Solution().maxProfit([7,1,5,3,6,4]) == 5\n",
    "assert Solution().maxProfit([7,6,4,3,1])  == 0"
   ]
  },
  {
   "cell_type": "code",
   "execution_count": null,
   "id": "de239822",
   "metadata": {},
   "outputs": [],
   "source": []
  },
  {
   "cell_type": "code",
   "execution_count": null,
   "id": "25ec87f9",
   "metadata": {},
   "outputs": [],
   "source": []
  },
  {
   "cell_type": "markdown",
   "id": "31fca415",
   "metadata": {},
   "source": [
    "## Hashmap"
   ]
  },
  {
   "cell_type": "markdown",
   "id": "6ca3d2ed",
   "metadata": {},
   "source": [
    "### [383. Ransom Note](https://leetcode.com/problems/ransom-note/) - Easy"
   ]
  },
  {
   "cell_type": "code",
   "execution_count": 9,
   "id": "db047d61",
   "metadata": {},
   "outputs": [],
   "source": [
    "class Solution:\n",
    "    def canConstruct(self, ransomNote: str, magazine: str) -> bool:  # 31 ms, 16.7 MB\n",
    "        for i in set(ransomNote):\n",
    "            if magazine.count(i) < ransomNote.count(i):\n",
    "                return False\n",
    "        return True\n",
    "    \n",
    "    def canConstruct1(self, ransomNote: str, magazine: str) -> bool:  # 35 ms, 16.6 MB\n",
    "        for i in ransomNote:\n",
    "            if i in magazine:\n",
    "                magazine = magazine.replace(i,\"\",1)\n",
    "            else: return False\n",
    "        return True\n",
    "    \n",
    "    def canConstruct2(self, ransomNote: str, magazine: str) -> bool:  # 47 ms, 16.8 MB\n",
    "        note, mag = collections.Counter(ransomNote), collections.Counter(magazine)\n",
    "        return note & mag == note\n",
    "    \n",
    "    def canConstruct3(self, ransomNote: str, magazine: str) -> bool:  # 57 ms, 16.6 MB\n",
    "        d = collections.defaultdict(int)\n",
    "        for c in magazine:\n",
    "            d[c] += 1\n",
    "        for c in ransomNote:\n",
    "            if d[c]:\n",
    "                d[c] -= 1\n",
    "            else:\n",
    "                return False\n",
    "        return True\n",
    "\n",
    "assert Solution().canConstruct(\"a\", \"b\") == False\n",
    "assert Solution().canConstruct(\"aa\", \"ab\") == False\n",
    "assert Solution().canConstruct(\"aa\", \"aab\") == True"
   ]
  },
  {
   "cell_type": "code",
   "execution_count": null,
   "id": "95581dae",
   "metadata": {},
   "outputs": [],
   "source": []
  },
  {
   "cell_type": "markdown",
   "id": "cbb73e91",
   "metadata": {},
   "source": [
    "### [205. Isomorphic Strings](https://leetcode.com/problems/isomorphic-strings/) - Easy"
   ]
  },
  {
   "cell_type": "code",
   "execution_count": 10,
   "id": "9c8dbeb1",
   "metadata": {},
   "outputs": [],
   "source": [
    "class Solution:\n",
    "    def isIsomorphic(self, s: str, t: str) -> bool:  # 34 ms, 16.6 MB\n",
    "        return len(set(zip(s, t))) == len(set(s)) == len(set(t))\n",
    "    \n",
    "    def isIsomorphic2(self, s: str, t: str) -> bool:  # 37 ms, 16.6 MB\n",
    "        d = {}\n",
    "        seen = set()\n",
    "        for a, b in zip(s, t):\n",
    "            if a not in d :\n",
    "                if b in seen:\n",
    "                    return False\n",
    "                d[a] = b\n",
    "                seen.add(b)\n",
    "            elif d[a]!=b:\n",
    "                return False\n",
    "        return True\n",
    "\n",
    "assert Solution().isIsomorphic(\"egg\", \"add\") == True\n",
    "assert Solution().isIsomorphic(\"foo\", \"bar\") == False\n",
    "assert Solution().isIsomorphic(\"paper\", \"title\") == True\n",
    "assert Solution().isIsomorphic(\"badc\", \"baba\") == False"
   ]
  },
  {
   "cell_type": "code",
   "execution_count": null,
   "id": "053fbf09",
   "metadata": {},
   "outputs": [],
   "source": []
  },
  {
   "cell_type": "code",
   "execution_count": null,
   "id": "943d96e9",
   "metadata": {},
   "outputs": [],
   "source": []
  },
  {
   "cell_type": "code",
   "execution_count": null,
   "id": "be03e5b5",
   "metadata": {},
   "outputs": [],
   "source": []
  },
  {
   "cell_type": "markdown",
   "id": "c8804f1d",
   "metadata": {},
   "source": [
    "### [290. Word Pattern](https://leetcode.com/problems/word-pattern/) - Easy"
   ]
  },
  {
   "cell_type": "code",
   "execution_count": 11,
   "id": "5d8ed712",
   "metadata": {},
   "outputs": [],
   "source": [
    "class Solution:\n",
    "    def wordPattern(self, pattern: str, s: str) -> bool:   # 28 ms, 16.3 MB\n",
    "        findPattern = lambda lst: [lst.index(i) for i in lst]\n",
    "        return findPattern(list(pattern)) == findPattern(s.split()) \n",
    "    \n",
    "    def wordPattern1(self, pattern: str, s: str) -> bool:  # 33 ms, 16.5 MB\n",
    "        text = s.split()\n",
    "        return [*map(pattern.index, pattern)] == [*map(text.index, text)]\n",
    "\n",
    "    def wordPattern2(self, pattern: str, s: str) -> bool:  # 37 ms, 16.5 MB\n",
    "        s = s.split()\n",
    "        return len(pattern) == len(s) and len(set(pattern)) == len(set(s)) == len(set(zip(pattern, s)))\n",
    "    \n",
    "    def wordPattern3(self, pattern: str, s: str) -> bool:  # 39 ms, 16.4 MB\n",
    "        s = s.split()\n",
    "        if len(pattern) != len(s):\n",
    "            return False\n",
    "        d = {}\n",
    "        seen = set()\n",
    "        for a, b in zip(pattern, s):\n",
    "            if a not in d :\n",
    "                if b in seen:\n",
    "                    return False\n",
    "                d[a] = b\n",
    "                seen.add(b)\n",
    "            elif d[a]!=b:\n",
    "                return False\n",
    "        return True\n",
    "\n",
    "assert Solution().wordPattern(\"abba\", \"dog cat cat dog\") == True\n",
    "assert Solution().wordPattern(\"abba\", \"dog cat cat fish\") == False\n",
    "assert Solution().wordPattern(\"aaaa\", \"dog cat cat dog\") == False\n",
    "assert Solution().wordPattern(\"aba\", \"cat cat cat dog\") == False"
   ]
  },
  {
   "cell_type": "code",
   "execution_count": null,
   "id": "6be71ea6",
   "metadata": {},
   "outputs": [],
   "source": []
  },
  {
   "cell_type": "markdown",
   "id": "f183ff17",
   "metadata": {},
   "source": [
    "### [242. Valid Anagram](https://leetcode.com/problems/valid-anagram/) - Easy"
   ]
  },
  {
   "cell_type": "code",
   "execution_count": 12,
   "id": "09f21645",
   "metadata": {},
   "outputs": [],
   "source": [
    "class Solution:\n",
    "    def isAnagram(self, s: str, t: str) -> bool:  # 39 ms, 16.9 MB\n",
    "        return collections.Counter(s) == collections.Counter(t)\n",
    "\n",
    "assert Solution().isAnagram(\"anagram\", \"nagaram\") == True\n",
    "assert Solution().isAnagram(\"rat\", \"car\") == False"
   ]
  },
  {
   "cell_type": "code",
   "execution_count": null,
   "id": "c88a0f44",
   "metadata": {},
   "outputs": [],
   "source": []
  },
  {
   "cell_type": "markdown",
   "id": "c9e90a16",
   "metadata": {},
   "source": [
    "### [49. Group Anagrams](https://leetcode.com/problems/group-anagrams/) - Medium"
   ]
  },
  {
   "cell_type": "code",
   "execution_count": 13,
   "id": "3c89489c",
   "metadata": {},
   "outputs": [],
   "source": [
    "class HashableCounter(collections.Counter):\n",
    "    def __hash__(self):\n",
    "        return hash(tuple(sorted(self.items())))\n",
    "\n",
    "class Solution:\n",
    "    def groupAnagrams(self, strs: List[str]) -> List[List[str]]:  # 73 ms, 19.5 MB\n",
    "        d = collections.defaultdict(list)\n",
    "        for word in strs:\n",
    "            d[''.join(sorted(word))].append(word)\n",
    "        return list(d.values())\n",
    "    \n",
    "    def groupAnagrams2(self, strs: List[str]) -> List[List[str]]:  # 123 ms, 21.8 MB\n",
    "        d = collections.defaultdict(list)\n",
    "        for item in strs:\n",
    "            d[HashableCounter(item)].append(item)\n",
    "        return list(d.values())\n",
    "\n",
    "assert Solution().groupAnagrams([\"eat\",\"tea\",\"tan\",\"ate\",\"nat\",\"bat\"]) == [['eat', 'tea', 'ate'], ['tan', 'nat'], ['bat']]\n",
    "assert Solution().groupAnagrams([\"\"]) == [['']]\n",
    "assert Solution().groupAnagrams([\"a\"]) == [['a']]"
   ]
  },
  {
   "cell_type": "code",
   "execution_count": null,
   "id": "570a77d8",
   "metadata": {},
   "outputs": [],
   "source": []
  },
  {
   "cell_type": "markdown",
   "id": "29a2333f",
   "metadata": {},
   "source": [
    "### [1. Two Sum](https://leetcode.com/problems/two-sum/) - Easy"
   ]
  },
  {
   "cell_type": "code",
   "execution_count": 14,
   "id": "d3c872ab",
   "metadata": {},
   "outputs": [],
   "source": [
    "class Solution:\n",
    "    def twoSum(self, nums: List[int], target: int) -> List[int]:  # 50 ms, 17.9 MB\n",
    "        d = {}\n",
    "        for i, v in enumerate(nums):\n",
    "            if v in d:\n",
    "                return [d[v], i]\n",
    "            d[target-v] = i\n",
    "\n",
    "assert Solution().twoSum([2,7,11,15], 9) == [0,1]\n",
    "assert Solution().twoSum([3,2,4], 6) == [1,2]\n",
    "assert Solution().twoSum([3,3], 6) == [0,1]"
   ]
  },
  {
   "cell_type": "code",
   "execution_count": null,
   "id": "2b2a28ba",
   "metadata": {},
   "outputs": [],
   "source": []
  },
  {
   "cell_type": "markdown",
   "id": "12f4ead8",
   "metadata": {},
   "source": [
    "### [202. Happy Number](https://leetcode.com/problems/happy-number/) - Easy"
   ]
  },
  {
   "cell_type": "code",
   "execution_count": 15,
   "id": "0a0d04ec",
   "metadata": {},
   "outputs": [],
   "source": [
    "class Solution:\n",
    "    def isHappy(self, n: int) -> bool:  # 32 ms, 16.3 MB\n",
    "        f = lambda n: sum(map(lambda x: int(x)**2, str(n)))\n",
    "        seen = set()\n",
    "        while n!=1 and n not in seen:\n",
    "            seen.add(n)\n",
    "            n = f(n)\n",
    "        return n==1\n",
    "        \n",
    "    def isHappy2(self, n: int) -> bool:  # 31 ms, 16.4 MB\n",
    "        seen = set()\n",
    "        while n!=1:\n",
    "            if n in seen:\n",
    "                return False\n",
    "            seen.add(n)\n",
    "            res = 0\n",
    "            while n:\n",
    "                res += (n%10)**2\n",
    "                n//=10\n",
    "            n = res\n",
    "        return True\n",
    "\n",
    "assert Solution().isHappy(19) == True\n",
    "assert Solution().isHappy(2) == False\n",
    "assert Solution().isHappy(1111111) == True"
   ]
  },
  {
   "cell_type": "code",
   "execution_count": null,
   "id": "9ff95087",
   "metadata": {},
   "outputs": [],
   "source": []
  },
  {
   "cell_type": "markdown",
   "id": "db16ef03",
   "metadata": {},
   "source": [
    "### [219. Contains Duplicate II](https://leetcode.com/problems/contains-duplicate-ii/) - Easy"
   ]
  },
  {
   "cell_type": "code",
   "execution_count": 16,
   "id": "f5bc6f2c",
   "metadata": {},
   "outputs": [],
   "source": [
    "class Solution:\n",
    "    def containsNearbyDuplicate(self, nums: List[int], k: int) -> bool:  # 441 ms, 29.6 MB\n",
    "        d = {}\n",
    "        for i, num in enumerate(nums):\n",
    "            if num in d and (i-d[num])<=k:\n",
    "                return True\n",
    "            d[num] = i\n",
    "        return False\n",
    "\n",
    "assert Solution().containsNearbyDuplicate([1,2,3,1], 3) == True\n",
    "assert Solution().containsNearbyDuplicate([1,0,1,1], 1) == True\n",
    "assert Solution().containsNearbyDuplicate([1,2,3,1,2,3], 2) == False\n",
    "assert Solution().containsNearbyDuplicate([99,99], 2) == True\n",
    "assert Solution().containsNearbyDuplicate([1,2,3,4,5,6,7,8,9,10], 15) == False"
   ]
  },
  {
   "cell_type": "code",
   "execution_count": null,
   "id": "05502c2b",
   "metadata": {},
   "outputs": [],
   "source": []
  },
  {
   "cell_type": "markdown",
   "id": "b81a47de",
   "metadata": {},
   "source": [
    "### [128. Longest Consecutive Sequence](https://leetcode.com/problems/longest-consecutive-sequence/) - Medium"
   ]
  },
  {
   "cell_type": "code",
   "execution_count": 17,
   "id": "a55226d7",
   "metadata": {},
   "outputs": [],
   "source": [
    "class Solution:\n",
    "    def longestConsecutive(self, nums: List[int]) -> int:  # 329 ms, 31.7 MB\n",
    "        nums = set(nums)\n",
    "        mx = 0\n",
    "        for item in nums:\n",
    "            if (item-1) not in nums:\n",
    "                cnt = 1\n",
    "                while (item+cnt) in nums:\n",
    "                    cnt += 1\n",
    "                if cnt>mx :\n",
    "                    mx = cnt\n",
    "        return mx\n",
    "\n",
    "assert Solution().longestConsecutive([100,4,200,1,3,2]) == 4\n",
    "assert Solution().longestConsecutive([0,3,7,2,5,8,4,6,0,1]) == 9\n",
    "assert Solution().longestConsecutive([]) == 0"
   ]
  },
  {
   "cell_type": "code",
   "execution_count": null,
   "id": "78b89b67",
   "metadata": {},
   "outputs": [],
   "source": []
  },
  {
   "cell_type": "code",
   "execution_count": null,
   "id": "60d9821a",
   "metadata": {},
   "outputs": [],
   "source": []
  },
  {
   "cell_type": "code",
   "execution_count": null,
   "id": "7f99d76f",
   "metadata": {},
   "outputs": [],
   "source": []
  },
  {
   "cell_type": "code",
   "execution_count": null,
   "id": "b32c5c5e",
   "metadata": {},
   "outputs": [],
   "source": []
  },
  {
   "cell_type": "code",
   "execution_count": null,
   "id": "f670cc09",
   "metadata": {},
   "outputs": [],
   "source": []
  },
  {
   "cell_type": "code",
   "execution_count": null,
   "id": "2a2721a2",
   "metadata": {},
   "outputs": [],
   "source": []
  },
  {
   "cell_type": "code",
   "execution_count": null,
   "id": "716bce88",
   "metadata": {},
   "outputs": [],
   "source": []
  },
  {
   "cell_type": "code",
   "execution_count": null,
   "id": "a44deb82",
   "metadata": {},
   "outputs": [],
   "source": []
  },
  {
   "cell_type": "code",
   "execution_count": null,
   "id": "d4ccd556",
   "metadata": {},
   "outputs": [],
   "source": []
  },
  {
   "cell_type": "markdown",
   "id": "25237b9d",
   "metadata": {},
   "source": [
    "## Stack"
   ]
  },
  {
   "cell_type": "markdown",
   "id": "005b1b67",
   "metadata": {},
   "source": [
    "### [20. Valid Parentheses](https://leetcode.com/problems/valid-parentheses/) - Easy"
   ]
  },
  {
   "cell_type": "code",
   "execution_count": 18,
   "id": "2bc59558",
   "metadata": {},
   "outputs": [],
   "source": [
    "d = {')': '(', ']': '[', '}': '{'}\n",
    "\n",
    "class Solution:\n",
    "    def isValid(self, s: str) -> bool:\n",
    "        stack = []\n",
    "        for c in s:\n",
    "            if c in d.values():  # {'(', '[', '{'}\n",
    "                stack.append(c)\n",
    "            elif c in d:         # {')', ']', '}'}\n",
    "                if not stack or stack.pop() != d[c]:\n",
    "                    return False\n",
    "        return not stack\n",
    "\n",
    "assert Solution().isValid(\"()[]{}\") == True\n",
    "assert Solution().isValid(\"(\") == False"
   ]
  },
  {
   "cell_type": "code",
   "execution_count": null,
   "id": "6d0c6abc",
   "metadata": {},
   "outputs": [],
   "source": []
  },
  {
   "cell_type": "code",
   "execution_count": null,
   "id": "bc9dfe75",
   "metadata": {},
   "outputs": [],
   "source": []
  },
  {
   "cell_type": "markdown",
   "id": "38cc78c7",
   "metadata": {},
   "source": [
    "### [71. Simplify Path](https://leetcode.com/problems/simplify-path/) - Medium"
   ]
  },
  {
   "cell_type": "code",
   "execution_count": 19,
   "id": "cde46eb2",
   "metadata": {},
   "outputs": [],
   "source": [
    "class Solution:\n",
    "    def simplifyPath(self, path: str) -> str:\n",
    "        stack = []\n",
    "        for p in path.split('/'):\n",
    "            if stack and p==\"..\":\n",
    "                stack.pop()\n",
    "            elif p not in {'', '.', '..'}:\n",
    "                stack.append(p)\n",
    "        return '/' + '/'.join(stack)\n",
    "\n",
    "assert Solution().simplifyPath(\"/home/\") == \"/home\"\n",
    "assert Solution().simplifyPath(\"/home//foo/\") == \"/home/foo\"\n",
    "assert Solution().simplifyPath(\"/home/user/Documents/../Pictures\") == \"/home/user/Pictures\"\n",
    "assert Solution().simplifyPath(\"/../\") == \"/\"\n",
    "assert Solution().simplifyPath(\"/.../a/../b/c/../d/./\") == \"/.../b/d\""
   ]
  },
  {
   "cell_type": "code",
   "execution_count": null,
   "id": "512db3f5",
   "metadata": {},
   "outputs": [],
   "source": []
  },
  {
   "cell_type": "code",
   "execution_count": null,
   "id": "46dd4fe6",
   "metadata": {},
   "outputs": [],
   "source": []
  },
  {
   "cell_type": "markdown",
   "id": "69b542a4",
   "metadata": {},
   "source": [
    "### [155. Min Stack](https://leetcode.com/problems/min-stack/) - Medium"
   ]
  },
  {
   "cell_type": "code",
   "execution_count": 20,
   "id": "98a9121c",
   "metadata": {},
   "outputs": [],
   "source": [
    "class MinStack:\n",
    "    def __init__(self):\n",
    "        self.stack = []\n",
    "        self.mins = []\n",
    "        \n",
    "    def push(self, val: int) -> None:\n",
    "        self.stack.append(val)\n",
    "        if self.mins:\n",
    "            val = min(val, self.mins[-1])\n",
    "        self.mins.append(val)\n",
    "\n",
    "    def pop(self) -> None:\n",
    "        val = self.stack.pop()\n",
    "        return self.mins.pop()\n",
    "\n",
    "    def top(self) -> int:\n",
    "        return self.stack[-1]\n",
    "\n",
    "    def getMin(self) -> int:\n",
    "        return self.mins[-1]\n",
    "\n",
    "\n",
    "# Your MinStack object will be instantiated and called as such:\n",
    "minStack = MinStack()\n",
    "minStack.push(-2)\n",
    "minStack.push(0)\n",
    "minStack.push(-3)\n",
    "assert minStack.getMin() == -3 # return -3\n",
    "assert minStack.pop() == -3\n",
    "assert minStack.top() == 0    # return 0\n",
    "assert minStack.getMin() == -2 # return -2"
   ]
  },
  {
   "cell_type": "code",
   "execution_count": null,
   "id": "3e63938a",
   "metadata": {},
   "outputs": [],
   "source": []
  },
  {
   "cell_type": "code",
   "execution_count": null,
   "id": "ce34186c",
   "metadata": {},
   "outputs": [],
   "source": []
  },
  {
   "cell_type": "markdown",
   "id": "71e1cfd7",
   "metadata": {},
   "source": [
    "### [150. Evaluate Reverse Polish Notation](https://leetcode.com/problems/evaluate-reverse-polish-notation/) - Medium"
   ]
  },
  {
   "cell_type": "code",
   "execution_count": 21,
   "id": "698365d8",
   "metadata": {},
   "outputs": [],
   "source": [
    "class Solution:\n",
    "    def evalRPN(self, tokens: List[str]) -> int:\n",
    "        stack = []\n",
    "        for token in tokens:\n",
    "            if token in {'+', '-', '*', '/'}:\n",
    "                a, b = stack.pop(), stack.pop()\n",
    "                match token:\n",
    "                    case '+':\n",
    "                        stack.append(b+a)\n",
    "                    case '-':\n",
    "                        stack.append(b-a)\n",
    "                    case '*':\n",
    "                        stack.append(b*a)\n",
    "                    case '/':\n",
    "                        stack.append(int(b/a))\n",
    "            else:\n",
    "                stack.append(int(token))\n",
    "        return stack.pop()\n",
    "\n",
    "assert Solution().evalRPN([\"2\",\"1\",\"+\",\"3\",\"*\"]) == 9\n",
    "assert Solution().evalRPN([\"4\",\"13\",\"5\",\"/\",\"+\"]) == 6\n",
    "assert Solution().evalRPN([\"10\",\"6\",\"9\",\"3\",\"+\",\"-11\",\"*\",\"/\",\"*\",\"17\",\"+\",\"5\",\"+\"]) == 22"
   ]
  },
  {
   "cell_type": "code",
   "execution_count": null,
   "id": "e3fe53ee",
   "metadata": {},
   "outputs": [],
   "source": []
  },
  {
   "cell_type": "code",
   "execution_count": null,
   "id": "8b240261",
   "metadata": {},
   "outputs": [],
   "source": []
  },
  {
   "cell_type": "code",
   "execution_count": null,
   "id": "f49b2841",
   "metadata": {},
   "outputs": [],
   "source": []
  },
  {
   "cell_type": "code",
   "execution_count": null,
   "id": "213be8c7",
   "metadata": {},
   "outputs": [],
   "source": []
  },
  {
   "cell_type": "markdown",
   "id": "665b414c",
   "metadata": {},
   "source": [
    "## Bit Manipulation"
   ]
  },
  {
   "cell_type": "markdown",
   "id": "e33dfe53",
   "metadata": {},
   "source": [
    "### [67. Add Binary](https://leetcode.com/problems/add-binary/) - Easy"
   ]
  },
  {
   "cell_type": "code",
   "execution_count": 22,
   "id": "e313a3b7",
   "metadata": {},
   "outputs": [],
   "source": [
    "class Solution:\n",
    "    def addBinary2(self, a: str, b: str) -> str:\n",
    "        return f'{int(a,2)+int(b,2):b}'\n",
    "    \n",
    "    def addBinary(self, a: str, b: str) -> str:\n",
    "        i, j = len(a)-1, len(b)-1\n",
    "        res, c = \"\", 0\n",
    "        while i>=0 or j>=0 or c:\n",
    "            if i>=0:\n",
    "                c += a[i]=='1'\n",
    "                i-=1\n",
    "            if j>=0:\n",
    "                c += b[j]=='1'\n",
    "                j-=1\n",
    "            res +=  str(c%2)\n",
    "            c //= 2\n",
    "        return res[::-1]\n",
    "\n",
    "assert Solution().addBinary(\"11\", \"1\") == \"100\"\n",
    "assert Solution().addBinary(\"1010\", \"1011\") == \"10101\""
   ]
  },
  {
   "cell_type": "code",
   "execution_count": null,
   "id": "62485c74",
   "metadata": {},
   "outputs": [],
   "source": []
  },
  {
   "cell_type": "markdown",
   "id": "677d9b67",
   "metadata": {},
   "source": [
    "### [190. Reverse Bits](https://leetcode.com/problems/reverse-bits/) - Easy"
   ]
  },
  {
   "cell_type": "code",
   "execution_count": 23,
   "id": "449ad681",
   "metadata": {},
   "outputs": [],
   "source": [
    "class Solution:\n",
    "    def reverseBits2(self, n: int) -> int:\n",
    "        return int(f'{n:032b}'[::-1],2)\n",
    "    \n",
    "    def reverseBits(self, n: int) -> int:\n",
    "        res = 0\n",
    "        for i in range(32):\n",
    "            res = (res<<1) + (n&1)\n",
    "            n>>=1\n",
    "        return res\n",
    "\n",
    "assert Solution().reverseBits(43261596) == 964176192\n",
    "assert Solution().reverseBits(4294967293) == 3221225471"
   ]
  },
  {
   "cell_type": "code",
   "execution_count": null,
   "id": "28bf24a4",
   "metadata": {},
   "outputs": [],
   "source": []
  },
  {
   "cell_type": "markdown",
   "id": "d5f48fc3",
   "metadata": {},
   "source": [
    "### [191. Number of 1 Bits](https://leetcode.com/problems/number-of-1-bits/) - Easy"
   ]
  },
  {
   "cell_type": "code",
   "execution_count": 24,
   "id": "baf463b2",
   "metadata": {},
   "outputs": [],
   "source": [
    "class Solution:\n",
    "    def hammingWeight(self, n: int) -> int:  # 35ms, 16.5MB\n",
    "        counter = collections.Counter(bin(n)[2:])\n",
    "        return counter.get(\"1\", 0)\n",
    "    \n",
    "    def hammingWeight1(self, n: int) -> int:  # 37ms, 16.5MB\n",
    "        s = 0\n",
    "        while n:\n",
    "            s += (n&1)\n",
    "            n>>=1\n",
    "        return s\n",
    "    \n",
    "    def hammingWeight2(self, n: int) -> int:  # 40ms, 16.5MB\n",
    "        return sum(map(int, list(f'{n:b}')))\n",
    "    \n",
    "    def hammingWeight3(self, n: int) -> int:  # 38ms, 16.6MB\n",
    "        return f'{n:b}'.count('1')\n",
    "\n",
    "assert Solution().hammingWeight(11) == 3\n",
    "assert Solution().hammingWeight(128) == 1\n",
    "assert Solution().hammingWeight(2147483645) == 30"
   ]
  },
  {
   "cell_type": "code",
   "execution_count": null,
   "id": "61fdd182",
   "metadata": {},
   "outputs": [],
   "source": []
  },
  {
   "cell_type": "markdown",
   "id": "9a0f746f",
   "metadata": {},
   "source": [
    "### [136. Single Number](https://leetcode.com/problems/single-number/) - Easy"
   ]
  },
  {
   "cell_type": "code",
   "execution_count": 25,
   "id": "ba04a638",
   "metadata": {},
   "outputs": [],
   "source": [
    "class Solution:\n",
    "    def singleNumber(self, nums: List[int]) -> int:  # 98 ms, 19 MB\n",
    "        ans = 0\n",
    "        for i in nums:\n",
    "            ans ^= i\n",
    "        return ans\n",
    "        # return reduce(lambda total, el: total ^ el, nums)  # 105 ms, 19 MB\n",
    "    \n",
    "    def singleNumber2(self, nums: List[int]) -> int:  # 114 ms, 18.9 MB\n",
    "        nums.sort()\n",
    "        L = len(nums)\n",
    "        if L%2:\n",
    "            nums.append(float('inf'))\n",
    "        for i in range(0, L, 2):\n",
    "            if nums[i]!=nums[i+1]:\n",
    "                return nums[i]\n",
    "\n",
    "assert Solution().singleNumber([2,2,1]) == 1\n",
    "assert Solution().singleNumber([4,1,2,1,2]) == 4\n",
    "assert Solution().singleNumber([1]) == 1"
   ]
  },
  {
   "cell_type": "code",
   "execution_count": null,
   "id": "9a4260fb",
   "metadata": {},
   "outputs": [],
   "source": []
  },
  {
   "cell_type": "markdown",
   "id": "80dc0cc9",
   "metadata": {},
   "source": [
    "### [137. Single Number II](https://leetcode.com/problems/single-number-ii/) - Medium"
   ]
  },
  {
   "cell_type": "code",
   "execution_count": 26,
   "id": "57354c83",
   "metadata": {},
   "outputs": [],
   "source": [
    "class Solution:\n",
    "    def singleNumber(self, nums: List[int]) -> int: # 55 ms, 18.8 MB\n",
    "        return (3 * sum(set(nums)) - sum(nums)) // 2\n",
    "\n",
    "    def singleNumber2(self, nums: List[int]) -> int: # 61 ms, 18.3 MB\n",
    "        nums.sort()\n",
    "        nums.extend([0,0])\n",
    "        for i in range(0, len(nums), 3):\n",
    "            if nums[i]!=nums[i+2]:\n",
    "                return nums[i]\n",
    "    \n",
    "    def singleNumber3(self, nums: List[int]) -> int: # 49 ms, 18.5 MB\n",
    "        ones = 0\n",
    "        twos = 0\n",
    "        for num in nums:\n",
    "            ones = (ones ^ num) & ~twos\n",
    "            twos = (twos ^ num) & ~ones\n",
    "        return ones\n",
    "\n",
    "\n",
    "assert Solution().singleNumber([2,2,3,2]) == 3\n",
    "assert Solution().singleNumber([0,1,0,1,0,1,99]) == 99"
   ]
  },
  {
   "cell_type": "code",
   "execution_count": null,
   "id": "92060093",
   "metadata": {},
   "outputs": [],
   "source": []
  },
  {
   "cell_type": "markdown",
   "id": "fee79219",
   "metadata": {},
   "source": [
    "### [201. Bitwise AND of Numbers Range](https://leetcode.com/problems/bitwise-and-of-numbers-range/) - Medium"
   ]
  },
  {
   "cell_type": "code",
   "execution_count": 27,
   "id": "36d22579",
   "metadata": {},
   "outputs": [],
   "source": [
    "class Solution:\n",
    "    def rangeBitwiseAnd(self, left: int, right: int) -> int:  # 41 ms, 16.5 MB\n",
    "        while right>left:\n",
    "            right &=(right-1)\n",
    "        return right\n",
    "    \n",
    "    def rangeBitwiseAnd1(self, left: int, right: int) -> int:  # 63 ms, 16.4 MB\n",
    "        cnt = 0\n",
    "        while left != right:\n",
    "            left >>= 1\n",
    "            right >>= 1\n",
    "            cnt += 1\n",
    "        return left << cnt\n",
    "    \n",
    "    def rangeBitwiseAnd2(self, left: int, right: int) -> int:  # 45 ms, 16.4 MB\n",
    "        a = f'{left:b}'\n",
    "        L = len(a)\n",
    "        b = f'{right:b}'\n",
    "        if L < len(b):\n",
    "            return 0\n",
    "        res = 0\n",
    "        for i in range(L):\n",
    "            if a[i]!=b[i]:\n",
    "                break\n",
    "            res += (int(a[i])<<(L-1-i))\n",
    "        return res\n",
    "\n",
    "assert Solution().rangeBitwiseAnd(5, 7) == 4\n",
    "assert Solution().rangeBitwiseAnd(0, 0) == 0\n",
    "assert Solution().rangeBitwiseAnd(2, 2) == 2\n",
    "assert Solution().rangeBitwiseAnd(1, 2147483647) == 0"
   ]
  },
  {
   "cell_type": "code",
   "execution_count": null,
   "id": "b7b326c6",
   "metadata": {},
   "outputs": [],
   "source": []
  },
  {
   "cell_type": "code",
   "execution_count": null,
   "id": "bbdfa9af",
   "metadata": {},
   "outputs": [],
   "source": []
  },
  {
   "cell_type": "code",
   "execution_count": null,
   "id": "29c6bcd3",
   "metadata": {},
   "outputs": [],
   "source": []
  },
  {
   "cell_type": "code",
   "execution_count": null,
   "id": "d3aa351b",
   "metadata": {},
   "outputs": [],
   "source": []
  },
  {
   "cell_type": "code",
   "execution_count": null,
   "id": "0e120413",
   "metadata": {},
   "outputs": [],
   "source": []
  }
 ],
 "metadata": {
  "kernelspec": {
   "display_name": "Python 3 (ipykernel)",
   "language": "python",
   "name": "python3"
  },
  "language_info": {
   "codemirror_mode": {
    "name": "ipython",
    "version": 3
   },
   "file_extension": ".py",
   "mimetype": "text/x-python",
   "name": "python",
   "nbconvert_exporter": "python",
   "pygments_lexer": "ipython3",
   "version": "3.12.3"
  }
 },
 "nbformat": 4,
 "nbformat_minor": 5
}
